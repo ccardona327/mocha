{
 "cells": [
  {
   "cell_type": "code",
   "execution_count": 1,
   "metadata": {},
   "outputs": [
    {
     "name": "stdout",
     "output_type": "stream",
     "text": [
      "Configuring Mocha...\n",
      " * CUDA       disabled by default\n",
      " * Native Ext disabled by default\n",
      "Mocha configured, continue loading module...\n",
      "DefaultBackend = Mocha.CPUBackend\n"
     ]
    }
   ],
   "source": [
    "using Mocha"
   ]
  },
  {
   "cell_type": "code",
   "execution_count": 2,
   "metadata": {},
   "outputs": [
    {
     "data": {
      "text/plain": [
       "\"snapshots/cc_net_2/\""
      ]
     },
     "execution_count": 2,
     "metadata": {},
     "output_type": "execute_result"
    }
   ],
   "source": [
    "train_filename = \"cc_train.txt\"\n",
    "test_filename = \"cc_test.txt\"\n",
    "exp_dir = \"snapshots/cc_net_2/\""
   ]
  },
  {
   "cell_type": "code",
   "execution_count": 3,
   "metadata": {},
   "outputs": [
    {
     "data": {
      "text/plain": [
       "Mocha.HDF5DataLayer(train-data)"
      ]
     },
     "execution_count": 3,
     "metadata": {},
     "output_type": "execute_result"
    }
   ],
   "source": [
    "data_layer  = HDF5DataLayer(name=\"train-data\", source=\"cc_data/txt/$train_filename\",\n",
    "batch_size=64, shuffle=true)"
   ]
  },
  {
   "cell_type": "code",
   "execution_count": 4,
   "metadata": {},
   "outputs": [
    {
     "data": {
      "text/plain": [
       "Mocha.InnerProductLayer(ip5)"
      ]
     },
     "execution_count": 4,
     "metadata": {},
     "output_type": "execute_result"
    }
   ],
   "source": [
    "fc1_layer  = InnerProductLayer(name=\"ip1\", output_dim=256,\n",
    "neuron=Neurons.ReLU(), bottoms=[:data], tops=[:ip1])\n",
    "fc2_layer  = InnerProductLayer(name=\"ip2\", output_dim=256,\n",
    "neuron=Neurons.ReLU(), bottoms=[:ip1], tops=[:ip2])\n",
    "\n",
    "fc3_layer  = InnerProductLayer(name=\"ip3\", output_dim=64,\n",
    "neuron=Neurons.ReLU(), bottoms=[:ip2], tops=[:ip3])\n",
    "\n",
    "fc4_layer  = InnerProductLayer(name=\"ip4\", output_dim=64,\n",
    "neuron=Neurons.Sigmoid(), bottoms=[:ip3], tops=[:ip4])\n",
    "\n",
    "fc5_layer  = InnerProductLayer(name=\"ip5\", output_dim=32,\n",
    "neuron=Neurons.Sigmoid(), bottoms=[:ip4], tops=[:ip5])"
   ]
  },
  {
   "cell_type": "code",
   "execution_count": 5,
   "metadata": {},
   "outputs": [
    {
     "data": {
      "text/plain": [
       "Mocha.InnerProductLayer(ip6)"
      ]
     },
     "execution_count": 5,
     "metadata": {},
     "output_type": "execute_result"
    }
   ],
   "source": [
    "fc6_layer  = InnerProductLayer(name=\"ip6\", output_dim=2,\n",
    "bottoms=[:ip5], tops=[:ip6])"
   ]
  },
  {
   "cell_type": "code",
   "execution_count": 6,
   "metadata": {},
   "outputs": [],
   "source": [
    "# drop_input  = DropoutLayer(name=\"drop_in\", bottoms=[:data], ratio=0.2)\n",
    "# drop_fc1 = DropoutLayer(name=\"drop_fc1\", bottoms=[:ip1], ratio=0.5)\n",
    "# drop_fc2 = DropoutLayer(name=\"drop_fc2\", bottoms=[:ip2], ratio=0.5)\n",
    "# drop_fc3 = DropoutLayer(name=\"drop_fc3\", bottoms=[:ip3], ratio=0.5)\n",
    "# drop_fc4 = DropoutLayer(name=\"drop_fc4\", bottoms=[:ip4], ratio=0.5)"
   ]
  },
  {
   "cell_type": "code",
   "execution_count": 7,
   "metadata": {},
   "outputs": [
    {
     "data": {
      "text/plain": [
       "Mocha.SoftmaxLossLayer(loss)"
      ]
     },
     "execution_count": 7,
     "metadata": {},
     "output_type": "execute_result"
    }
   ],
   "source": [
    "loss_layer = SoftmaxLossLayer(name=\"loss\", bottoms=[:ip6,:label])"
   ]
  },
  {
   "cell_type": "code",
   "execution_count": 8,
   "metadata": {},
   "outputs": [],
   "source": [
    "backend = CPUBackend()\n",
    "init(backend)"
   ]
  },
  {
   "cell_type": "code",
   "execution_count": 9,
   "metadata": {},
   "outputs": [],
   "source": [
    "common_layers = [fc1_layer, fc2_layer, fc3_layer, fc4_layer, fc5_layer, fc6_layer]\n",
    "# drop_layers = [drop_input, drop_fc1, drop_fc2, drop_fc3, drop_fc4] ;"
   ]
  },
  {
   "cell_type": "code",
   "execution_count": 10,
   "metadata": {},
   "outputs": [
    {
     "name": "stdout",
     "output_type": "stream",
     "text": [
      "[2018-10-14T22:02:12 | info | Mocha]: Constructing net cc-train on Mocha.CPUBackend...\n",
      "[2018-10-14T22:02:12 | info | Mocha]: Topological sorting 8 layers...\n",
      "[2018-10-14T22:02:12 | info | Mocha]: Setup layers...\n",
      "[2018-10-14T22:02:15 | info | Mocha]: Network constructed!\n"
     ]
    }
   ],
   "source": [
    "net = Net(\"cc-train\", backend, [data_layer, common_layers..., loss_layer]) ;"
   ]
  },
  {
   "cell_type": "code",
   "execution_count": 11,
   "metadata": {},
   "outputs": [
    {
     "data": {
      "text/plain": [
       "Dict{Symbol,Any} with 5 entries:\n",
       "  :lr_policy  => Mocha.LRPolicy.Inv(0.03, 0.0001, 0.75)\n",
       "  :max_iter   => 10000\n",
       "  :load_from  => \"snapshots/cc_net_2/\"\n",
       "  :regu_coef  => 0.0005\n",
       "  :mom_policy => Mocha.MomPolicy.Fixed(0.9)"
      ]
     },
     "execution_count": 11,
     "metadata": {},
     "output_type": "execute_result"
    }
   ],
   "source": [
    "method = SGD()\n",
    "params = make_solver_parameters(method, max_iter=10000, regu_coef=0.0005,\n",
    "    mom_policy=MomPolicy.Fixed(0.9),\n",
    "    lr_policy=LRPolicy.Inv(0.03, 0.0001, 0.75),\n",
    "    load_from=exp_dir)"
   ]
  },
  {
   "cell_type": "code",
   "execution_count": 12,
   "metadata": {},
   "outputs": [
    {
     "data": {
      "text/plain": [
       "Mocha.Solver{Mocha.SGD}(Mocha.SGD(), Dict{Symbol,Any}(Pair{Symbol,Any}(:lr_policy, Mocha.LRPolicy.Inv(0.03, 0.0001, 0.75)),Pair{Symbol,Any}(:max_iter, 10000),Pair{Symbol,Any}(:load_from, \"snapshots/cc_net_2/\"),Pair{Symbol,Any}(:regu_coef, 0.0005),Pair{Symbol,Any}(:mom_policy, Mocha.MomPolicy.Fixed(0.9))), Mocha.CoffeeLounge(\"\", 1, :merge, Dict{AbstractString,Dict{Int64,AbstractFloat}}(), Mocha.CoffeeBreak[], false, 0, 0))"
      ]
     },
     "execution_count": 12,
     "metadata": {},
     "output_type": "execute_result"
    }
   ],
   "source": [
    "solver = Solver(method, params)"
   ]
  },
  {
   "cell_type": "code",
   "execution_count": 13,
   "metadata": {},
   "outputs": [
    {
     "data": {
      "text/plain": [
       ":merge"
      ]
     },
     "execution_count": 13,
     "metadata": {},
     "output_type": "execute_result"
    }
   ],
   "source": [
    "setup_coffee_lounge(solver, save_into=\"$exp_dir/statistics.jld\", every_n_iter=1000)"
   ]
  },
  {
   "cell_type": "code",
   "execution_count": 14,
   "metadata": {},
   "outputs": [
    {
     "data": {
      "text/plain": [
       "2-element Array{Mocha.CoffeeBreak,1}:\n",
       " Mocha.CoffeeBreak(Mocha.TrainingSummary(Any[:iter, :obj_val]), 100, 0)\n",
       " Mocha.CoffeeBreak(Mocha.Snapshot(\"snapshots/cc_net_2/\"), 500, 0)      "
      ]
     },
     "execution_count": 14,
     "metadata": {},
     "output_type": "execute_result"
    }
   ],
   "source": [
    "add_coffee_break(solver, TrainingSummary(), every_n_iter=100)\n",
    "add_coffee_break(solver, Snapshot(exp_dir), every_n_iter=500)"
   ]
  },
  {
   "cell_type": "code",
   "execution_count": 15,
   "metadata": {},
   "outputs": [
    {
     "name": "stdout",
     "output_type": "stream",
     "text": [
      "[2018-10-14T22:02:18 | info | Mocha]: Constructing net cc-test on Mocha.CPUBackend...\n",
      "[2018-10-14T22:02:18 | info | Mocha]: Topological sorting 8 layers...\n",
      "[2018-10-14T22:02:18 | info | Mocha]: Setup layers...\n",
      "[2018-10-14T22:02:18 | info | Mocha]: Network constructed!\n"
     ]
    }
   ],
   "source": [
    "data_layer_test = HDF5DataLayer(name=\"test-data\", source=\"cc_data/txt/$test_filename\", batch_size=100)\n",
    "acc_layer = AccuracyLayer(name=\"test-accuracy\", bottoms=[:ip6, :label])\n",
    "test_net = Net(\"cc-test\", backend, [data_layer_test, common_layers..., acc_layer]) ;"
   ]
  },
  {
   "cell_type": "code",
   "execution_count": 16,
   "metadata": {},
   "outputs": [],
   "source": [
    "add_coffee_break(solver, ValidationPerformance(test_net), every_n_iter=1000);"
   ]
  },
  {
   "cell_type": "code",
   "execution_count": 17,
   "metadata": {},
   "outputs": [
    {
     "name": "stdout",
     "output_type": "stream",
     "text": [
      "[2018-10-14T22:02:29 | info | Mocha]: Snapshot directory snapshots/cc_net_2/ already exists\n",
      "[2018-10-14T22:02:29 | info | Mocha]:  TRAIN iter=000000 obj_val=0.70940685\n",
      "[2018-10-14T22:02:30 | info | Mocha]: Saving snapshot to snapshot-000000.jld...\n",
      "[2018-10-14T22:02:32 | info | Mocha]: \n",
      "[2018-10-14T22:02:32 | info | Mocha]: ## Performance on Validation Set after 0 iterations\n",
      "[2018-10-14T22:02:32 | info | Mocha]: ---------------------------------------------------------\n",
      "[2018-10-14T22:02:33 | info | Mocha]:   Accuracy (avg over 6000) = 27.1167%\n",
      "[2018-10-14T22:02:33 | info | Mocha]: ---------------------------------------------------------\n",
      "[2018-10-14T22:02:33 | info | Mocha]: \n",
      "[2018-10-14T22:02:35 | info | Mocha]:  TRAIN iter=000100 obj_val=0.64727199\n",
      "[2018-10-14T22:02:35 | info | Mocha]:  TRAIN iter=000200 obj_val=0.49666008\n",
      "[2018-10-14T22:02:35 | info | Mocha]:  TRAIN iter=000300 obj_val=0.52714467\n",
      "[2018-10-14T22:02:36 | info | Mocha]:  TRAIN iter=000400 obj_val=0.46459329\n",
      "[2018-10-14T22:02:36 | info | Mocha]:  TRAIN iter=000500 obj_val=0.47102448\n",
      "[2018-10-14T22:02:36 | info | Mocha]: Saving snapshot to snapshot-000500.jld...\n",
      "[2018-10-14T22:02:36 | info | Mocha]:  TRAIN iter=000600 obj_val=0.48744637\n",
      "[2018-10-14T22:02:36 | info | Mocha]:  TRAIN iter=000700 obj_val=0.68886667\n",
      "[2018-10-14T22:02:36 | info | Mocha]:  TRAIN iter=000800 obj_val=0.60054845\n",
      "[2018-10-14T22:02:37 | info | Mocha]:  TRAIN iter=000900 obj_val=0.50513154\n",
      "[2018-10-14T22:02:37 | info | Mocha]:  TRAIN iter=001000 obj_val=0.52783567\n",
      "[2018-10-14T22:02:37 | info | Mocha]: Saving snapshot to snapshot-001000.jld...\n",
      "[2018-10-14T22:02:37 | info | Mocha]: \n",
      "[2018-10-14T22:02:37 | info | Mocha]: ## Performance on Validation Set after 1000 iterations\n",
      "[2018-10-14T22:02:37 | info | Mocha]: ---------------------------------------------------------\n",
      "[2018-10-14T22:02:37 | info | Mocha]:   Accuracy (avg over 6000) = 78.1333%\n",
      "[2018-10-14T22:02:37 | info | Mocha]: ---------------------------------------------------------\n",
      "[2018-10-14T22:02:37 | info | Mocha]: \n",
      "[2018-10-14T22:02:37 | info | Mocha]:  TRAIN iter=001100 obj_val=0.54488158\n",
      "[2018-10-14T22:02:37 | info | Mocha]:  TRAIN iter=001200 obj_val=0.63114876\n",
      "[2018-10-14T22:02:37 | info | Mocha]:  TRAIN iter=001300 obj_val=0.52533001\n",
      "[2018-10-14T22:02:38 | info | Mocha]:  TRAIN iter=001400 obj_val=0.61081767\n",
      "[2018-10-14T22:02:38 | info | Mocha]:  TRAIN iter=001500 obj_val=0.42634410\n",
      "[2018-10-14T22:02:38 | info | Mocha]: Saving snapshot to snapshot-001500.jld...\n",
      "[2018-10-14T22:02:38 | info | Mocha]:  TRAIN iter=001600 obj_val=0.61394346\n",
      "[2018-10-14T22:02:38 | info | Mocha]:  TRAIN iter=001700 obj_val=0.37295520\n",
      "[2018-10-14T22:02:39 | info | Mocha]:  TRAIN iter=001800 obj_val=0.56432593\n",
      "[2018-10-14T22:02:39 | info | Mocha]:  TRAIN iter=001900 obj_val=0.56233704\n",
      "[2018-10-14T22:02:39 | info | Mocha]:  TRAIN iter=002000 obj_val=0.46805352\n",
      "[2018-10-14T22:02:39 | info | Mocha]: Saving snapshot to snapshot-002000.jld...\n",
      "[2018-10-14T22:02:39 | info | Mocha]: \n",
      "[2018-10-14T22:02:39 | info | Mocha]: ## Performance on Validation Set after 2000 iterations\n",
      "[2018-10-14T22:02:39 | info | Mocha]: ---------------------------------------------------------\n",
      "[2018-10-14T22:02:39 | info | Mocha]:   Accuracy (avg over 6000) = 78.1333%\n",
      "[2018-10-14T22:02:39 | info | Mocha]: ---------------------------------------------------------\n",
      "[2018-10-14T22:02:39 | info | Mocha]: \n",
      "[2018-10-14T22:02:39 | info | Mocha]:  TRAIN iter=002100 obj_val=0.54796600\n",
      "[2018-10-14T22:02:39 | info | Mocha]:  TRAIN iter=002200 obj_val=0.46449569\n",
      "[2018-10-14T22:02:40 | info | Mocha]:  TRAIN iter=002300 obj_val=0.42387578\n",
      "[2018-10-14T22:02:40 | info | Mocha]:  TRAIN iter=002400 obj_val=0.42180195\n",
      "[2018-10-14T22:02:40 | info | Mocha]:  TRAIN iter=002500 obj_val=0.48635134\n",
      "[2018-10-14T22:02:40 | info | Mocha]: Saving snapshot to snapshot-002500.jld...\n",
      "[2018-10-14T22:02:40 | info | Mocha]:  TRAIN iter=002600 obj_val=0.56244725\n",
      "[2018-10-14T22:02:40 | info | Mocha]:  TRAIN iter=002700 obj_val=0.64517707\n",
      "[2018-10-14T22:02:41 | info | Mocha]:  TRAIN iter=002800 obj_val=0.46386641\n",
      "[2018-10-14T22:02:41 | info | Mocha]:  TRAIN iter=002900 obj_val=0.56663680\n",
      "[2018-10-14T22:02:41 | info | Mocha]:  TRAIN iter=003000 obj_val=0.49199682\n",
      "[2018-10-14T22:02:41 | info | Mocha]: Saving snapshot to snapshot-003000.jld...\n",
      "[2018-10-14T22:02:41 | info | Mocha]: \n",
      "[2018-10-14T22:02:41 | info | Mocha]: ## Performance on Validation Set after 3000 iterations\n",
      "[2018-10-14T22:02:41 | info | Mocha]: ---------------------------------------------------------\n",
      "[2018-10-14T22:02:41 | info | Mocha]:   Accuracy (avg over 6000) = 78.1333%\n",
      "[2018-10-14T22:02:41 | info | Mocha]: ---------------------------------------------------------\n",
      "[2018-10-14T22:02:41 | info | Mocha]: \n",
      "[2018-10-14T22:02:42 | info | Mocha]:  TRAIN iter=003100 obj_val=0.53198427\n",
      "[2018-10-14T22:02:42 | info | Mocha]:  TRAIN iter=003200 obj_val=0.58058709\n",
      "[2018-10-14T22:02:42 | info | Mocha]:  TRAIN iter=003300 obj_val=0.52802801\n",
      "[2018-10-14T22:02:42 | info | Mocha]:  TRAIN iter=003400 obj_val=0.59856635\n",
      "[2018-10-14T22:02:42 | info | Mocha]:  TRAIN iter=003500 obj_val=0.63287312\n",
      "[2018-10-14T22:02:42 | info | Mocha]: Saving snapshot to snapshot-003500.jld...\n",
      "[2018-10-14T22:02:43 | info | Mocha]:  TRAIN iter=003600 obj_val=0.67189902\n",
      "[2018-10-14T22:02:43 | info | Mocha]:  TRAIN iter=003700 obj_val=0.63540542\n",
      "[2018-10-14T22:02:43 | info | Mocha]:  TRAIN iter=003800 obj_val=0.50497347\n",
      "[2018-10-14T22:02:43 | info | Mocha]:  TRAIN iter=003900 obj_val=0.54736799\n",
      "[2018-10-14T22:02:44 | info | Mocha]:  TRAIN iter=004000 obj_val=0.56910849\n",
      "[2018-10-14T22:02:44 | info | Mocha]: Saving snapshot to snapshot-004000.jld...\n",
      "[2018-10-14T22:02:44 | info | Mocha]: \n",
      "[2018-10-14T22:02:44 | info | Mocha]: ## Performance on Validation Set after 4000 iterations\n",
      "[2018-10-14T22:02:44 | info | Mocha]: ---------------------------------------------------------\n",
      "[2018-10-14T22:02:44 | info | Mocha]:   Accuracy (avg over 6000) = 78.1333%\n",
      "[2018-10-14T22:02:44 | info | Mocha]: ---------------------------------------------------------\n",
      "[2018-10-14T22:02:44 | info | Mocha]: \n",
      "[2018-10-14T22:02:44 | info | Mocha]:  TRAIN iter=004100 obj_val=0.47115114\n",
      "[2018-10-14T22:02:44 | info | Mocha]:  TRAIN iter=004200 obj_val=0.56465691\n",
      "[2018-10-14T22:02:44 | info | Mocha]:  TRAIN iter=004300 obj_val=0.52590996\n",
      "[2018-10-14T22:02:45 | info | Mocha]:  TRAIN iter=004400 obj_val=0.45098889\n",
      "[2018-10-14T22:02:45 | info | Mocha]:  TRAIN iter=004500 obj_val=0.56891733\n",
      "[2018-10-14T22:02:45 | info | Mocha]: Saving snapshot to snapshot-004500.jld...\n",
      "[2018-10-14T22:02:45 | info | Mocha]:  TRAIN iter=004600 obj_val=0.56496799\n",
      "[2018-10-14T22:02:45 | info | Mocha]:  TRAIN iter=004700 obj_val=0.47211960\n",
      "[2018-10-14T22:02:46 | info | Mocha]:  TRAIN iter=004800 obj_val=0.50943005\n",
      "[2018-10-14T22:02:46 | info | Mocha]:  TRAIN iter=004900 obj_val=0.48854643\n",
      "[2018-10-14T22:02:46 | info | Mocha]:  TRAIN iter=005000 obj_val=0.54592597\n",
      "[2018-10-14T22:02:46 | info | Mocha]: Saving snapshot to snapshot-005000.jld...\n",
      "[2018-10-14T22:02:47 | info | Mocha]: \n",
      "[2018-10-14T22:02:47 | info | Mocha]: ## Performance on Validation Set after 5000 iterations\n",
      "[2018-10-14T22:02:47 | info | Mocha]: ---------------------------------------------------------\n",
      "[2018-10-14T22:02:47 | info | Mocha]:   Accuracy (avg over 6000) = 78.1333%\n",
      "[2018-10-14T22:02:47 | info | Mocha]: ---------------------------------------------------------\n",
      "[2018-10-14T22:02:47 | info | Mocha]: \n",
      "[2018-10-14T22:02:47 | info | Mocha]:  TRAIN iter=005100 obj_val=0.67657495\n",
      "[2018-10-14T22:02:47 | info | Mocha]:  TRAIN iter=005200 obj_val=0.52599782\n",
      "[2018-10-14T22:02:48 | info | Mocha]:  TRAIN iter=005300 obj_val=0.52785647\n",
      "[2018-10-14T22:02:48 | info | Mocha]:  TRAIN iter=005400 obj_val=0.62791830\n",
      "[2018-10-14T22:02:48 | info | Mocha]:  TRAIN iter=005500 obj_val=0.42161754\n",
      "[2018-10-14T22:02:48 | info | Mocha]: Saving snapshot to snapshot-005500.jld...\n",
      "[2018-10-14T22:02:49 | info | Mocha]:  TRAIN iter=005600 obj_val=0.56341314\n",
      "[2018-10-14T22:02:49 | info | Mocha]:  TRAIN iter=005700 obj_val=0.52664214\n",
      "[2018-10-14T22:02:49 | info | Mocha]:  TRAIN iter=005800 obj_val=0.67922693\n",
      "[2018-10-14T22:02:50 | info | Mocha]:  TRAIN iter=005900 obj_val=0.52818584\n"
     ]
    },
    {
     "name": "stdout",
     "output_type": "stream",
     "text": [
      "[2018-10-14T22:02:50 | info | Mocha]:  TRAIN iter=006000 obj_val=0.47732368\n",
      "[2018-10-14T22:02:50 | info | Mocha]: Saving snapshot to snapshot-006000.jld...\n",
      "[2018-10-14T22:02:50 | info | Mocha]: \n",
      "[2018-10-14T22:02:50 | info | Mocha]: ## Performance on Validation Set after 6000 iterations\n",
      "[2018-10-14T22:02:50 | info | Mocha]: ---------------------------------------------------------\n",
      "[2018-10-14T22:02:50 | info | Mocha]:   Accuracy (avg over 6000) = 78.1333%\n",
      "[2018-10-14T22:02:50 | info | Mocha]: ---------------------------------------------------------\n",
      "[2018-10-14T22:02:50 | info | Mocha]: \n",
      "[2018-10-14T22:02:51 | info | Mocha]:  TRAIN iter=006100 obj_val=0.60060340\n",
      "[2018-10-14T22:02:51 | info | Mocha]:  TRAIN iter=006200 obj_val=0.52636528\n",
      "[2018-10-14T22:02:51 | info | Mocha]:  TRAIN iter=006300 obj_val=0.54498464\n",
      "[2018-10-14T22:02:52 | info | Mocha]:  TRAIN iter=006400 obj_val=0.50471437\n",
      "[2018-10-14T22:02:52 | info | Mocha]:  TRAIN iter=006500 obj_val=0.48471397\n",
      "[2018-10-14T22:02:52 | info | Mocha]: Saving snapshot to snapshot-006500.jld...\n",
      "[2018-10-14T22:02:53 | info | Mocha]:  TRAIN iter=006600 obj_val=0.60418528\n",
      "[2018-10-14T22:02:53 | info | Mocha]:  TRAIN iter=006700 obj_val=0.43339923\n",
      "[2018-10-14T22:02:53 | info | Mocha]:  TRAIN iter=006800 obj_val=0.52588910\n",
      "[2018-10-14T22:02:54 | info | Mocha]:  TRAIN iter=006900 obj_val=0.63920248\n",
      "[2018-10-14T22:02:54 | info | Mocha]:  TRAIN iter=007000 obj_val=0.46142060\n",
      "[2018-10-14T22:02:54 | info | Mocha]: Saving snapshot to snapshot-007000.jld...\n",
      "[2018-10-14T22:02:54 | info | Mocha]: \n",
      "[2018-10-14T22:02:54 | info | Mocha]: ## Performance on Validation Set after 7000 iterations\n",
      "[2018-10-14T22:02:54 | info | Mocha]: ---------------------------------------------------------\n",
      "[2018-10-14T22:02:54 | info | Mocha]:   Accuracy (avg over 6000) = 78.1333%\n",
      "[2018-10-14T22:02:54 | info | Mocha]: ---------------------------------------------------------\n",
      "[2018-10-14T22:02:54 | info | Mocha]: \n",
      "[2018-10-14T22:02:54 | info | Mocha]:  TRAIN iter=007100 obj_val=0.52555770\n",
      "[2018-10-14T22:02:55 | info | Mocha]:  TRAIN iter=007200 obj_val=0.52626312\n",
      "[2018-10-14T22:02:55 | info | Mocha]:  TRAIN iter=007300 obj_val=0.50534987\n",
      "[2018-10-14T22:02:55 | info | Mocha]:  TRAIN iter=007400 obj_val=0.48374596\n",
      "[2018-10-14T22:02:56 | info | Mocha]:  TRAIN iter=007500 obj_val=0.46028158\n",
      "[2018-10-14T22:02:56 | info | Mocha]: Saving snapshot to snapshot-007500.jld...\n",
      "[2018-10-14T22:02:56 | info | Mocha]:  TRAIN iter=007600 obj_val=0.56783801\n",
      "[2018-10-14T22:02:56 | info | Mocha]:  TRAIN iter=007700 obj_val=0.54474235\n",
      "[2018-10-14T22:02:57 | info | Mocha]:  TRAIN iter=007800 obj_val=0.52813333\n",
      "[2018-10-14T22:02:57 | info | Mocha]:  TRAIN iter=007900 obj_val=0.54596430\n",
      "[2018-10-14T22:02:57 | info | Mocha]:  TRAIN iter=008000 obj_val=0.54450995\n",
      "[2018-10-14T22:02:57 | info | Mocha]: Saving snapshot to snapshot-008000.jld...\n",
      "[2018-10-14T22:02:57 | info | Mocha]: \n",
      "[2018-10-14T22:02:57 | info | Mocha]: ## Performance on Validation Set after 8000 iterations\n",
      "[2018-10-14T22:02:57 | info | Mocha]: ---------------------------------------------------------\n",
      "[2018-10-14T22:02:57 | info | Mocha]:   Accuracy (avg over 6000) = 78.1333%\n",
      "[2018-10-14T22:02:57 | info | Mocha]: ---------------------------------------------------------\n",
      "[2018-10-14T22:02:57 | info | Mocha]: \n",
      "[2018-10-14T22:02:58 | info | Mocha]:  TRAIN iter=008100 obj_val=0.42809919\n",
      "[2018-10-14T22:02:58 | info | Mocha]:  TRAIN iter=008200 obj_val=0.50585377\n",
      "[2018-10-14T22:02:58 | info | Mocha]:  TRAIN iter=008300 obj_val=0.48990387\n",
      "[2018-10-14T22:02:59 | info | Mocha]:  TRAIN iter=008400 obj_val=0.52551687\n",
      "[2018-10-14T22:02:59 | info | Mocha]:  TRAIN iter=008500 obj_val=0.54473329\n",
      "[2018-10-14T22:02:59 | info | Mocha]: Saving snapshot to snapshot-008500.jld...\n",
      "[2018-10-14T22:02:59 | info | Mocha]:  TRAIN iter=008600 obj_val=0.45306236\n",
      "[2018-10-14T22:02:59 | info | Mocha]:  TRAIN iter=008700 obj_val=0.36784092\n",
      "[2018-10-14T22:03:00 | info | Mocha]:  TRAIN iter=008800 obj_val=0.40343603\n",
      "[2018-10-14T22:03:00 | info | Mocha]:  TRAIN iter=008900 obj_val=0.47017527\n",
      "[2018-10-14T22:03:00 | info | Mocha]:  TRAIN iter=009000 obj_val=0.43399417\n",
      "[2018-10-14T22:03:00 | info | Mocha]: Saving snapshot to snapshot-009000.jld...\n",
      "[2018-10-14T22:03:00 | info | Mocha]: \n",
      "[2018-10-14T22:03:00 | info | Mocha]: ## Performance on Validation Set after 9000 iterations\n",
      "[2018-10-14T22:03:00 | info | Mocha]: ---------------------------------------------------------\n",
      "[2018-10-14T22:03:00 | info | Mocha]:   Accuracy (avg over 6000) = 78.1333%\n",
      "[2018-10-14T22:03:00 | info | Mocha]: ---------------------------------------------------------\n",
      "[2018-10-14T22:03:00 | info | Mocha]: \n",
      "[2018-10-14T22:03:01 | info | Mocha]:  TRAIN iter=009100 obj_val=0.61996233\n",
      "[2018-10-14T22:03:01 | info | Mocha]:  TRAIN iter=009200 obj_val=0.55080473\n",
      "[2018-10-14T22:03:01 | info | Mocha]:  TRAIN iter=009300 obj_val=0.56455839\n",
      "[2018-10-14T22:03:02 | info | Mocha]:  TRAIN iter=009400 obj_val=0.52533048\n",
      "[2018-10-14T22:03:02 | info | Mocha]:  TRAIN iter=009500 obj_val=0.49189901\n",
      "[2018-10-14T22:03:02 | info | Mocha]: Saving snapshot to snapshot-009500.jld...\n",
      "[2018-10-14T22:03:02 | info | Mocha]:  TRAIN iter=009600 obj_val=0.58903849\n",
      "[2018-10-14T22:03:02 | info | Mocha]:  TRAIN iter=009700 obj_val=0.56617433\n",
      "[2018-10-14T22:03:03 | info | Mocha]:  TRAIN iter=009800 obj_val=0.56482917\n",
      "[2018-10-14T22:03:03 | info | Mocha]:  TRAIN iter=009900 obj_val=0.52537769\n",
      "[2018-10-14T22:03:03 | info | Mocha]:  TRAIN iter=010000 obj_val=0.58502752\n",
      "[2018-10-14T22:03:03 | info | Mocha]: Saving snapshot to snapshot-010000.jld...\n",
      "[2018-10-14T22:03:03 | info | Mocha]: \n",
      "[2018-10-14T22:03:03 | info | Mocha]: ## Performance on Validation Set after 10000 iterations\n",
      "[2018-10-14T22:03:03 | info | Mocha]: ---------------------------------------------------------\n",
      "[2018-10-14T22:03:03 | info | Mocha]:   Accuracy (avg over 6000) = 78.1333%\n",
      "[2018-10-14T22:03:03 | info | Mocha]: ---------------------------------------------------------\n",
      "[2018-10-14T22:03:03 | info | Mocha]: \n",
      " 41.230208 seconds (26.57 M allocations: 1011.766 MiB, 1.14% gc time)\n"
     ]
    },
    {
     "data": {
      "text/plain": [
       "Dict{AbstractString,Array{Mocha.AbstractParameter,1}} with 0 entries"
      ]
     },
     "execution_count": 17,
     "metadata": {},
     "output_type": "execute_result"
    }
   ],
   "source": [
    "@time solve(solver, net)\n",
    "\n",
    "destroy(net)\n",
    "destroy(test_net)\n",
    "shutdown(backend)"
   ]
  },
  {
   "cell_type": "code",
   "execution_count": null,
   "metadata": {},
   "outputs": [],
   "source": []
  }
 ],
 "metadata": {
  "kernelspec": {
   "display_name": "Julia 0.6.0",
   "language": "julia",
   "name": "julia-0.6"
  },
  "language_info": {
   "file_extension": ".jl",
   "mimetype": "application/julia",
   "name": "julia",
   "version": "0.6.4"
  }
 },
 "nbformat": 4,
 "nbformat_minor": 2
}
