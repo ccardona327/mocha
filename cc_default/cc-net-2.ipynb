{
 "cells": [
  {
   "cell_type": "code",
   "execution_count": 79,
   "metadata": {},
   "outputs": [],
   "source": [
    "using Mocha"
   ]
  },
  {
   "cell_type": "code",
   "execution_count": 80,
   "metadata": {},
   "outputs": [
    {
     "data": {
      "text/plain": [
       "\"snapshots/cc_net_2/\""
      ]
     },
     "execution_count": 80,
     "metadata": {},
     "output_type": "execute_result"
    }
   ],
   "source": [
    "train_filename = \"cc_train.txt\"\n",
    "test_filename = \"cc_test.txt\"\n",
    "exp_dir = \"snapshots/cc_net_2/\""
   ]
  },
  {
   "cell_type": "markdown",
   "metadata": {},
   "source": [
    "Data layer is input layer. Source is a text file that points to your HDF5 file or files. Batch size is the size of each mini-batch and shuffle just randomly shuffles the input data which is good for training"
   ]
  },
  {
   "cell_type": "code",
   "execution_count": 81,
   "metadata": {},
   "outputs": [
    {
     "data": {
      "text/plain": [
       "Mocha.HDF5DataLayer(train-data)"
      ]
     },
     "execution_count": 81,
     "metadata": {},
     "output_type": "execute_result"
    }
   ],
   "source": [
    "data_layer  = HDF5DataLayer(name=\"train-data\", source=\"cc_data/txt/$train_filename\",\n",
    "batch_size=64, shuffle=true)"
   ]
  },
  {
   "cell_type": "markdown",
   "metadata": {},
   "source": [
    "This network is just a handful of inner product layers demonstrating different activation functions, dimension, and regularization"
   ]
  },
  {
   "cell_type": "code",
   "execution_count": 82,
   "metadata": {},
   "outputs": [
    {
     "data": {
      "text/plain": [
       "Mocha.InnerProductLayer(ip5)"
      ]
     },
     "execution_count": 82,
     "metadata": {},
     "output_type": "execute_result"
    }
   ],
   "source": [
    "fc1_layer  = InnerProductLayer(name=\"ip1\", output_dim=256,\n",
    "neuron=Neurons.ReLU(), bottoms=[:data], tops=[:ip1])\n",
    "fc2_layer  = InnerProductLayer(name=\"ip2\", output_dim=256,\n",
    "neuron=Neurons.ReLU(), bottoms=[:ip1], tops=[:ip2])\n",
    "\n",
    "fc3_layer  = InnerProductLayer(name=\"ip3\", output_dim=64,\n",
    "neuron=Neurons.ReLU(), weight_regu=L1Regu(1), bottoms=[:ip2], tops=[:ip3])\n",
    "\n",
    "fc4_layer  = InnerProductLayer(name=\"ip4\", output_dim=64,\n",
    "neuron=Neurons.Tanh(), bottoms=[:ip3], tops=[:ip4])\n",
    "\n",
    "fc5_layer  = InnerProductLayer(name=\"ip5\", output_dim=32,\n",
    "neuron=Neurons.Tanh(), bottoms=[:ip4], tops=[:ip5])"
   ]
  },
  {
   "cell_type": "markdown",
   "metadata": {},
   "source": [
    "Final layer is also an inner-product layer, but without activation function. This layer is the classification layer and dimensions correspond to number of classes"
   ]
  },
  {
   "cell_type": "code",
   "execution_count": 83,
   "metadata": {},
   "outputs": [
    {
     "data": {
      "text/plain": [
       "Mocha.InnerProductLayer(ip6)"
      ]
     },
     "execution_count": 83,
     "metadata": {},
     "output_type": "execute_result"
    }
   ],
   "source": [
    "fc6_layer  = InnerProductLayer(name=\"ip6\", output_dim=2,\n",
    "bottoms=[:ip5], tops=[:ip6])"
   ]
  },
  {
   "cell_type": "markdown",
   "metadata": {},
   "source": [
    "During training Dropout will randomly \"turn off\" certain neurons. This works like regularization and can help prevent overfitting"
   ]
  },
  {
   "cell_type": "code",
   "execution_count": 84,
   "metadata": {},
   "outputs": [
    {
     "data": {
      "text/plain": [
       "Mocha.DropoutLayer(drop_fc1)"
      ]
     },
     "execution_count": 84,
     "metadata": {},
     "output_type": "execute_result"
    }
   ],
   "source": [
    "drop_input  = DropoutLayer(name=\"drop_in\", bottoms=[:data], ratio=0.2)\n",
    "drop_fc1 = DropoutLayer(name=\"drop_fc1\", bottoms=[:ip1], ratio=0.5)"
   ]
  },
  {
   "cell_type": "markdown",
   "metadata": {},
   "source": [
    "Loss layer defines our loss function. We use Softmax in this case, since we are predicting a class label. We can use other loss functions, or define our own. The familiar \"square loss\" is available for regression problems "
   ]
  },
  {
   "cell_type": "code",
   "execution_count": 85,
   "metadata": {},
   "outputs": [
    {
     "data": {
      "text/plain": [
       "Mocha.SoftmaxLossLayer(loss)"
      ]
     },
     "execution_count": 85,
     "metadata": {},
     "output_type": "execute_result"
    }
   ],
   "source": [
    "loss_layer = SoftmaxLossLayer(name=\"loss\", bottoms=[:ip6,:label])"
   ]
  },
  {
   "cell_type": "markdown",
   "metadata": {},
   "source": []
  },
  {
   "cell_type": "code",
   "execution_count": 86,
   "metadata": {},
   "outputs": [],
   "source": [
    "backend = CPUBackend()\n",
    "init(backend)"
   ]
  },
  {
   "cell_type": "code",
   "execution_count": 87,
   "metadata": {},
   "outputs": [],
   "source": [
    "common_layers = [fc1_layer, fc2_layer, fc3_layer, fc4_layer, fc5_layer, fc6_layer]\n",
    "drop_layers = [drop_input, drop_fc1] ;"
   ]
  },
  {
   "cell_type": "code",
   "execution_count": 88,
   "metadata": {},
   "outputs": [
    {
     "name": "stdout",
     "output_type": "stream",
     "text": [
      "[2018-10-15 12:07:27 | info | Mocha]: Constructing net cc-train on Mocha.CPUBackend...\n",
      "[2018-10-15 12:07:27 | info | Mocha]: Topological sorting 10 layers...\n",
      "[2018-10-15 12:07:27 | info | Mocha]: Setup layers...\n",
      "[2018-10-15 12:07:27 | info | Mocha]: Network constructed!\n"
     ]
    }
   ],
   "source": [
    "net = Net(\"cc-train\", backend, [data_layer, common_layers..., drop_layers..., loss_layer]) ;"
   ]
  },
  {
   "cell_type": "code",
   "execution_count": 89,
   "metadata": {},
   "outputs": [
    {
     "data": {
      "text/plain": [
       "Dict{Symbol,Any} with 5 entries:\n",
       "  :lr_policy  => Mocha.LRPolicy.Inv(0.03, 0.0001, 0.75)\n",
       "  :max_iter   => 10000\n",
       "  :load_from  => \"snapshots/cc_net_2/\"\n",
       "  :regu_coef  => 0.0005\n",
       "  :mom_policy => Mocha.MomPolicy.Fixed(0.9)"
      ]
     },
     "execution_count": 89,
     "metadata": {},
     "output_type": "execute_result"
    }
   ],
   "source": [
    "method = SGD()\n",
    "params = make_solver_parameters(method, max_iter=10000, regu_coef=0.0005,\n",
    "    mom_policy=MomPolicy.Fixed(0.9),\n",
    "    lr_policy=LRPolicy.Inv(0.03, 0.0001, 0.75),\n",
    "    load_from=exp_dir)"
   ]
  },
  {
   "cell_type": "code",
   "execution_count": 90,
   "metadata": {},
   "outputs": [
    {
     "data": {
      "text/plain": [
       "Mocha.Solver{Mocha.SGD}(Mocha.SGD(), Dict{Symbol,Any}(Pair{Symbol,Any}(:lr_policy, Mocha.LRPolicy.Inv(0.03, 0.0001, 0.75)),Pair{Symbol,Any}(:max_iter, 10000),Pair{Symbol,Any}(:load_from, \"snapshots/cc_net_2/\"),Pair{Symbol,Any}(:regu_coef, 0.0005),Pair{Symbol,Any}(:mom_policy, Mocha.MomPolicy.Fixed(0.9))), Mocha.CoffeeLounge(\"\", 1, :merge, Dict{AbstractString,Dict{Int64,AbstractFloat}}(), Mocha.CoffeeBreak[], true, 2, 0))"
      ]
     },
     "execution_count": 90,
     "metadata": {},
     "output_type": "execute_result"
    }
   ],
   "source": [
    "solver = Solver(method, params)"
   ]
  },
  {
   "cell_type": "code",
   "execution_count": 91,
   "metadata": {},
   "outputs": [
    {
     "data": {
      "text/plain": [
       ":merge"
      ]
     },
     "execution_count": 91,
     "metadata": {},
     "output_type": "execute_result"
    }
   ],
   "source": [
    "setup_coffee_lounge(solver, save_into=\"$exp_dir/statistics.jld\", every_n_iter=1000)"
   ]
  },
  {
   "cell_type": "code",
   "execution_count": 92,
   "metadata": {},
   "outputs": [
    {
     "data": {
      "text/plain": [
       "2-element Array{Mocha.CoffeeBreak,1}:\n",
       " Mocha.CoffeeBreak(Mocha.TrainingSummary(Any[:iter, :obj_val]), 100, 0)\n",
       " Mocha.CoffeeBreak(Mocha.Snapshot(\"snapshots/cc_net_2/\"), 500, 0)      "
      ]
     },
     "execution_count": 92,
     "metadata": {},
     "output_type": "execute_result"
    }
   ],
   "source": [
    "add_coffee_break(solver, TrainingSummary(), every_n_iter=100)\n",
    "add_coffee_break(solver, Snapshot(exp_dir), every_n_iter=500)"
   ]
  },
  {
   "cell_type": "code",
   "execution_count": 93,
   "metadata": {},
   "outputs": [
    {
     "name": "stdout",
     "output_type": "stream",
     "text": [
      "[2018-10-15 12:07:45 | info | Mocha]: Constructing net cc-test on Mocha.CPUBackend...\n",
      "[2018-10-15 12:07:45 | info | Mocha]: Topological sorting 8 layers...\n",
      "[2018-10-15 12:07:45 | info | Mocha]: Setup layers...\n",
      "[2018-10-15 12:07:45 | info | Mocha]: Network constructed!\n"
     ]
    }
   ],
   "source": [
    "data_layer_test = HDF5DataLayer(name=\"test-data\", source=\"cc_data/txt/$test_filename\", batch_size=100)\n",
    "acc_layer = AccuracyLayer(name=\"test-accuracy\", bottoms=[:ip6, :label])\n",
    "test_net = Net(\"cc-test\", backend, [data_layer_test, common_layers..., acc_layer]) ;"
   ]
  },
  {
   "cell_type": "code",
   "execution_count": 94,
   "metadata": {},
   "outputs": [],
   "source": [
    "add_coffee_break(solver, ValidationPerformance(test_net), every_n_iter=1000);"
   ]
  },
  {
   "cell_type": "code",
   "execution_count": 95,
   "metadata": {},
   "outputs": [
    {
     "name": "stdout",
     "output_type": "stream",
     "text": [
      "[2018-10-15 12:07:48 | info | Mocha]: Snapshot directory snapshots/cc_net_2/ already exists\n",
      "[2018-10-15 12:07:48 | info | Mocha]:  TRAIN iter=000000 obj_val=0.75138515\n",
      "[2018-10-15 12:07:48 | info | Mocha]: Saving snapshot to snapshot-000000.jld...\n",
      "[2018-10-15 12:07:49 | info | Mocha]: \n",
      "[2018-10-15 12:07:49 | info | Mocha]: ## Performance on Validation Set after 0 iterations\n",
      "[2018-10-15 12:07:49 | info | Mocha]: ---------------------------------------------------------\n",
      "[2018-10-15 12:07:49 | info | Mocha]:   Accuracy (avg over 6000) = 68.3000%\n",
      "[2018-10-15 12:07:49 | info | Mocha]: ---------------------------------------------------------\n",
      "[2018-10-15 12:07:49 | info | Mocha]: \n",
      "[2018-10-15 12:07:49 | info | Mocha]:  TRAIN iter=000100 obj_val=0.48257792\n",
      "[2018-10-15 12:07:50 | info | Mocha]:  TRAIN iter=000200 obj_val=0.58705467\n",
      "[2018-10-15 12:07:50 | info | Mocha]:  TRAIN iter=000300 obj_val=0.54265344\n",
      "[2018-10-15 12:07:50 | info | Mocha]:  TRAIN iter=000400 obj_val=0.59441322\n",
      "[2018-10-15 12:07:51 | info | Mocha]:  TRAIN iter=000500 obj_val=0.45157933\n",
      "[2018-10-15 12:07:51 | info | Mocha]: Saving snapshot to snapshot-000500.jld...\n",
      "[2018-10-15 12:07:51 | info | Mocha]:  TRAIN iter=000600 obj_val=0.43497536\n",
      "[2018-10-15 12:07:52 | info | Mocha]:  TRAIN iter=000700 obj_val=0.56237549\n",
      "[2018-10-15 12:07:52 | info | Mocha]:  TRAIN iter=000800 obj_val=0.59450144\n",
      "[2018-10-15 12:07:53 | info | Mocha]:  TRAIN iter=000900 obj_val=0.58210605\n",
      "[2018-10-15 12:07:53 | info | Mocha]:  TRAIN iter=001000 obj_val=0.71619171\n",
      "[2018-10-15 12:07:53 | info | Mocha]: Saving snapshot to snapshot-001000.jld...\n",
      "[2018-10-15 12:07:53 | info | Mocha]: \n",
      "[2018-10-15 12:07:53 | info | Mocha]: ## Performance on Validation Set after 1000 iterations\n",
      "[2018-10-15 12:07:53 | info | Mocha]: ---------------------------------------------------------\n",
      "[2018-10-15 12:07:53 | info | Mocha]:   Accuracy (avg over 6000) = 77.7667%\n",
      "[2018-10-15 12:07:53 | info | Mocha]: ---------------------------------------------------------\n",
      "[2018-10-15 12:07:53 | info | Mocha]: \n",
      "[2018-10-15 12:07:54 | info | Mocha]:  TRAIN iter=001100 obj_val=0.52536410\n",
      "[2018-10-15 12:07:54 | info | Mocha]:  TRAIN iter=001200 obj_val=0.52533233\n",
      "[2018-10-15 12:07:55 | info | Mocha]:  TRAIN iter=001300 obj_val=0.52584928\n",
      "[2018-10-15 12:07:55 | info | Mocha]:  TRAIN iter=001400 obj_val=0.53607291\n",
      "[2018-10-15 12:07:56 | info | Mocha]:  TRAIN iter=001500 obj_val=0.56550622\n",
      "[2018-10-15 12:07:56 | info | Mocha]: Saving snapshot to snapshot-001500.jld...\n",
      "[2018-10-15 12:07:56 | info | Mocha]:  TRAIN iter=001600 obj_val=0.46064273\n",
      "[2018-10-15 12:07:57 | info | Mocha]:  TRAIN iter=001700 obj_val=0.54463476\n",
      "[2018-10-15 12:07:57 | info | Mocha]:  TRAIN iter=001800 obj_val=0.51019758\n",
      "[2018-10-15 12:07:58 | info | Mocha]:  TRAIN iter=001900 obj_val=0.64619690\n",
      "[2018-10-15 12:07:58 | info | Mocha]:  TRAIN iter=002000 obj_val=0.52563637\n",
      "[2018-10-15 12:07:58 | info | Mocha]: Saving snapshot to snapshot-002000.jld...\n",
      "[2018-10-15 12:07:58 | info | Mocha]: \n",
      "[2018-10-15 12:07:58 | info | Mocha]: ## Performance on Validation Set after 2000 iterations\n",
      "[2018-10-15 12:07:58 | info | Mocha]: ---------------------------------------------------------\n",
      "[2018-10-15 12:07:58 | info | Mocha]:   Accuracy (avg over 6000) = 77.7667%\n",
      "[2018-10-15 12:07:58 | info | Mocha]: ---------------------------------------------------------\n",
      "[2018-10-15 12:07:58 | info | Mocha]: \n",
      "[2018-10-15 12:07:58 | info | Mocha]:  TRAIN iter=002100 obj_val=0.54665416\n",
      "[2018-10-15 12:07:59 | info | Mocha]:  TRAIN iter=002200 obj_val=0.59541935\n",
      "[2018-10-15 12:07:59 | info | Mocha]:  TRAIN iter=002300 obj_val=0.48313794\n",
      "[2018-10-15 12:08:00 | info | Mocha]:  TRAIN iter=002400 obj_val=0.50500715\n",
      "[2018-10-15 12:08:00 | info | Mocha]:  TRAIN iter=002500 obj_val=0.61452323\n",
      "[2018-10-15 12:08:00 | info | Mocha]: Saving snapshot to snapshot-002500.jld...\n",
      "[2018-10-15 12:08:01 | info | Mocha]:  TRAIN iter=002600 obj_val=0.58759749\n",
      "[2018-10-15 12:08:01 | info | Mocha]:  TRAIN iter=002700 obj_val=0.56257409\n",
      "[2018-10-15 12:08:02 | info | Mocha]:  TRAIN iter=002800 obj_val=0.63434196\n",
      "[2018-10-15 12:08:02 | info | Mocha]:  TRAIN iter=002900 obj_val=0.42431462\n",
      "[2018-10-15 12:08:03 | info | Mocha]:  TRAIN iter=003000 obj_val=0.56235021\n",
      "[2018-10-15 12:08:03 | info | Mocha]: Saving snapshot to snapshot-003000.jld...\n",
      "[2018-10-15 12:08:03 | info | Mocha]: \n",
      "[2018-10-15 12:08:03 | info | Mocha]: ## Performance on Validation Set after 3000 iterations\n",
      "[2018-10-15 12:08:03 | info | Mocha]: ---------------------------------------------------------\n",
      "[2018-10-15 12:08:03 | info | Mocha]:   Accuracy (avg over 6000) = 77.7667%\n",
      "[2018-10-15 12:08:03 | info | Mocha]: ---------------------------------------------------------\n",
      "[2018-10-15 12:08:03 | info | Mocha]: \n",
      "[2018-10-15 12:08:03 | info | Mocha]:  TRAIN iter=003100 obj_val=0.56384802\n",
      "[2018-10-15 12:08:04 | info | Mocha]:  TRAIN iter=003200 obj_val=0.56829005\n",
      "[2018-10-15 12:08:04 | info | Mocha]:  TRAIN iter=003300 obj_val=0.56249523\n",
      "[2018-10-15 12:08:05 | info | Mocha]:  TRAIN iter=003400 obj_val=0.52724129\n",
      "[2018-10-15 12:08:05 | info | Mocha]:  TRAIN iter=003500 obj_val=0.48574561\n",
      "[2018-10-15 12:08:05 | info | Mocha]: Saving snapshot to snapshot-003500.jld...\n",
      "[2018-10-15 12:08:06 | info | Mocha]:  TRAIN iter=003600 obj_val=0.50676471\n",
      "[2018-10-15 12:08:06 | info | Mocha]:  TRAIN iter=003700 obj_val=0.61992043\n",
      "[2018-10-15 12:08:07 | info | Mocha]:  TRAIN iter=003800 obj_val=0.48324418\n",
      "[2018-10-15 12:08:07 | info | Mocha]:  TRAIN iter=003900 obj_val=0.61616319\n",
      "[2018-10-15 12:08:08 | info | Mocha]:  TRAIN iter=004000 obj_val=0.39659536\n",
      "[2018-10-15 12:08:08 | info | Mocha]: Saving snapshot to snapshot-004000.jld...\n",
      "[2018-10-15 12:08:08 | info | Mocha]: \n",
      "[2018-10-15 12:08:08 | info | Mocha]: ## Performance on Validation Set after 4000 iterations\n",
      "[2018-10-15 12:08:08 | info | Mocha]: ---------------------------------------------------------\n",
      "[2018-10-15 12:08:08 | info | Mocha]:   Accuracy (avg over 6000) = 77.7667%\n",
      "[2018-10-15 12:08:08 | info | Mocha]: ---------------------------------------------------------\n",
      "[2018-10-15 12:08:08 | info | Mocha]: \n",
      "[2018-10-15 12:08:08 | info | Mocha]:  TRAIN iter=004100 obj_val=0.50980991\n",
      "[2018-10-15 12:08:09 | info | Mocha]:  TRAIN iter=004200 obj_val=0.58667094\n",
      "[2018-10-15 12:08:09 | info | Mocha]:  TRAIN iter=004300 obj_val=0.52569920\n",
      "[2018-10-15 12:08:10 | info | Mocha]:  TRAIN iter=004400 obj_val=0.52577329\n",
      "[2018-10-15 12:08:10 | info | Mocha]:  TRAIN iter=004500 obj_val=0.48459563\n",
      "[2018-10-15 12:08:10 | info | Mocha]: Saving snapshot to snapshot-004500.jld...\n",
      "[2018-10-15 12:08:11 | info | Mocha]:  TRAIN iter=004600 obj_val=0.44239965\n",
      "[2018-10-15 12:08:11 | info | Mocha]:  TRAIN iter=004700 obj_val=0.48658988\n",
      "[2018-10-15 12:08:12 | info | Mocha]:  TRAIN iter=004800 obj_val=0.52581066\n",
      "[2018-10-15 12:08:12 | info | Mocha]:  TRAIN iter=004900 obj_val=0.45184574\n",
      "[2018-10-15 12:08:13 | info | Mocha]:  TRAIN iter=005000 obj_val=0.64501452\n",
      "[2018-10-15 12:08:13 | info | Mocha]: Saving snapshot to snapshot-005000.jld...\n",
      "[2018-10-15 12:08:13 | info | Mocha]: \n",
      "[2018-10-15 12:08:13 | info | Mocha]: ## Performance on Validation Set after 5000 iterations\n",
      "[2018-10-15 12:08:13 | info | Mocha]: ---------------------------------------------------------\n",
      "[2018-10-15 12:08:13 | info | Mocha]:   Accuracy (avg over 6000) = 77.7667%\n",
      "[2018-10-15 12:08:13 | info | Mocha]: ---------------------------------------------------------\n",
      "[2018-10-15 12:08:13 | info | Mocha]: \n",
      "[2018-10-15 12:08:13 | info | Mocha]:  TRAIN iter=005100 obj_val=0.52575380\n",
      "[2018-10-15 12:08:14 | info | Mocha]:  TRAIN iter=005200 obj_val=0.60876381\n",
      "[2018-10-15 12:08:14 | info | Mocha]:  TRAIN iter=005300 obj_val=0.71236086\n",
      "[2018-10-15 12:08:15 | info | Mocha]:  TRAIN iter=005400 obj_val=0.37184590\n",
      "[2018-10-15 12:08:15 | info | Mocha]:  TRAIN iter=005500 obj_val=0.48834941\n",
      "[2018-10-15 12:08:15 | info | Mocha]: Saving snapshot to snapshot-005500.jld...\n",
      "[2018-10-15 12:08:16 | info | Mocha]:  TRAIN iter=005600 obj_val=0.61078370\n",
      "[2018-10-15 12:08:16 | info | Mocha]:  TRAIN iter=005700 obj_val=0.48809665\n",
      "[2018-10-15 12:08:17 | info | Mocha]:  TRAIN iter=005800 obj_val=0.48280314\n",
      "[2018-10-15 12:08:17 | info | Mocha]:  TRAIN iter=005900 obj_val=0.45948198\n"
     ]
    },
    {
     "name": "stdout",
     "output_type": "stream",
     "text": [
      "[2018-10-15 12:08:18 | info | Mocha]:  TRAIN iter=006000 obj_val=0.50470620\n",
      "[2018-10-15 12:08:18 | info | Mocha]: Saving snapshot to snapshot-006000.jld...\n",
      "[2018-10-15 12:08:18 | info | Mocha]: \n",
      "[2018-10-15 12:08:18 | info | Mocha]: ## Performance on Validation Set after 6000 iterations\n",
      "[2018-10-15 12:08:18 | info | Mocha]: ---------------------------------------------------------\n",
      "[2018-10-15 12:08:18 | info | Mocha]:   Accuracy (avg over 6000) = 77.7667%\n",
      "[2018-10-15 12:08:18 | info | Mocha]: ---------------------------------------------------------\n",
      "[2018-10-15 12:08:18 | info | Mocha]: \n",
      "[2018-10-15 12:08:18 | info | Mocha]:  TRAIN iter=006100 obj_val=0.58126116\n",
      "[2018-10-15 12:08:19 | info | Mocha]:  TRAIN iter=006200 obj_val=0.58992499\n",
      "[2018-10-15 12:08:19 | info | Mocha]:  TRAIN iter=006300 obj_val=0.48664626\n",
      "[2018-10-15 12:08:20 | info | Mocha]:  TRAIN iter=006400 obj_val=0.50643069\n",
      "[2018-10-15 12:08:20 | info | Mocha]:  TRAIN iter=006500 obj_val=0.40633318\n",
      "[2018-10-15 12:08:20 | info | Mocha]: Saving snapshot to snapshot-006500.jld...\n",
      "[2018-10-15 12:08:21 | info | Mocha]:  TRAIN iter=006600 obj_val=0.56541270\n",
      "[2018-10-15 12:08:21 | info | Mocha]:  TRAIN iter=006700 obj_val=0.52552718\n",
      "[2018-10-15 12:08:22 | info | Mocha]:  TRAIN iter=006800 obj_val=0.58546615\n",
      "[2018-10-15 12:08:22 | info | Mocha]:  TRAIN iter=006900 obj_val=0.48664302\n",
      "[2018-10-15 12:08:23 | info | Mocha]:  TRAIN iter=007000 obj_val=0.54705298\n",
      "[2018-10-15 12:08:23 | info | Mocha]: Saving snapshot to snapshot-007000.jld...\n",
      "[2018-10-15 12:08:23 | info | Mocha]: \n",
      "[2018-10-15 12:08:23 | info | Mocha]: ## Performance on Validation Set after 7000 iterations\n",
      "[2018-10-15 12:08:23 | info | Mocha]: ---------------------------------------------------------\n",
      "[2018-10-15 12:08:23 | info | Mocha]:   Accuracy (avg over 6000) = 77.7667%\n",
      "[2018-10-15 12:08:23 | info | Mocha]: ---------------------------------------------------------\n",
      "[2018-10-15 12:08:23 | info | Mocha]: \n",
      "[2018-10-15 12:08:23 | info | Mocha]:  TRAIN iter=007100 obj_val=0.58219987\n",
      "[2018-10-15 12:08:24 | info | Mocha]:  TRAIN iter=007200 obj_val=0.56262416\n",
      "[2018-10-15 12:08:24 | info | Mocha]:  TRAIN iter=007300 obj_val=0.47724840\n",
      "[2018-10-15 12:08:25 | info | Mocha]:  TRAIN iter=007400 obj_val=0.66989177\n",
      "[2018-10-15 12:08:25 | info | Mocha]:  TRAIN iter=007500 obj_val=0.56604171\n",
      "[2018-10-15 12:08:25 | info | Mocha]: Saving snapshot to snapshot-007500.jld...\n",
      "[2018-10-15 12:08:26 | info | Mocha]:  TRAIN iter=007600 obj_val=0.62314707\n",
      "[2018-10-15 12:08:26 | info | Mocha]:  TRAIN iter=007700 obj_val=0.49031997\n",
      "[2018-10-15 12:08:27 | info | Mocha]:  TRAIN iter=007800 obj_val=0.46813852\n",
      "[2018-10-15 12:08:27 | info | Mocha]:  TRAIN iter=007900 obj_val=0.52534723\n",
      "[2018-10-15 12:08:28 | info | Mocha]:  TRAIN iter=008000 obj_val=0.60139269\n",
      "[2018-10-15 12:08:28 | info | Mocha]: Saving snapshot to snapshot-008000.jld...\n",
      "[2018-10-15 12:08:28 | info | Mocha]: \n",
      "[2018-10-15 12:08:28 | info | Mocha]: ## Performance on Validation Set after 8000 iterations\n",
      "[2018-10-15 12:08:28 | info | Mocha]: ---------------------------------------------------------\n",
      "[2018-10-15 12:08:28 | info | Mocha]:   Accuracy (avg over 6000) = 77.7667%\n",
      "[2018-10-15 12:08:28 | info | Mocha]: ---------------------------------------------------------\n",
      "[2018-10-15 12:08:28 | info | Mocha]: \n",
      "[2018-10-15 12:08:28 | info | Mocha]:  TRAIN iter=008100 obj_val=0.54453611\n",
      "[2018-10-15 12:08:29 | info | Mocha]:  TRAIN iter=008200 obj_val=0.56966460\n",
      "[2018-10-15 12:08:29 | info | Mocha]:  TRAIN iter=008300 obj_val=0.47015786\n",
      "[2018-10-15 12:08:29 | info | Mocha]:  TRAIN iter=008400 obj_val=0.60366118\n",
      "[2018-10-15 12:08:30 | info | Mocha]:  TRAIN iter=008500 obj_val=0.38855630\n",
      "[2018-10-15 12:08:30 | info | Mocha]: Saving snapshot to snapshot-008500.jld...\n",
      "[2018-10-15 12:08:30 | info | Mocha]:  TRAIN iter=008600 obj_val=0.65951270\n",
      "[2018-10-15 12:08:31 | info | Mocha]:  TRAIN iter=008700 obj_val=0.46302739\n",
      "[2018-10-15 12:08:31 | info | Mocha]:  TRAIN iter=008800 obj_val=0.52597624\n",
      "[2018-10-15 12:08:32 | info | Mocha]:  TRAIN iter=008900 obj_val=0.49904886\n",
      "[2018-10-15 12:08:32 | info | Mocha]:  TRAIN iter=009000 obj_val=0.48499396\n",
      "[2018-10-15 12:08:32 | info | Mocha]: Saving snapshot to snapshot-009000.jld...\n",
      "[2018-10-15 12:08:32 | info | Mocha]: \n",
      "[2018-10-15 12:08:32 | info | Mocha]: ## Performance on Validation Set after 9000 iterations\n",
      "[2018-10-15 12:08:32 | info | Mocha]: ---------------------------------------------------------\n",
      "[2018-10-15 12:08:32 | info | Mocha]:   Accuracy (avg over 6000) = 77.7667%\n",
      "[2018-10-15 12:08:32 | info | Mocha]: ---------------------------------------------------------\n",
      "[2018-10-15 12:08:32 | info | Mocha]: \n",
      "[2018-10-15 12:08:33 | info | Mocha]:  TRAIN iter=009100 obj_val=0.48837271\n",
      "[2018-10-15 12:08:33 | info | Mocha]:  TRAIN iter=009200 obj_val=0.42884532\n",
      "[2018-10-15 12:08:34 | info | Mocha]:  TRAIN iter=009300 obj_val=0.58047456\n",
      "[2018-10-15 12:08:34 | info | Mocha]:  TRAIN iter=009400 obj_val=0.46857980\n",
      "[2018-10-15 12:08:35 | info | Mocha]:  TRAIN iter=009500 obj_val=0.43518654\n",
      "[2018-10-15 12:08:35 | info | Mocha]: Saving snapshot to snapshot-009500.jld...\n",
      "[2018-10-15 12:08:35 | info | Mocha]:  TRAIN iter=009600 obj_val=0.62606543\n",
      "[2018-10-15 12:08:36 | info | Mocha]:  TRAIN iter=009700 obj_val=0.58630580\n",
      "[2018-10-15 12:08:36 | info | Mocha]:  TRAIN iter=009800 obj_val=0.45443383\n",
      "[2018-10-15 12:08:37 | info | Mocha]:  TRAIN iter=009900 obj_val=0.52545011\n",
      "[2018-10-15 12:08:37 | info | Mocha]:  TRAIN iter=010000 obj_val=0.52533489\n",
      "[2018-10-15 12:08:37 | info | Mocha]: Saving snapshot to snapshot-010000.jld...\n",
      "[2018-10-15 12:08:37 | info | Mocha]: \n",
      "[2018-10-15 12:08:37 | info | Mocha]: ## Performance on Validation Set after 10000 iterations\n",
      "[2018-10-15 12:08:37 | info | Mocha]: ---------------------------------------------------------\n",
      "[2018-10-15 12:08:37 | info | Mocha]:   Accuracy (avg over 6000) = 77.7667%\n",
      "[2018-10-15 12:08:37 | info | Mocha]: ---------------------------------------------------------\n",
      "[2018-10-15 12:08:37 | info | Mocha]: \n",
      " 49.007362 seconds (1.16 G allocations: 17.659 GiB, 5.82% gc time)\n"
     ]
    },
    {
     "data": {
      "text/plain": [
       "Dict{AbstractString,Array{Mocha.AbstractParameter,1}} with 0 entries"
      ]
     },
     "execution_count": 95,
     "metadata": {},
     "output_type": "execute_result"
    }
   ],
   "source": [
    "@time solve(solver, net)\n",
    "\n",
    "destroy(net)\n",
    "destroy(test_net)\n",
    "shutdown(backend)"
   ]
  },
  {
   "cell_type": "code",
   "execution_count": 20,
   "metadata": {},
   "outputs": [],
   "source": [
    "open(\"net.dot\", \"w\") do out net2dot(out, net) end"
   ]
  },
  {
   "cell_type": "code",
   "execution_count": null,
   "metadata": {},
   "outputs": [],
   "source": []
  }
 ],
 "metadata": {
  "kernelspec": {
   "display_name": "Julia 0.6.4",
   "language": "julia",
   "name": "julia-0.6"
  },
  "language_info": {
   "file_extension": ".jl",
   "mimetype": "application/julia",
   "name": "julia",
   "version": "0.6.4"
  }
 },
 "nbformat": 4,
 "nbformat_minor": 2
}
