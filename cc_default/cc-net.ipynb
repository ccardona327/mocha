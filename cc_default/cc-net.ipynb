{
 "cells": [
  {
   "cell_type": "code",
   "execution_count": 1,
   "metadata": {},
   "outputs": [
    {
     "name": "stdout",
     "output_type": "stream",
     "text": [
      "Configuring Mocha...\n",
      " * CUDA       disabled by default\n",
      " * Native Ext disabled by default\n",
      "Mocha configured, continue loading module...\n",
      "DefaultBackend = Mocha.CPUBackend\n"
     ]
    }
   ],
   "source": [
    "using Mocha"
   ]
  },
  {
   "cell_type": "code",
   "execution_count": 2,
   "metadata": {},
   "outputs": [
    {
     "data": {
      "text/plain": [
       "\"snapshots/cc_net/\""
      ]
     },
     "execution_count": 2,
     "metadata": {},
     "output_type": "execute_result"
    }
   ],
   "source": [
    "train_filename = \"cc_train.txt\"\n",
    "test_filename = \"cc_test.txt\"\n",
    "exp_dir = \"snapshots/cc_net/\""
   ]
  },
  {
   "cell_type": "code",
   "execution_count": 3,
   "metadata": {},
   "outputs": [
    {
     "data": {
      "text/plain": [
       "Mocha.HDF5DataLayer(train-data)"
      ]
     },
     "execution_count": 3,
     "metadata": {},
     "output_type": "execute_result"
    }
   ],
   "source": [
    "data_layer  = HDF5DataLayer(name=\"train-data\", source=\"cc_data/txt/$train_filename\",\n",
    "batch_size=64, shuffle=true)"
   ]
  },
  {
   "cell_type": "code",
   "execution_count": 4,
   "metadata": {},
   "outputs": [
    {
     "data": {
      "text/plain": [
       "Mocha.InnerProductLayer(ip1)"
      ]
     },
     "execution_count": 4,
     "metadata": {},
     "output_type": "execute_result"
    }
   ],
   "source": [
    "fc1_layer  = InnerProductLayer(name=\"ip1\", output_dim=256,\n",
    "neuron=Neurons.ReLU(), bottoms=[:data], tops=[:ip1])"
   ]
  },
  {
   "cell_type": "code",
   "execution_count": 5,
   "metadata": {},
   "outputs": [
    {
     "data": {
      "text/plain": [
       "Mocha.InnerProductLayer(ip2)"
      ]
     },
     "execution_count": 5,
     "metadata": {},
     "output_type": "execute_result"
    }
   ],
   "source": [
    "fc2_layer  = InnerProductLayer(name=\"ip2\", output_dim=2,\n",
    "bottoms=[:ip1], tops=[:ip2])"
   ]
  },
  {
   "cell_type": "code",
   "execution_count": 6,
   "metadata": {},
   "outputs": [
    {
     "data": {
      "text/plain": [
       "Mocha.SoftmaxLossLayer(loss)"
      ]
     },
     "execution_count": 6,
     "metadata": {},
     "output_type": "execute_result"
    }
   ],
   "source": [
    "loss_layer = SoftmaxLossLayer(name=\"loss\", bottoms=[:ip2,:label])"
   ]
  },
  {
   "cell_type": "code",
   "execution_count": 7,
   "metadata": {},
   "outputs": [],
   "source": [
    "backend = CPUBackend()\n",
    "init(backend)"
   ]
  },
  {
   "cell_type": "code",
   "execution_count": 8,
   "metadata": {},
   "outputs": [
    {
     "data": {
      "text/plain": [
       "2-element Array{Mocha.InnerProductLayer,1}:\n",
       " Mocha.InnerProductLayer(ip1)\n",
       " Mocha.InnerProductLayer(ip2)"
      ]
     },
     "execution_count": 8,
     "metadata": {},
     "output_type": "execute_result"
    }
   ],
   "source": [
    "common_layers = [fc1_layer, fc2_layer]"
   ]
  },
  {
   "cell_type": "code",
   "execution_count": 9,
   "metadata": {},
   "outputs": [
    {
     "name": "stdout",
     "output_type": "stream",
     "text": [
      "[2018-10-14T22:05:48 | info | Mocha]: Constructing net cc-train on Mocha.CPUBackend...\n",
      "[2018-10-14T22:05:49 | info | Mocha]: Topological sorting 4 layers...\n",
      "[2018-10-14T22:05:49 | info | Mocha]: Setup layers...\n",
      "[2018-10-14T22:05:51 | info | Mocha]: Network constructed!\n"
     ]
    },
    {
     "data": {
      "text/plain": [
       "************************************************************\n",
       "          NAME: cc-train\n",
       "       BACKEND: Mocha.CPUBackend\n",
       "  ARCHITECTURE: 4 layers\n",
       "............................................................\n",
       " *** Mocha.HDF5DataLayer(train-data)\n",
       "    Outputs ---------------------------\n",
       "          data: Blob(24 x 64)\n",
       "         label: Blob(64)\n",
       "............................................................\n",
       " *** Mocha.InnerProductLayer(ip1)\n",
       "    Inputs ----------------------------\n",
       "          data: Blob(24 x 64)\n",
       "    Outputs ---------------------------\n",
       "           ip1: Blob(256 x 64)\n",
       "............................................................\n",
       " *** Mocha.InnerProductLayer(ip2)\n",
       "    Inputs ----------------------------\n",
       "           ip1: Blob(256 x 64)\n",
       "    Outputs ---------------------------\n",
       "           ip2: Blob(2 x 64)\n",
       "............................................................\n",
       " *** Mocha.SoftmaxLossLayer(loss)\n",
       "    Inputs ----------------------------\n",
       "           ip2: Blob(2 x 64)\n",
       "         label: Blob(64)\n",
       "************************************************************\n"
      ]
     },
     "execution_count": 9,
     "metadata": {},
     "output_type": "execute_result"
    }
   ],
   "source": [
    "net = Net(\"cc-train\", backend, [data_layer, common_layers..., loss_layer])"
   ]
  },
  {
   "cell_type": "code",
   "execution_count": 10,
   "metadata": {},
   "outputs": [
    {
     "data": {
      "text/plain": [
       "Dict{Symbol,Any} with 5 entries:\n",
       "  :lr_policy  => Mocha.LRPolicy.Inv(0.03, 0.0001, 0.75)\n",
       "  :max_iter   => 10000\n",
       "  :load_from  => \"snapshots/cc_net/\"\n",
       "  :regu_coef  => 0.0005\n",
       "  :mom_policy => Mocha.MomPolicy.Fixed(0.9)"
      ]
     },
     "execution_count": 10,
     "metadata": {},
     "output_type": "execute_result"
    }
   ],
   "source": [
    "method = SGD()\n",
    "params = make_solver_parameters(method, max_iter=10000, regu_coef=0.0005,\n",
    "    mom_policy=MomPolicy.Fixed(0.9),\n",
    "    lr_policy=LRPolicy.Inv(0.03, 0.0001, 0.75),\n",
    "    load_from=exp_dir)"
   ]
  },
  {
   "cell_type": "code",
   "execution_count": 11,
   "metadata": {},
   "outputs": [
    {
     "data": {
      "text/plain": [
       "Mocha.Solver{Mocha.SGD}(Mocha.SGD(), Dict{Symbol,Any}(Pair{Symbol,Any}(:lr_policy, Mocha.LRPolicy.Inv(0.03, 0.0001, 0.75)),Pair{Symbol,Any}(:max_iter, 10000),Pair{Symbol,Any}(:load_from, \"snapshots/cc_net/\"),Pair{Symbol,Any}(:regu_coef, 0.0005),Pair{Symbol,Any}(:mom_policy, Mocha.MomPolicy.Fixed(0.9))), Mocha.CoffeeLounge(\"\", 1, :merge, Dict{AbstractString,Dict{Int64,AbstractFloat}}(), Mocha.CoffeeBreak[], true, 4656669904, 4656669936))"
      ]
     },
     "execution_count": 11,
     "metadata": {},
     "output_type": "execute_result"
    }
   ],
   "source": [
    "solver = Solver(method, params)"
   ]
  },
  {
   "cell_type": "code",
   "execution_count": 12,
   "metadata": {},
   "outputs": [
    {
     "data": {
      "text/plain": [
       ":merge"
      ]
     },
     "execution_count": 12,
     "metadata": {},
     "output_type": "execute_result"
    }
   ],
   "source": [
    "setup_coffee_lounge(solver, save_into=\"$exp_dir/statistics.jld\", every_n_iter=1000)"
   ]
  },
  {
   "cell_type": "code",
   "execution_count": 13,
   "metadata": {},
   "outputs": [
    {
     "data": {
      "text/plain": [
       "2-element Array{Mocha.CoffeeBreak,1}:\n",
       " Mocha.CoffeeBreak(Mocha.TrainingSummary(Any[:iter, :obj_val]), 100, 0)\n",
       " Mocha.CoffeeBreak(Mocha.Snapshot(\"snapshots/cc_net/\"), 500, 0)        "
      ]
     },
     "execution_count": 13,
     "metadata": {},
     "output_type": "execute_result"
    }
   ],
   "source": [
    "add_coffee_break(solver, TrainingSummary(), every_n_iter=100)\n",
    "add_coffee_break(solver, Snapshot(exp_dir), every_n_iter=500)"
   ]
  },
  {
   "cell_type": "code",
   "execution_count": 14,
   "metadata": {},
   "outputs": [
    {
     "name": "stdout",
     "output_type": "stream",
     "text": [
      "[2018-10-14T22:05:55 | info | Mocha]: Constructing net cc-test on Mocha.CPUBackend...\n",
      "[2018-10-14T22:05:55 | info | Mocha]: Topological sorting 4 layers...\n",
      "[2018-10-14T22:05:55 | info | Mocha]: Setup layers...\n",
      "[2018-10-14T22:05:55 | info | Mocha]: Network constructed!\n"
     ]
    },
    {
     "data": {
      "text/plain": [
       "************************************************************\n",
       "          NAME: cc-test\n",
       "       BACKEND: Mocha.CPUBackend\n",
       "  ARCHITECTURE: 4 layers\n",
       "............................................................\n",
       " *** Mocha.HDF5DataLayer(test-data)\n",
       "    Outputs ---------------------------\n",
       "          data: Blob(24 x 100)\n",
       "         label: Blob(100)\n",
       "............................................................\n",
       " *** Mocha.InnerProductLayer(ip1)\n",
       "    Inputs ----------------------------\n",
       "          data: Blob(24 x 100)\n",
       "    Outputs ---------------------------\n",
       "           ip1: Blob(256 x 100)\n",
       "............................................................\n",
       " *** Mocha.InnerProductLayer(ip2)\n",
       "    Inputs ----------------------------\n",
       "           ip1: Blob(256 x 100)\n",
       "    Outputs ---------------------------\n",
       "           ip2: Blob(2 x 100)\n",
       "............................................................\n",
       " *** Mocha.AccuracyLayer(test-accuracy)\n",
       "    Inputs ----------------------------\n",
       "           ip2: Blob(2 x 100)\n",
       "         label: Blob(100)\n",
       "************************************************************\n"
      ]
     },
     "execution_count": 14,
     "metadata": {},
     "output_type": "execute_result"
    }
   ],
   "source": [
    "data_layer_test = HDF5DataLayer(name=\"test-data\", source=\"cc_data/txt/$test_filename\", batch_size=100)\n",
    "acc_layer = AccuracyLayer(name=\"test-accuracy\", bottoms=[:ip2, :label])\n",
    "test_net = Net(\"cc-test\", backend, [data_layer_test, common_layers..., acc_layer])"
   ]
  },
  {
   "cell_type": "code",
   "execution_count": 15,
   "metadata": {},
   "outputs": [],
   "source": [
    "add_coffee_break(solver, ValidationPerformance(test_net), every_n_iter=1000);"
   ]
  },
  {
   "cell_type": "code",
   "execution_count": 16,
   "metadata": {},
   "outputs": [
    {
     "name": "stdout",
     "output_type": "stream",
     "text": [
      "[2018-10-14T22:06:16 | info | Mocha]: Snapshot directory snapshots/cc_net/ already exists\n",
      "[2018-10-14T22:06:16 | info | Mocha]:  TRAIN iter=000000 obj_val=35.97789383\n",
      "[2018-10-14T22:06:17 | info | Mocha]: Saving snapshot to snapshot-000000.jld...\n",
      "[2018-10-14T22:06:20 | info | Mocha]: \n",
      "[2018-10-14T22:06:20 | info | Mocha]: ## Performance on Validation Set after 0 iterations\n",
      "[2018-10-14T22:06:20 | info | Mocha]: ---------------------------------------------------------\n",
      "[2018-10-14T22:06:20 | info | Mocha]:   Accuracy (avg over 6000) = 21.8667%\n",
      "[2018-10-14T22:06:20 | info | Mocha]: ---------------------------------------------------------\n",
      "[2018-10-14T22:06:20 | info | Mocha]: \n",
      "[2018-10-14T22:06:22 | info | Mocha]:  TRAIN iter=000100 obj_val=0.52573615\n",
      "[2018-10-14T22:06:22 | info | Mocha]:  TRAIN iter=000200 obj_val=0.63660085\n",
      "[2018-10-14T22:06:22 | info | Mocha]:  TRAIN iter=000300 obj_val=0.42273435\n",
      "[2018-10-14T22:06:22 | info | Mocha]:  TRAIN iter=000400 obj_val=0.46740746\n",
      "[2018-10-14T22:06:22 | info | Mocha]:  TRAIN iter=000500 obj_val=0.50510538\n",
      "[2018-10-14T22:06:22 | info | Mocha]: Saving snapshot to snapshot-000500.jld...\n",
      "[2018-10-14T22:06:22 | info | Mocha]:  TRAIN iter=000600 obj_val=0.63689071\n",
      "[2018-10-14T22:06:22 | info | Mocha]:  TRAIN iter=000700 obj_val=0.42337006\n",
      "[2018-10-14T22:06:22 | info | Mocha]:  TRAIN iter=000800 obj_val=0.46656430\n",
      "[2018-10-14T22:06:22 | info | Mocha]:  TRAIN iter=000900 obj_val=0.48292550\n",
      "[2018-10-14T22:06:22 | info | Mocha]:  TRAIN iter=001000 obj_val=0.50574791\n",
      "[2018-10-14T22:06:22 | info | Mocha]: Saving snapshot to snapshot-001000.jld...\n",
      "[2018-10-14T22:06:23 | info | Mocha]: \n",
      "[2018-10-14T22:06:23 | info | Mocha]: ## Performance on Validation Set after 1000 iterations\n",
      "[2018-10-14T22:06:23 | info | Mocha]: ---------------------------------------------------------\n",
      "[2018-10-14T22:06:23 | info | Mocha]:   Accuracy (avg over 6000) = 78.1333%\n",
      "[2018-10-14T22:06:23 | info | Mocha]: ---------------------------------------------------------\n",
      "[2018-10-14T22:06:23 | info | Mocha]: \n",
      "[2018-10-14T22:06:23 | info | Mocha]:  TRAIN iter=001100 obj_val=0.52557319\n",
      "[2018-10-14T22:06:23 | info | Mocha]:  TRAIN iter=001200 obj_val=NaN\n",
      "[2018-10-14T22:06:23 | info | Mocha]:  TRAIN iter=001300 obj_val=NaN\n",
      "[2018-10-14T22:06:23 | info | Mocha]:  TRAIN iter=001400 obj_val=NaN\n",
      "[2018-10-14T22:06:23 | info | Mocha]:  TRAIN iter=001500 obj_val=NaN\n",
      "[2018-10-14T22:06:23 | info | Mocha]: Saving snapshot to snapshot-001500.jld...\n",
      "[2018-10-14T22:06:23 | info | Mocha]:  TRAIN iter=001600 obj_val=NaN\n",
      "[2018-10-14T22:06:23 | info | Mocha]:  TRAIN iter=001700 obj_val=NaN\n",
      "[2018-10-14T22:06:23 | info | Mocha]:  TRAIN iter=001800 obj_val=NaN\n",
      "[2018-10-14T22:06:23 | info | Mocha]:  TRAIN iter=001900 obj_val=NaN\n",
      "[2018-10-14T22:06:23 | info | Mocha]:  TRAIN iter=002000 obj_val=NaN\n",
      "[2018-10-14T22:06:23 | info | Mocha]: Saving snapshot to snapshot-002000.jld...\n",
      "[2018-10-14T22:06:23 | info | Mocha]: \n",
      "[2018-10-14T22:06:23 | info | Mocha]: ## Performance on Validation Set after 2000 iterations\n",
      "[2018-10-14T22:06:23 | info | Mocha]: ---------------------------------------------------------\n",
      "[2018-10-14T22:06:23 | info | Mocha]:   Accuracy (avg over 6000) = 21.8667%\n",
      "[2018-10-14T22:06:23 | info | Mocha]: ---------------------------------------------------------\n",
      "[2018-10-14T22:06:23 | info | Mocha]: \n",
      "[2018-10-14T22:06:24 | info | Mocha]:  TRAIN iter=002100 obj_val=NaN\n",
      "[2018-10-14T22:06:24 | info | Mocha]:  TRAIN iter=002200 obj_val=NaN\n",
      "[2018-10-14T22:06:24 | info | Mocha]:  TRAIN iter=002300 obj_val=NaN\n",
      "[2018-10-14T22:06:24 | info | Mocha]:  TRAIN iter=002400 obj_val=NaN\n",
      "[2018-10-14T22:06:24 | info | Mocha]:  TRAIN iter=002500 obj_val=NaN\n",
      "[2018-10-14T22:06:24 | info | Mocha]: Saving snapshot to snapshot-002500.jld...\n",
      "[2018-10-14T22:06:24 | info | Mocha]:  TRAIN iter=002600 obj_val=NaN\n",
      "[2018-10-14T22:06:24 | info | Mocha]:  TRAIN iter=002700 obj_val=NaN\n",
      "[2018-10-14T22:06:24 | info | Mocha]:  TRAIN iter=002800 obj_val=NaN\n",
      "[2018-10-14T22:06:24 | info | Mocha]:  TRAIN iter=002900 obj_val=NaN\n",
      "[2018-10-14T22:06:24 | info | Mocha]:  TRAIN iter=003000 obj_val=NaN\n",
      "[2018-10-14T22:06:24 | info | Mocha]: Saving snapshot to snapshot-003000.jld...\n",
      "[2018-10-14T22:06:24 | info | Mocha]: \n",
      "[2018-10-14T22:06:24 | info | Mocha]: ## Performance on Validation Set after 3000 iterations\n",
      "[2018-10-14T22:06:24 | info | Mocha]: ---------------------------------------------------------\n",
      "[2018-10-14T22:06:24 | info | Mocha]:   Accuracy (avg over 6000) = 21.8667%\n",
      "[2018-10-14T22:06:24 | info | Mocha]: ---------------------------------------------------------\n",
      "[2018-10-14T22:06:24 | info | Mocha]: \n",
      "[2018-10-14T22:06:24 | info | Mocha]:  TRAIN iter=003100 obj_val=NaN\n",
      "[2018-10-14T22:06:25 | info | Mocha]:  TRAIN iter=003200 obj_val=NaN\n",
      "[2018-10-14T22:06:25 | info | Mocha]:  TRAIN iter=003300 obj_val=NaN\n",
      "[2018-10-14T22:06:25 | info | Mocha]:  TRAIN iter=003400 obj_val=NaN\n",
      "[2018-10-14T22:06:25 | info | Mocha]:  TRAIN iter=003500 obj_val=NaN\n",
      "[2018-10-14T22:06:25 | info | Mocha]: Saving snapshot to snapshot-003500.jld...\n",
      "[2018-10-14T22:06:25 | info | Mocha]:  TRAIN iter=003600 obj_val=NaN\n",
      "[2018-10-14T22:06:25 | info | Mocha]:  TRAIN iter=003700 obj_val=NaN\n",
      "[2018-10-14T22:06:25 | info | Mocha]:  TRAIN iter=003800 obj_val=NaN\n",
      "[2018-10-14T22:06:25 | info | Mocha]:  TRAIN iter=003900 obj_val=NaN\n",
      "[2018-10-14T22:06:25 | info | Mocha]:  TRAIN iter=004000 obj_val=NaN\n",
      "[2018-10-14T22:06:25 | info | Mocha]: Saving snapshot to snapshot-004000.jld...\n",
      "[2018-10-14T22:06:25 | info | Mocha]: \n",
      "[2018-10-14T22:06:25 | info | Mocha]: ## Performance on Validation Set after 4000 iterations\n",
      "[2018-10-14T22:06:25 | info | Mocha]: ---------------------------------------------------------\n",
      "[2018-10-14T22:06:25 | info | Mocha]:   Accuracy (avg over 6000) = 21.8667%\n",
      "[2018-10-14T22:06:25 | info | Mocha]: ---------------------------------------------------------\n",
      "[2018-10-14T22:06:25 | info | Mocha]: \n",
      "[2018-10-14T22:06:25 | info | Mocha]:  TRAIN iter=004100 obj_val=NaN\n",
      "[2018-10-14T22:06:25 | info | Mocha]:  TRAIN iter=004200 obj_val=NaN\n",
      "[2018-10-14T22:06:25 | info | Mocha]:  TRAIN iter=004300 obj_val=NaN\n",
      "[2018-10-14T22:06:26 | info | Mocha]:  TRAIN iter=004400 obj_val=NaN\n",
      "[2018-10-14T22:06:26 | info | Mocha]:  TRAIN iter=004500 obj_val=NaN\n",
      "[2018-10-14T22:06:26 | info | Mocha]: Saving snapshot to snapshot-004500.jld...\n",
      "[2018-10-14T22:06:26 | info | Mocha]:  TRAIN iter=004600 obj_val=NaN\n",
      "[2018-10-14T22:06:26 | info | Mocha]:  TRAIN iter=004700 obj_val=NaN\n",
      "[2018-10-14T22:06:26 | info | Mocha]:  TRAIN iter=004800 obj_val=NaN\n",
      "[2018-10-14T22:06:26 | info | Mocha]:  TRAIN iter=004900 obj_val=NaN\n",
      "[2018-10-14T22:06:26 | info | Mocha]:  TRAIN iter=005000 obj_val=NaN\n",
      "[2018-10-14T22:06:26 | info | Mocha]: Saving snapshot to snapshot-005000.jld...\n",
      "[2018-10-14T22:06:26 | info | Mocha]: \n",
      "[2018-10-14T22:06:26 | info | Mocha]: ## Performance on Validation Set after 5000 iterations\n",
      "[2018-10-14T22:06:26 | info | Mocha]: ---------------------------------------------------------\n",
      "[2018-10-14T22:06:26 | info | Mocha]:   Accuracy (avg over 6000) = 21.8667%\n",
      "[2018-10-14T22:06:26 | info | Mocha]: ---------------------------------------------------------\n",
      "[2018-10-14T22:06:26 | info | Mocha]: \n",
      "[2018-10-14T22:06:26 | info | Mocha]:  TRAIN iter=005100 obj_val=NaN\n",
      "[2018-10-14T22:06:26 | info | Mocha]:  TRAIN iter=005200 obj_val=NaN\n",
      "[2018-10-14T22:06:26 | info | Mocha]:  TRAIN iter=005300 obj_val=NaN\n",
      "[2018-10-14T22:06:26 | info | Mocha]:  TRAIN iter=005400 obj_val=NaN\n",
      "[2018-10-14T22:06:27 | info | Mocha]:  TRAIN iter=005500 obj_val=NaN\n",
      "[2018-10-14T22:06:27 | info | Mocha]: Saving snapshot to snapshot-005500.jld...\n",
      "[2018-10-14T22:06:27 | info | Mocha]:  TRAIN iter=005600 obj_val=NaN\n",
      "[2018-10-14T22:06:27 | info | Mocha]:  TRAIN iter=005700 obj_val=NaN\n",
      "[2018-10-14T22:06:27 | info | Mocha]:  TRAIN iter=005800 obj_val=NaN\n",
      "[2018-10-14T22:06:27 | info | Mocha]:  TRAIN iter=005900 obj_val=NaN\n",
      "[2018-10-14T22:06:27 | info | Mocha]:  TRAIN iter=006000 obj_val=NaN\n",
      "[2018-10-14T22:06:27 | info | Mocha]: Saving snapshot to snapshot-006000.jld...\n",
      "[2018-10-14T22:06:27 | info | Mocha]: \n",
      "[2018-10-14T22:06:27 | info | Mocha]: ## Performance on Validation Set after 6000 iterations\n",
      "[2018-10-14T22:06:27 | info | Mocha]: ---------------------------------------------------------\n"
     ]
    },
    {
     "name": "stdout",
     "output_type": "stream",
     "text": [
      "[2018-10-14T22:06:27 | info | Mocha]:   Accuracy (avg over 6000) = 21.8667%\n",
      "[2018-10-14T22:06:27 | info | Mocha]: ---------------------------------------------------------\n",
      "[2018-10-14T22:06:27 | info | Mocha]: \n",
      "[2018-10-14T22:06:27 | info | Mocha]:  TRAIN iter=006100 obj_val=NaN\n",
      "[2018-10-14T22:06:27 | info | Mocha]:  TRAIN iter=006200 obj_val=NaN\n",
      "[2018-10-14T22:06:27 | info | Mocha]:  TRAIN iter=006300 obj_val=NaN\n",
      "[2018-10-14T22:06:27 | info | Mocha]:  TRAIN iter=006400 obj_val=NaN\n",
      "[2018-10-14T22:06:27 | info | Mocha]:  TRAIN iter=006500 obj_val=NaN\n",
      "[2018-10-14T22:06:27 | info | Mocha]: Saving snapshot to snapshot-006500.jld...\n",
      "[2018-10-14T22:06:27 | info | Mocha]:  TRAIN iter=006600 obj_val=NaN\n",
      "[2018-10-14T22:06:28 | info | Mocha]:  TRAIN iter=006700 obj_val=NaN\n",
      "[2018-10-14T22:06:28 | info | Mocha]:  TRAIN iter=006800 obj_val=NaN\n",
      "[2018-10-14T22:06:28 | info | Mocha]:  TRAIN iter=006900 obj_val=NaN\n",
      "[2018-10-14T22:06:28 | info | Mocha]:  TRAIN iter=007000 obj_val=NaN\n",
      "[2018-10-14T22:06:28 | info | Mocha]: Saving snapshot to snapshot-007000.jld...\n",
      "[2018-10-14T22:06:28 | info | Mocha]: \n",
      "[2018-10-14T22:06:28 | info | Mocha]: ## Performance on Validation Set after 7000 iterations\n",
      "[2018-10-14T22:06:28 | info | Mocha]: ---------------------------------------------------------\n",
      "[2018-10-14T22:06:28 | info | Mocha]:   Accuracy (avg over 6000) = 21.8667%\n",
      "[2018-10-14T22:06:28 | info | Mocha]: ---------------------------------------------------------\n",
      "[2018-10-14T22:06:28 | info | Mocha]: \n",
      "[2018-10-14T22:06:28 | info | Mocha]:  TRAIN iter=007100 obj_val=NaN\n",
      "[2018-10-14T22:06:28 | info | Mocha]:  TRAIN iter=007200 obj_val=NaN\n",
      "[2018-10-14T22:06:28 | info | Mocha]:  TRAIN iter=007300 obj_val=NaN\n",
      "[2018-10-14T22:06:28 | info | Mocha]:  TRAIN iter=007400 obj_val=NaN\n",
      "[2018-10-14T22:06:28 | info | Mocha]:  TRAIN iter=007500 obj_val=NaN\n",
      "[2018-10-14T22:06:28 | info | Mocha]: Saving snapshot to snapshot-007500.jld...\n",
      "[2018-10-14T22:06:28 | info | Mocha]:  TRAIN iter=007600 obj_val=NaN\n",
      "[2018-10-14T22:06:28 | info | Mocha]:  TRAIN iter=007700 obj_val=NaN\n",
      "[2018-10-14T22:06:28 | info | Mocha]:  TRAIN iter=007800 obj_val=NaN\n",
      "[2018-10-14T22:06:28 | info | Mocha]:  TRAIN iter=007900 obj_val=NaN\n",
      "[2018-10-14T22:06:28 | info | Mocha]:  TRAIN iter=008000 obj_val=NaN\n",
      "[2018-10-14T22:06:28 | info | Mocha]: Saving snapshot to snapshot-008000.jld...\n",
      "[2018-10-14T22:06:29 | info | Mocha]: \n",
      "[2018-10-14T22:06:29 | info | Mocha]: ## Performance on Validation Set after 8000 iterations\n",
      "[2018-10-14T22:06:29 | info | Mocha]: ---------------------------------------------------------\n",
      "[2018-10-14T22:06:29 | info | Mocha]:   Accuracy (avg over 6000) = 21.8667%\n",
      "[2018-10-14T22:06:29 | info | Mocha]: ---------------------------------------------------------\n",
      "[2018-10-14T22:06:29 | info | Mocha]: \n",
      "[2018-10-14T22:06:29 | info | Mocha]:  TRAIN iter=008100 obj_val=NaN\n",
      "[2018-10-14T22:06:29 | info | Mocha]:  TRAIN iter=008200 obj_val=NaN\n",
      "[2018-10-14T22:06:29 | info | Mocha]:  TRAIN iter=008300 obj_val=NaN\n",
      "[2018-10-14T22:06:29 | info | Mocha]:  TRAIN iter=008400 obj_val=NaN\n",
      "[2018-10-14T22:06:29 | info | Mocha]:  TRAIN iter=008500 obj_val=NaN\n",
      "[2018-10-14T22:06:29 | info | Mocha]: Saving snapshot to snapshot-008500.jld...\n",
      "[2018-10-14T22:06:29 | info | Mocha]:  TRAIN iter=008600 obj_val=NaN\n",
      "[2018-10-14T22:06:29 | info | Mocha]:  TRAIN iter=008700 obj_val=NaN\n",
      "[2018-10-14T22:06:29 | info | Mocha]:  TRAIN iter=008800 obj_val=NaN\n",
      "[2018-10-14T22:06:29 | info | Mocha]:  TRAIN iter=008900 obj_val=NaN\n",
      "[2018-10-14T22:06:29 | info | Mocha]:  TRAIN iter=009000 obj_val=NaN\n",
      "[2018-10-14T22:06:29 | info | Mocha]: Saving snapshot to snapshot-009000.jld...\n",
      "[2018-10-14T22:06:29 | info | Mocha]: \n",
      "[2018-10-14T22:06:29 | info | Mocha]: ## Performance on Validation Set after 9000 iterations\n",
      "[2018-10-14T22:06:29 | info | Mocha]: ---------------------------------------------------------\n",
      "[2018-10-14T22:06:29 | info | Mocha]:   Accuracy (avg over 6000) = 21.8667%\n",
      "[2018-10-14T22:06:29 | info | Mocha]: ---------------------------------------------------------\n",
      "[2018-10-14T22:06:29 | info | Mocha]: \n",
      "[2018-10-14T22:06:30 | info | Mocha]:  TRAIN iter=009100 obj_val=NaN\n",
      "[2018-10-14T22:06:30 | info | Mocha]:  TRAIN iter=009200 obj_val=NaN\n",
      "[2018-10-14T22:06:30 | info | Mocha]:  TRAIN iter=009300 obj_val=NaN\n",
      "[2018-10-14T22:06:30 | info | Mocha]:  TRAIN iter=009400 obj_val=NaN\n",
      "[2018-10-14T22:06:30 | info | Mocha]:  TRAIN iter=009500 obj_val=NaN\n",
      "[2018-10-14T22:06:30 | info | Mocha]: Saving snapshot to snapshot-009500.jld...\n",
      "[2018-10-14T22:06:30 | info | Mocha]:  TRAIN iter=009600 obj_val=NaN\n",
      "[2018-10-14T22:06:30 | info | Mocha]:  TRAIN iter=009700 obj_val=NaN\n",
      "[2018-10-14T22:06:30 | info | Mocha]:  TRAIN iter=009800 obj_val=NaN\n",
      "[2018-10-14T22:06:30 | info | Mocha]:  TRAIN iter=009900 obj_val=NaN\n",
      "[2018-10-14T22:06:30 | info | Mocha]:  TRAIN iter=010000 obj_val=NaN\n",
      "[2018-10-14T22:06:30 | info | Mocha]: Saving snapshot to snapshot-010000.jld...\n",
      "[2018-10-14T22:06:30 | info | Mocha]: \n",
      "[2018-10-14T22:06:30 | info | Mocha]: ## Performance on Validation Set after 10000 iterations\n",
      "[2018-10-14T22:06:30 | info | Mocha]: ---------------------------------------------------------\n",
      "[2018-10-14T22:06:30 | info | Mocha]:   Accuracy (avg over 6000) = 21.8667%\n",
      "[2018-10-14T22:06:30 | info | Mocha]: ---------------------------------------------------------\n",
      "[2018-10-14T22:06:30 | info | Mocha]: \n",
      " 21.181266 seconds (23.23 M allocations: 924.183 MiB, 1.55% gc time)\n"
     ]
    },
    {
     "data": {
      "text/plain": [
       "Dict{AbstractString,Array{Mocha.AbstractParameter,1}} with 0 entries"
      ]
     },
     "execution_count": 16,
     "metadata": {},
     "output_type": "execute_result"
    }
   ],
   "source": [
    "@time solve(solver, net)\n",
    "\n",
    "destroy(net)\n",
    "destroy(test_net)\n",
    "shutdown(backend)"
   ]
  },
  {
   "cell_type": "code",
   "execution_count": null,
   "metadata": {},
   "outputs": [],
   "source": []
  }
 ],
 "metadata": {
  "kernelspec": {
   "display_name": "Julia 0.6.0",
   "language": "julia",
   "name": "julia-0.6"
  },
  "language_info": {
   "file_extension": ".jl",
   "mimetype": "application/julia",
   "name": "julia",
   "version": "0.6.4"
  }
 },
 "nbformat": 4,
 "nbformat_minor": 2
}
