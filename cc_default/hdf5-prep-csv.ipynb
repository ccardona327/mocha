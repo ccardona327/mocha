{
 "cells": [
  {
   "cell_type": "markdown",
   "metadata": {},
   "source": [
    "Simple example of creating HDF5 file from CSV"
   ]
  },
  {
   "cell_type": "code",
   "execution_count": 2,
   "metadata": {},
   "outputs": [],
   "source": [
    "using HDF5, CSV"
   ]
  },
  {
   "cell_type": "code",
   "execution_count": 3,
   "metadata": {},
   "outputs": [],
   "source": [
    "train_data_name = \"cc_train\"\n",
    "test_data_name = \"cc_test\" ;"
   ]
  },
  {
   "cell_type": "code",
   "execution_count": 4,
   "metadata": {},
   "outputs": [
    {
     "name": "stderr",
     "output_type": "stream",
     "text": [
      "\u001b[1m\u001b[33mWARNING: \u001b[39m\u001b[22m\u001b[33mnullable=false argument is deprecated, use allowmissing=:none instead\u001b[39m\n",
      "Stacktrace:\n",
      " [1] \u001b[1mdepwarn\u001b[22m\u001b[22m\u001b[1m(\u001b[22m\u001b[22m::String, ::Symbol\u001b[1m)\u001b[22m\u001b[22m at \u001b[1m./deprecated.jl:70\u001b[22m\u001b[22m\n",
      " [2] \u001b[1m#Source#24\u001b[22m\u001b[22m\u001b[1m(\u001b[22m\u001b[22m::String, ::CSV.Options{Void}, ::Int64, ::Int64, ::Array{Type,1}, ::Symbol, ::Bool, ::Bool, ::Void, ::Symbol, ::Int64, ::Int64, ::Int64, ::Bool, ::Type{T} where T\u001b[1m)\u001b[22m\u001b[22m at \u001b[1m/Users/max/.julia/v0.6/CSV/src/Source.jl:70\u001b[22m\u001b[22m\n",
      " [3] \u001b[1m(::Core.#kw#Type)\u001b[22m\u001b[22m\u001b[1m(\u001b[22m\u001b[22m::Array{Any,1}, ::Type{CSV.Source}\u001b[1m)\u001b[22m\u001b[22m at \u001b[1m./<missing>:0\u001b[22m\u001b[22m\n",
      " [4] \u001b[1m#Source#23\u001b[22m\u001b[22m\u001b[1m(\u001b[22m\u001b[22m::UInt8, ::UInt8, ::UInt8, ::String, ::Void, ::Int64, ::Int64, ::Array{Type,1}, ::Symbol, ::Bool, ::Void, ::UInt8, ::String, ::String, ::Bool, ::Void, ::Symbol, ::Int64, ::Int64, ::Int64, ::Bool, ::Type{T} where T, ::String\u001b[1m)\u001b[22m\u001b[22m at \u001b[1m/Users/max/.julia/v0.6/CSV/src/Source.jl:31\u001b[22m\u001b[22m\n",
      " [5] \u001b[1m(::Core.#kw#Type)\u001b[22m\u001b[22m\u001b[1m(\u001b[22m\u001b[22m::Array{Any,1}, ::Type{CSV.Source}, ::String\u001b[1m)\u001b[22m\u001b[22m at \u001b[1m./<missing>:0\u001b[22m\u001b[22m\n",
      " [6] \u001b[1m#read#43\u001b[22m\u001b[22m\u001b[1m(\u001b[22m\u001b[22m::Bool, ::Dict{Int64,Function}, ::Bool, ::Array{Any,1}, ::Function, ::String, ::Type{T} where T\u001b[1m)\u001b[22m\u001b[22m at \u001b[1m/Users/max/.julia/v0.6/CSV/src/Source.jl:347\u001b[22m\u001b[22m\n",
      " [7] \u001b[1m(::CSV.#kw##read)\u001b[22m\u001b[22m\u001b[1m(\u001b[22m\u001b[22m::Array{Any,1}, ::CSV.#read, ::String, ::Type{T} where T\u001b[1m)\u001b[22m\u001b[22m at \u001b[1m./<missing>:0\u001b[22m\u001b[22m (repeats 2 times)\n",
      " [8] \u001b[1minclude_string\u001b[22m\u001b[22m\u001b[1m(\u001b[22m\u001b[22m::String, ::String\u001b[1m)\u001b[22m\u001b[22m at \u001b[1m./loading.jl:522\u001b[22m\u001b[22m\n",
      " [9] \u001b[1msoftscope_include_string\u001b[22m\u001b[22m\u001b[1m(\u001b[22m\u001b[22m::Module, ::String, ::String\u001b[1m)\u001b[22m\u001b[22m at \u001b[1m/Users/max/.julia/v0.6/SoftGlobalScope/src/SoftGlobalScope.jl:66\u001b[22m\u001b[22m\n",
      " [10] \u001b[1mexecute_request\u001b[22m\u001b[22m\u001b[1m(\u001b[22m\u001b[22m::ZMQ.Socket, ::IJulia.Msg\u001b[1m)\u001b[22m\u001b[22m at \u001b[1m/Users/max/.julia/v0.6/IJulia/src/execute_request.jl:193\u001b[22m\u001b[22m\n",
      " [11] \u001b[1m(::Compat.#inner#6{Array{Any,1},IJulia.#execute_request,Tuple{ZMQ.Socket,IJulia.Msg}})\u001b[22m\u001b[22m\u001b[1m(\u001b[22m\u001b[22m\u001b[1m)\u001b[22m\u001b[22m at \u001b[1m/Users/max/.julia/v0.6/Compat/src/Compat.jl:189\u001b[22m\u001b[22m\n",
      " [12] \u001b[1meventloop\u001b[22m\u001b[22m\u001b[1m(\u001b[22m\u001b[22m::ZMQ.Socket\u001b[1m)\u001b[22m\u001b[22m at \u001b[1m/Users/max/.julia/v0.6/IJulia/src/eventloop.jl:8\u001b[22m\u001b[22m\n",
      " [13] \u001b[1m(::IJulia.##13#16)\u001b[22m\u001b[22m\u001b[1m(\u001b[22m\u001b[22m\u001b[1m)\u001b[22m\u001b[22m at \u001b[1m./task.jl:335\u001b[22m\u001b[22m\n",
      "while loading In[4], in expression starting on line 1\n"
     ]
    },
    {
     "data": {
      "text/plain": [
       "30000×25 Array{Any,2}:\n",
       " \"1\"      \"20000\"   \"2\"  \"2\"  \"1\"  \"24\"  …  \"0\"      \"0\"      \"0\"      \"1\"\n",
       " \"2\"      \"120000\"  \"2\"  \"2\"  \"2\"  \"26\"     \"1000\"   \"0\"      \"2000\"   \"1\"\n",
       " \"3\"      \"90000\"   \"2\"  \"2\"  \"2\"  \"34\"     \"1000\"   \"1000\"   \"5000\"   \"0\"\n",
       " \"4\"      \"50000\"   \"2\"  \"2\"  \"1\"  \"37\"     \"1100\"   \"1069\"   \"1000\"   \"0\"\n",
       " \"5\"      \"50000\"   \"1\"  \"2\"  \"1\"  \"57\"     \"9000\"   \"689\"    \"679\"    \"0\"\n",
       " \"6\"      \"50000\"   \"1\"  \"1\"  \"2\"  \"37\"  …  \"1000\"   \"1000\"   \"800\"    \"0\"\n",
       " \"7\"      \"500000\"  \"1\"  \"1\"  \"2\"  \"29\"     \"20239\"  \"13750\"  \"13770\"  \"0\"\n",
       " \"8\"      \"100000\"  \"2\"  \"2\"  \"2\"  \"23\"     \"581\"    \"1687\"   \"1542\"   \"0\"\n",
       " \"9\"      \"140000\"  \"2\"  \"3\"  \"1\"  \"28\"     \"1000\"   \"1000\"   \"1000\"   \"0\"\n",
       " \"10\"     \"20000\"   \"1\"  \"3\"  \"2\"  \"35\"     \"13007\"  \"1122\"   \"0\"      \"0\"\n",
       " \"11\"     \"200000\"  \"2\"  \"3\"  \"2\"  \"34\"  …  \"300\"    \"3738\"   \"66\"     \"0\"\n",
       " \"12\"     \"260000\"  \"2\"  \"1\"  \"2\"  \"51\"     \"22301\"  \"0\"      \"3640\"   \"0\"\n",
       " \"13\"     \"630000\"  \"2\"  \"2\"  \"2\"  \"41\"     \"6500\"   \"2870\"   \"0\"      \"0\"\n",
       " ⋮                                 ⋮     ⋱                                \n",
       " \"29989\"  \"250000\"  \"1\"  \"1\"  \"1\"  \"34\"     \"6000\"   \"7000\"   \"6009\"   \"0\"\n",
       " \"29990\"  \"150000\"  \"1\"  \"1\"  \"2\"  \"35\"     \"0\"      \"0\"      \"0\"      \"0\"\n",
       " \"29991\"  \"140000\"  \"1\"  \"2\"  \"1\"  \"41\"  …  \"1505\"   \"2000\"   \"2000\"   \"0\"\n",
       " \"29992\"  \"210000\"  \"1\"  \"2\"  \"1\"  \"34\"     \"0\"      \"0\"      \"0\"      \"1\"\n",
       " \"29993\"  \"10000\"   \"1\"  \"3\"  \"1\"  \"43\"     \"0\"      \"0\"      \"0\"      \"0\"\n",
       " \"29994\"  \"100000\"  \"1\"  \"1\"  \"2\"  \"38\"     \"3000\"   \"2000\"   \"2000\"   \"0\"\n",
       " \"29995\"  \"80000\"   \"1\"  \"2\"  \"2\"  \"34\"     \"7000\"   \"0\"      \"4000\"   \"1\"\n",
       " \"29996\"  \"220000\"  \"1\"  \"3\"  \"1\"  \"39\"  …  \"3047\"   \"5000\"   \"1000\"   \"0\"\n",
       " \"29997\"  \"150000\"  \"1\"  \"3\"  \"2\"  \"43\"     \"129\"    \"0\"      \"0\"      \"0\"\n",
       " \"29998\"  \"30000\"   \"1\"  \"2\"  \"2\"  \"37\"     \"4200\"   \"2000\"   \"3100\"   \"1\"\n",
       " \"29999\"  \"80000\"   \"1\"  \"3\"  \"1\"  \"41\"     \"1926\"   \"52964\"  \"1804\"   \"1\"\n",
       " \"30000\"  \"50000\"   \"1\"  \"2\"  \"1\"  \"46\"     \"1000\"   \"1000\"   \"1000\"   \"1\""
      ]
     },
     "execution_count": 4,
     "metadata": {},
     "output_type": "execute_result"
    }
   ],
   "source": [
    "cc_data = CSV.read(\"cc_data/cc_data.csv\",nullable=false)\n",
    "cc_data = convert(Array{Any,2},cc_data[2:30001,:])"
   ]
  },
  {
   "cell_type": "markdown",
   "metadata": {},
   "source": [
    "Mocha require Float32"
   ]
  },
  {
   "cell_type": "code",
   "execution_count": 5,
   "metadata": {},
   "outputs": [
    {
     "data": {
      "text/plain": [
       "30000×25 Array{Float32,2}:\n",
       " 26731.0   40000.0  1.0  1.0  2.0  24.0  …   800.0    800.0    800.0  0.0\n",
       " 24542.0  350000.0  1.0  3.0  1.0  35.0     2400.0   2400.0   2500.0  0.0\n",
       " 14227.0   20000.0  1.0  2.0  2.0  24.0     1500.0   1000.0      0.0  1.0\n",
       " 16179.0  280000.0  2.0  2.0  2.0  30.0        0.0      0.0    150.0  0.0\n",
       " 23886.0  400000.0  1.0  1.0  2.0  36.0        0.0      0.0      0.0  1.0\n",
       " 13034.0  180000.0  2.0  2.0  2.0  25.0  …  6000.0   6000.0   1567.0  0.0\n",
       " 12710.0  300000.0  1.0  2.0  2.0  33.0     8000.0   8000.0  11000.0  0.0\n",
       " 15611.0   10000.0  2.0  1.0  2.0  22.0        0.0      0.0      0.0  0.0\n",
       "  9678.0  360000.0  2.0  3.0  2.0  38.0        0.0      0.0      0.0  0.0\n",
       " 14806.0   20000.0  1.0  2.0  2.0  24.0     2000.0      0.0   1200.0  0.0\n",
       "  4737.0  290000.0  2.0  2.0  2.0  24.0  …  5000.0   5000.0  10000.0  0.0\n",
       " 14109.0   60000.0  2.0  2.0  2.0  23.0        0.0   1319.0   2200.0  0.0\n",
       " 10050.0   20000.0  1.0  2.0  2.0  30.0        0.0      0.0      0.0  0.0\n",
       "     ⋮                              ⋮    ⋱                               \n",
       " 28981.0  100000.0  2.0  3.0  1.0  39.0        0.0      0.0      0.0  0.0\n",
       " 18313.0   30000.0  2.0  2.0  2.0  22.0      955.0    991.0   1358.0  0.0\n",
       " 10474.0  150000.0  2.0  1.0  2.0  31.0  …  2457.0  12060.0  40000.0  0.0\n",
       "  3532.0  160000.0  2.0  3.0  2.0  41.0     1200.0   1500.0   2000.0  0.0\n",
       " 24895.0  500000.0  1.0  1.0  2.0  40.0     2644.0  26363.0  35908.0  0.0\n",
       " 23389.0  500000.0  2.0  1.0  2.0  34.0     3000.0   2600.0   2800.0  0.0\n",
       " 26898.0  360000.0  1.0  1.0  2.0  31.0        0.0      0.0      0.0  0.0\n",
       " 22291.0   20000.0  2.0  2.0  1.0  32.0  …     0.0   1500.0      0.0  1.0\n",
       "  9557.0  280000.0  1.0  2.0  2.0  29.0        0.0   8475.0   9266.0  1.0\n",
       "  8301.0  290000.0  2.0  2.0  2.0  29.0     8000.0   8000.0   8200.0  0.0\n",
       " 26265.0   50000.0  2.0  3.0  1.0  44.0     1687.0   1732.0   2007.0  0.0\n",
       " 19520.0   80000.0  2.0  2.0  1.0  26.0        0.0      0.0      0.0  1.0"
      ]
     },
     "execution_count": 5,
     "metadata": {},
     "output_type": "execute_result"
    }
   ],
   "source": [
    "cc_data = map(x->parse(Float32,x),cc_data)\n",
    "cc_data = convert(Array{Float32,2},cc_data)\n",
    "cc_data = cc_data[shuffle(1:end),:]"
   ]
  },
  {
   "cell_type": "code",
   "execution_count": 6,
   "metadata": {},
   "outputs": [],
   "source": [
    "cc_train_features = cc_data[1:24000,1:24]\n",
    "cc_train_labels = cc_data[1:24000,25];"
   ]
  },
  {
   "cell_type": "code",
   "execution_count": 7,
   "metadata": {},
   "outputs": [],
   "source": [
    "cc_test_features = cc_data[24001:end,1:24]\n",
    "cc_test_labels = cc_data[24001:end,25];"
   ]
  },
  {
   "cell_type": "code",
   "execution_count": 8,
   "metadata": {},
   "outputs": [
    {
     "data": {
      "text/plain": [
       "24×6000 Array{Float32,2}:\n",
       "  29640.0   16748.0  27994.0  13065.0   3457.0  …    8301.0  26265.0  19520.0\n",
       " 220000.0   80000.0  50000.0  30000.0  50000.0     290000.0  50000.0  80000.0\n",
       "      1.0       1.0      2.0      2.0      1.0          2.0      2.0      2.0\n",
       "      1.0       3.0      1.0      2.0      1.0          2.0      3.0      2.0\n",
       "      2.0       1.0      2.0      2.0      2.0          2.0      1.0      1.0\n",
       "     32.0      42.0     29.0     23.0     29.0  …      29.0     44.0     26.0\n",
       "     -1.0      -2.0      0.0      0.0      1.0          0.0      0.0      0.0\n",
       "     -1.0      -2.0      0.0      0.0      2.0          0.0      0.0      0.0\n",
       "     -1.0      -2.0      2.0      0.0      2.0          0.0      0.0      0.0\n",
       "     -1.0      -2.0      0.0      0.0      2.0          0.0      0.0      0.0\n",
       "     -1.0      -2.0      0.0      2.0      2.0  …       0.0      0.0     -2.0\n",
       "     -1.0      -2.0      0.0      0.0      2.0          0.0      0.0     -2.0\n",
       "   5359.0   -1590.0   6161.0  22517.0  14497.0     263796.0  45858.0  77758.0\n",
       "   4217.0   -6256.0   8998.0  24148.0  13975.0     268765.0  46315.0  80468.0\n",
       "   2900.0  -10922.0   8319.0  25437.0  25731.0     209697.0  47435.0  82150.0\n",
       "   3392.0  -15588.0   8672.0  28391.0  26112.0  …  212359.0  48290.0      0.0\n",
       "   1421.0  -20254.0   9390.0  27801.0  26548.0     216989.0  49257.0      0.0\n",
       "    915.0  -24920.0   9861.0  28684.0  25970.0     221260.0  49345.0      0.0\n",
       "   4217.0    4666.0   3500.0   2000.0      0.0      11320.0   2000.0   4000.0\n",
       "   2907.0    4666.0      0.0   2000.0  12000.0      10000.0   1865.0   4000.0\n",
       "   3397.0    4666.0   1282.0   3700.0   1100.0  …    7600.0   1720.0      0.0\n",
       "   1421.0    4666.0   1000.0      0.0   1000.0       8000.0   1687.0      0.0\n",
       "    915.0     266.0   1000.0   1500.0      0.0       8000.0   1732.0      0.0\n",
       "    906.0       0.0   3000.0   1500.0   2500.0       8200.0   2007.0      0.0"
      ]
     },
     "execution_count": 8,
     "metadata": {},
     "output_type": "execute_result"
    }
   ],
   "source": [
    "cc_train_features = transpose(cc_train_features)\n",
    "cc_test_features = transpose(cc_test_features)"
   ]
  },
  {
   "cell_type": "code",
   "execution_count": 9,
   "metadata": {},
   "outputs": [],
   "source": [
    "h5open(\"cc_data/$train_data_name.hdf5\", \"w\") do h5\n",
    "  write(h5, \"data\", cc_train_features[:,:])\n",
    "  write(h5, \"label\", cc_train_labels[:])\n",
    "end \n",
    "\n",
    "h5open(\"cc_data/$test_data_name.hdf5\", \"w\") do h5\n",
    "  write(h5, \"data\", cc_test_features[:,:])\n",
    "  write(h5, \"label\", cc_test_labels[:])\n",
    "end "
   ]
  },
  {
   "cell_type": "markdown",
   "metadata": {},
   "source": [
    "Mocha requires data source to be specified in a text file, this is a convenience to generate that"
   ]
  },
  {
   "cell_type": "code",
   "execution_count": 10,
   "metadata": {},
   "outputs": [],
   "source": [
    "run(pipeline(Cmd(`echo cc_data/$(train_data_name).hdf5`), stdout=\"cc_data/txt/$train_data_name.txt\", stderr=\"errs.txt\"))\n",
    "run(pipeline(Cmd(`echo cc_data/$(test_data_name).hdf5`), stdout=\"cc_data/txt/$test_data_name.txt\", stderr=\"errs.txt\"))"
   ]
  },
  {
   "cell_type": "code",
   "execution_count": 19,
   "metadata": {},
   "outputs": [
    {
     "data": {
      "text/plain": [
       "6636.0f0"
      ]
     },
     "execution_count": 19,
     "metadata": {},
     "output_type": "execute_result"
    }
   ],
   "source": [
    "sum(cc_test_labels) + sum(cc_train_labels)"
   ]
  },
  {
   "cell_type": "markdown",
   "metadata": {},
   "source": []
  }
 ],
 "metadata": {
  "kernelspec": {
   "display_name": "Julia 0.6.4",
   "language": "julia",
   "name": "julia-0.6"
  },
  "language_info": {
   "file_extension": ".jl",
   "mimetype": "application/julia",
   "name": "julia",
   "version": "0.6.4"
  }
 },
 "nbformat": 4,
 "nbformat_minor": 2
}
