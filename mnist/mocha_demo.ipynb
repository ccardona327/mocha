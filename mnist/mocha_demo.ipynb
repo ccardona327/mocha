{
 "cells": [
  {
   "cell_type": "code",
   "execution_count": 1,
   "metadata": {},
   "outputs": [
    {
     "name": "stdout",
     "output_type": "stream",
     "text": [
      "Configuring Mocha...\n",
      " * CUDA       disabled by default\n",
      " * Native Ext disabled by default\n",
      "Mocha configured, continue loading module...\n",
      "DefaultBackend = Mocha.CPUBackend\n"
     ]
    }
   ],
   "source": [
    "using Mocha"
   ]
  },
  {
   "cell_type": "code",
   "execution_count": 2,
   "metadata": {},
   "outputs": [
    {
     "data": {
      "text/plain": [
       "Mocha.HDF5DataLayer(train-data)"
      ]
     },
     "execution_count": 2,
     "metadata": {},
     "output_type": "execute_result"
    }
   ],
   "source": [
    "data_layer  = HDF5DataLayer(name=\"train-data\", source=\"data/train.txt\",\n",
    "    batch_size=64, shuffle=true)"
   ]
  },
  {
   "cell_type": "code",
   "execution_count": 3,
   "metadata": {},
   "outputs": [
    {
     "data": {
      "text/plain": [
       "Mocha.ConvolutionLayer(conv1)"
      ]
     },
     "execution_count": 3,
     "metadata": {},
     "output_type": "execute_result"
    }
   ],
   "source": [
    "conv_layer = ConvolutionLayer(name=\"conv1\", n_filter=20, kernel=(5,5),\n",
    "    bottoms=[:data], tops=[:conv1])"
   ]
  },
  {
   "cell_type": "code",
   "execution_count": 4,
   "metadata": {},
   "outputs": [
    {
     "data": {
      "text/plain": [
       "Mocha.PoolingLayer(pool2)"
      ]
     },
     "execution_count": 4,
     "metadata": {},
     "output_type": "execute_result"
    }
   ],
   "source": [
    "pool_layer = PoolingLayer(name=\"pool1\", kernel=(2,2), stride=(2,2),\n",
    "    bottoms=[:conv1], tops=[:pool1])\n",
    "conv2_layer = ConvolutionLayer(name=\"conv2\", n_filter=50, kernel=(5,5),\n",
    "    bottoms=[:pool1], tops=[:conv2])\n",
    "pool2_layer = PoolingLayer(name=\"pool2\", kernel=(2,2), stride=(2,2),\n",
    "    bottoms=[:conv2], tops=[:pool2])\n"
   ]
  },
  {
   "cell_type": "code",
   "execution_count": 5,
   "metadata": {},
   "outputs": [
    {
     "data": {
      "text/plain": [
       "Mocha.InnerProductLayer(ip2)"
      ]
     },
     "execution_count": 5,
     "metadata": {},
     "output_type": "execute_result"
    }
   ],
   "source": [
    "fc1_layer  = InnerProductLayer(name=\"ip1\", output_dim=500,\n",
    "    neuron=Neurons.ReLU(), bottoms=[:pool2], tops=[:ip1])\n",
    "fc2_layer  = InnerProductLayer(name=\"ip2\", output_dim=10,\n",
    "    bottoms=[:ip1], tops=[:ip2])"
   ]
  },
  {
   "cell_type": "code",
   "execution_count": 6,
   "metadata": {},
   "outputs": [
    {
     "data": {
      "text/plain": [
       "Mocha.SoftmaxLossLayer(loss)"
      ]
     },
     "execution_count": 6,
     "metadata": {},
     "output_type": "execute_result"
    }
   ],
   "source": [
    "loss_layer = SoftmaxLossLayer(name=\"loss\", bottoms=[:ip2,:label])"
   ]
  },
  {
   "cell_type": "code",
   "execution_count": 7,
   "metadata": {},
   "outputs": [],
   "source": [
    "backend = CPUBackend()\n",
    "init(backend)"
   ]
  },
  {
   "cell_type": "code",
   "execution_count": 8,
   "metadata": {},
   "outputs": [
    {
     "name": "stdout",
     "output_type": "stream",
     "text": [
      "[2018-10-14T23:13:09 | info | Mocha]: Constructing net MNIST-train on Mocha.CPUBackend...\n",
      "[2018-10-14T23:13:09 | info | Mocha]: Topological sorting 8 layers...\n",
      "[2018-10-14T23:13:09 | info | Mocha]: Setup layers...\n",
      "[2018-10-14T23:13:13 | info | Mocha]: Network constructed!\n"
     ]
    },
    {
     "data": {
      "text/plain": [
       "************************************************************\n",
       "          NAME: MNIST-train\n",
       "       BACKEND: Mocha.CPUBackend\n",
       "  ARCHITECTURE: 8 layers\n",
       "............................................................\n",
       " *** Mocha.HDF5DataLayer(train-data)\n",
       "    Outputs ---------------------------\n",
       "          data: Blob(28 x 28 x 1 x 64)\n",
       "         label: Blob(1 x 64)\n",
       "............................................................\n",
       " *** Mocha.ConvolutionLayer(conv1)\n",
       "    Inputs ----------------------------\n",
       "          data: Blob(28 x 28 x 1 x 64)\n",
       "    Outputs ---------------------------\n",
       "         conv1: Blob(24 x 24 x 20 x 64)\n",
       "............................................................\n",
       " *** Mocha.PoolingLayer(pool1)\n",
       "    Inputs ----------------------------\n",
       "         conv1: Blob(24 x 24 x 20 x 64)\n",
       "    Outputs ---------------------------\n",
       "         pool1: Blob(12 x 12 x 20 x 64)\n",
       "............................................................\n",
       " *** Mocha.ConvolutionLayer(conv2)\n",
       "    Inputs ----------------------------\n",
       "         pool1: Blob(12 x 12 x 20 x 64)\n",
       "    Outputs ---------------------------\n",
       "         conv2: Blob(8 x 8 x 50 x 64)\n",
       "............................................................\n",
       " *** Mocha.PoolingLayer(pool2)\n",
       "    Inputs ----------------------------\n",
       "         conv2: Blob(8 x 8 x 50 x 64)\n",
       "    Outputs ---------------------------\n",
       "         pool2: Blob(4 x 4 x 50 x 64)\n",
       "............................................................\n",
       " *** Mocha.InnerProductLayer(ip1)\n",
       "    Inputs ----------------------------\n",
       "         pool2: Blob(4 x 4 x 50 x 64)\n",
       "    Outputs ---------------------------\n",
       "           ip1: Blob(500 x 64)\n",
       "............................................................\n",
       " *** Mocha.InnerProductLayer(ip2)\n",
       "    Inputs ----------------------------\n",
       "           ip1: Blob(500 x 64)\n",
       "    Outputs ---------------------------\n",
       "           ip2: Blob(10 x 64)\n",
       "............................................................\n",
       " *** Mocha.SoftmaxLossLayer(loss)\n",
       "    Inputs ----------------------------\n",
       "           ip2: Blob(10 x 64)\n",
       "         label: Blob(1 x 64)\n",
       "************************************************************\n"
      ]
     },
     "execution_count": 8,
     "metadata": {},
     "output_type": "execute_result"
    }
   ],
   "source": [
    "common_layers = [conv_layer, pool_layer, conv2_layer, pool2_layer,\n",
    "    fc1_layer, fc2_layer]\n",
    "net = Net(\"MNIST-train\", backend, [data_layer, common_layers..., loss_layer])"
   ]
  },
  {
   "cell_type": "code",
   "execution_count": 9,
   "metadata": {},
   "outputs": [
    {
     "data": {
      "text/plain": [
       "Mocha.Solver{Mocha.SGD}(Mocha.SGD(), Dict{Symbol,Any}(Pair{Symbol,Any}(:lr_policy, Mocha.LRPolicy.Inv(0.01, 0.0001, 0.75)),Pair{Symbol,Any}(:max_iter, 10000),Pair{Symbol,Any}(:load_from, \"snapshots\"),Pair{Symbol,Any}(:regu_coef, 0.0005),Pair{Symbol,Any}(:mom_policy, Mocha.MomPolicy.Fixed(0.9))), Mocha.CoffeeLounge(\"\", 1, :merge, Dict{AbstractString,Dict{Int64,AbstractFloat}}(), Mocha.CoffeeBreak[], false, 0, 0))"
      ]
     },
     "execution_count": 9,
     "metadata": {},
     "output_type": "execute_result"
    }
   ],
   "source": [
    "exp_dir = \"snapshots\"\n",
    "method = SGD()\n",
    "params = make_solver_parameters(method, max_iter=10000, regu_coef=0.0005,\n",
    "    mom_policy=MomPolicy.Fixed(0.9),\n",
    "    lr_policy=LRPolicy.Inv(0.01, 0.0001, 0.75),\n",
    "    load_from=exp_dir)\n",
    "solver = Solver(method, params)"
   ]
  },
  {
   "cell_type": "code",
   "execution_count": 10,
   "metadata": {},
   "outputs": [
    {
     "data": {
      "text/plain": [
       ":merge"
      ]
     },
     "execution_count": 10,
     "metadata": {},
     "output_type": "execute_result"
    }
   ],
   "source": [
    "setup_coffee_lounge(solver, save_into=\"$exp_dir/statistics.jld\", every_n_iter=1000)\n"
   ]
  },
  {
   "cell_type": "code",
   "execution_count": 11,
   "metadata": {},
   "outputs": [
    {
     "data": {
      "text/plain": [
       "1-element Array{Mocha.CoffeeBreak,1}:\n",
       " Mocha.CoffeeBreak(Mocha.TrainingSummary(Any[:iter, :obj_val]), 100, 0)"
      ]
     },
     "execution_count": 11,
     "metadata": {},
     "output_type": "execute_result"
    }
   ],
   "source": [
    "add_coffee_break(solver, TrainingSummary(), every_n_iter=100)"
   ]
  },
  {
   "cell_type": "code",
   "execution_count": 12,
   "metadata": {},
   "outputs": [
    {
     "data": {
      "text/plain": [
       "2-element Array{Mocha.CoffeeBreak,1}:\n",
       " Mocha.CoffeeBreak(Mocha.TrainingSummary(Any[:iter, :obj_val]), 100, 0)\n",
       " Mocha.CoffeeBreak(Mocha.Snapshot(\"snapshots\"), 5000, 0)               "
      ]
     },
     "execution_count": 12,
     "metadata": {},
     "output_type": "execute_result"
    }
   ],
   "source": [
    "add_coffee_break(solver, Snapshot(exp_dir), every_n_iter=5000)\n"
   ]
  },
  {
   "cell_type": "code",
   "execution_count": 13,
   "metadata": {},
   "outputs": [
    {
     "name": "stdout",
     "output_type": "stream",
     "text": [
      "[2018-10-14T23:14:02 | info | Mocha]: Constructing net MNIST-test on Mocha.CPUBackend...\n",
      "[2018-10-14T23:14:02 | info | Mocha]: Topological sorting 8 layers...\n",
      "[2018-10-14T23:14:02 | info | Mocha]: Setup layers...\n",
      "[2018-10-14T23:14:02 | info | Mocha]: Network constructed!\n"
     ]
    },
    {
     "data": {
      "text/plain": [
       "************************************************************\n",
       "          NAME: MNIST-test\n",
       "       BACKEND: Mocha.CPUBackend\n",
       "  ARCHITECTURE: 8 layers\n",
       "............................................................\n",
       " *** Mocha.HDF5DataLayer(test-data)\n",
       "    Outputs ---------------------------\n",
       "          data: Blob(28 x 28 x 1 x 100)\n",
       "         label: Blob(1 x 100)\n",
       "............................................................\n",
       " *** Mocha.ConvolutionLayer(conv1)\n",
       "    Inputs ----------------------------\n",
       "          data: Blob(28 x 28 x 1 x 100)\n",
       "    Outputs ---------------------------\n",
       "         conv1: Blob(24 x 24 x 20 x 100)\n",
       "............................................................\n",
       " *** Mocha.PoolingLayer(pool1)\n",
       "    Inputs ----------------------------\n",
       "         conv1: Blob(24 x 24 x 20 x 100)\n",
       "    Outputs ---------------------------\n",
       "         pool1: Blob(12 x 12 x 20 x 100)\n",
       "............................................................\n",
       " *** Mocha.ConvolutionLayer(conv2)\n",
       "    Inputs ----------------------------\n",
       "         pool1: Blob(12 x 12 x 20 x 100)\n",
       "    Outputs ---------------------------\n",
       "         conv2: Blob(8 x 8 x 50 x 100)\n",
       "............................................................\n",
       " *** Mocha.PoolingLayer(pool2)\n",
       "    Inputs ----------------------------\n",
       "         conv2: Blob(8 x 8 x 50 x 100)\n",
       "    Outputs ---------------------------\n",
       "         pool2: Blob(4 x 4 x 50 x 100)\n",
       "............................................................\n",
       " *** Mocha.InnerProductLayer(ip1)\n",
       "    Inputs ----------------------------\n",
       "         pool2: Blob(4 x 4 x 50 x 100)\n",
       "    Outputs ---------------------------\n",
       "           ip1: Blob(500 x 100)\n",
       "............................................................\n",
       " *** Mocha.InnerProductLayer(ip2)\n",
       "    Inputs ----------------------------\n",
       "           ip1: Blob(500 x 100)\n",
       "    Outputs ---------------------------\n",
       "           ip2: Blob(10 x 100)\n",
       "............................................................\n",
       " *** Mocha.AccuracyLayer(test-accuracy)\n",
       "    Inputs ----------------------------\n",
       "           ip2: Blob(10 x 100)\n",
       "         label: Blob(1 x 100)\n",
       "************************************************************\n"
      ]
     },
     "execution_count": 13,
     "metadata": {},
     "output_type": "execute_result"
    }
   ],
   "source": [
    "data_layer_test = HDF5DataLayer(name=\"test-data\", source=\"data/test.txt\", batch_size=100)\n",
    "acc_layer = AccuracyLayer(name=\"test-accuracy\", bottoms=[:ip2, :label])\n",
    "test_net = Net(\"MNIST-test\", backend, [data_layer_test, common_layers..., acc_layer])"
   ]
  },
  {
   "cell_type": "code",
   "execution_count": 15,
   "metadata": {},
   "outputs": [],
   "source": [
    "add_coffee_break(solver, ValidationPerformance(test_net), every_n_iter=1000);"
   ]
  },
  {
   "cell_type": "code",
   "execution_count": 16,
   "metadata": {},
   "outputs": [
    {
     "name": "stdout",
     "output_type": "stream",
     "text": [
      "[2018-10-14T23:14:36 | info | Mocha]: Snapshot directory snapshots already exists\n",
      "[2018-10-14T23:14:36 | info | Mocha]:  TRAIN iter=000000 obj_val=2.35343313\n",
      "[2018-10-14T23:14:37 | info | Mocha]: Saving snapshot to snapshot-000000.jld...\n",
      "[2018-10-14T23:15:30 | info | Mocha]: \n",
      "[2018-10-14T23:15:30 | info | Mocha]: ## Performance on Validation Set after 0 iterations\n",
      "[2018-10-14T23:15:30 | info | Mocha]: ---------------------------------------------------------\n",
      "[2018-10-14T23:15:30 | info | Mocha]:   Accuracy (avg over 10000) = 10.0500%\n",
      "[2018-10-14T23:15:30 | info | Mocha]: ---------------------------------------------------------\n",
      "[2018-10-14T23:15:30 | info | Mocha]: \n",
      "[2018-10-14T23:16:13 | info | Mocha]: \n",
      "[2018-10-14T23:16:13 | info | Mocha]: ## Performance on Validation Set after 0 iterations\n",
      "[2018-10-14T23:16:13 | info | Mocha]: ---------------------------------------------------------\n",
      "[2018-10-14T23:16:13 | info | Mocha]:   Accuracy (avg over 10000) = 10.0500%\n",
      "[2018-10-14T23:16:13 | info | Mocha]: ---------------------------------------------------------\n",
      "[2018-10-14T23:16:13 | info | Mocha]: \n",
      "[2018-10-14T23:16:56 | info | Mocha]:  TRAIN iter=000100 obj_val=0.35136861\n",
      "[2018-10-14T23:17:33 | info | Mocha]:  TRAIN iter=000200 obj_val=0.29165453\n",
      "[2018-10-14T23:18:07 | info | Mocha]:  TRAIN iter=000300 obj_val=0.17058927\n",
      "[2018-10-14T23:18:38 | info | Mocha]:  TRAIN iter=000400 obj_val=0.06396579\n",
      "[2018-10-14T23:19:10 | info | Mocha]:  TRAIN iter=000500 obj_val=0.06322452\n",
      "[2018-10-14T23:19:40 | info | Mocha]:  TRAIN iter=000600 obj_val=0.18402760\n",
      "[2018-10-14T23:20:11 | info | Mocha]:  TRAIN iter=000700 obj_val=0.01212686\n",
      "[2018-10-14T23:20:41 | info | Mocha]:  TRAIN iter=000800 obj_val=0.13118537\n",
      "[2018-10-14T23:21:12 | info | Mocha]:  TRAIN iter=000900 obj_val=0.04159666\n",
      "[2018-10-14T23:21:45 | info | Mocha]:  TRAIN iter=001000 obj_val=0.05881244\n",
      "[2018-10-14T23:22:27 | info | Mocha]: \n",
      "[2018-10-14T23:22:27 | info | Mocha]: ## Performance on Validation Set after 1000 iterations\n",
      "[2018-10-14T23:22:27 | info | Mocha]: ---------------------------------------------------------\n",
      "[2018-10-14T23:22:27 | info | Mocha]:   Accuracy (avg over 10000) = 98.2200%\n",
      "[2018-10-14T23:22:27 | info | Mocha]: ---------------------------------------------------------\n",
      "[2018-10-14T23:22:27 | info | Mocha]: \n",
      "[2018-10-14T23:23:10 | info | Mocha]: \n",
      "[2018-10-14T23:23:10 | info | Mocha]: ## Performance on Validation Set after 1000 iterations\n",
      "[2018-10-14T23:23:10 | info | Mocha]: ---------------------------------------------------------\n",
      "[2018-10-14T23:23:10 | info | Mocha]:   Accuracy (avg over 10000) = 98.2200%\n",
      "[2018-10-14T23:23:10 | info | Mocha]: ---------------------------------------------------------\n",
      "[2018-10-14T23:23:10 | info | Mocha]: \n",
      "[2018-10-14T23:23:41 | info | Mocha]:  TRAIN iter=001100 obj_val=0.09374388\n",
      "[2018-10-14T23:24:14 | info | Mocha]:  TRAIN iter=001200 obj_val=0.03558533\n",
      "[2018-10-14T23:24:45 | info | Mocha]:  TRAIN iter=001300 obj_val=0.09603602\n",
      "[2018-10-14T23:25:16 | info | Mocha]:  TRAIN iter=001400 obj_val=0.01155812\n",
      "[2018-10-14T23:25:49 | info | Mocha]:  TRAIN iter=001500 obj_val=0.07222904\n",
      "[2018-10-14T23:26:20 | info | Mocha]:  TRAIN iter=001600 obj_val=0.07229725\n",
      "[2018-10-14T23:26:50 | info | Mocha]:  TRAIN iter=001700 obj_val=0.01763233\n",
      "[2018-10-14T23:27:19 | info | Mocha]:  TRAIN iter=001800 obj_val=0.07443352\n",
      "[2018-10-14T23:27:49 | info | Mocha]:  TRAIN iter=001900 obj_val=0.01627287\n",
      "[2018-10-14T23:28:19 | info | Mocha]:  TRAIN iter=002000 obj_val=0.02737620\n",
      "[2018-10-14T23:29:01 | info | Mocha]: \n",
      "[2018-10-14T23:29:01 | info | Mocha]: ## Performance on Validation Set after 2000 iterations\n",
      "[2018-10-14T23:29:01 | info | Mocha]: ---------------------------------------------------------\n",
      "[2018-10-14T23:29:01 | info | Mocha]:   Accuracy (avg over 10000) = 98.6200%\n",
      "[2018-10-14T23:29:01 | info | Mocha]: ---------------------------------------------------------\n",
      "[2018-10-14T23:29:01 | info | Mocha]: \n",
      "[2018-10-14T23:29:44 | info | Mocha]: \n",
      "[2018-10-14T23:29:44 | info | Mocha]: ## Performance on Validation Set after 2000 iterations\n",
      "[2018-10-14T23:29:44 | info | Mocha]: ---------------------------------------------------------\n",
      "[2018-10-14T23:29:44 | info | Mocha]:   Accuracy (avg over 10000) = 98.6200%\n",
      "[2018-10-14T23:29:44 | info | Mocha]: ---------------------------------------------------------\n",
      "[2018-10-14T23:29:44 | info | Mocha]: \n",
      "[2018-10-14T23:30:13 | info | Mocha]:  TRAIN iter=002100 obj_val=0.09297247\n",
      "[2018-10-14T23:30:42 | info | Mocha]:  TRAIN iter=002200 obj_val=0.07071245\n",
      "[2018-10-14T23:31:13 | info | Mocha]:  TRAIN iter=002300 obj_val=0.06730057\n",
      "[2018-10-14T23:31:44 | info | Mocha]:  TRAIN iter=002400 obj_val=0.04172592\n",
      "[2018-10-14T23:32:14 | info | Mocha]:  TRAIN iter=002500 obj_val=0.00466541\n",
      "[2018-10-14T23:32:44 | info | Mocha]:  TRAIN iter=002600 obj_val=0.04590057\n",
      "[2018-10-14T23:33:13 | info | Mocha]:  TRAIN iter=002700 obj_val=0.01886332\n",
      "[2018-10-14T23:33:44 | info | Mocha]:  TRAIN iter=002800 obj_val=0.03690615\n",
      "[2018-10-14T23:34:13 | info | Mocha]:  TRAIN iter=002900 obj_val=0.02373992\n",
      "[2018-10-14T23:34:43 | info | Mocha]:  TRAIN iter=003000 obj_val=0.00662908\n",
      "[2018-10-14T23:35:22 | info | Mocha]: \n",
      "[2018-10-14T23:35:22 | info | Mocha]: ## Performance on Validation Set after 3000 iterations\n",
      "[2018-10-14T23:35:22 | info | Mocha]: ---------------------------------------------------------\n",
      "[2018-10-14T23:35:22 | info | Mocha]:   Accuracy (avg over 10000) = 98.7900%\n",
      "[2018-10-14T23:35:22 | info | Mocha]: ---------------------------------------------------------\n",
      "[2018-10-14T23:35:22 | info | Mocha]: \n",
      "[2018-10-14T23:36:01 | info | Mocha]: \n",
      "[2018-10-14T23:36:01 | info | Mocha]: ## Performance on Validation Set after 3000 iterations\n",
      "[2018-10-14T23:36:01 | info | Mocha]: ---------------------------------------------------------\n",
      "[2018-10-14T23:36:01 | info | Mocha]:   Accuracy (avg over 10000) = 98.7900%\n",
      "[2018-10-14T23:36:01 | info | Mocha]: ---------------------------------------------------------\n",
      "[2018-10-14T23:36:01 | info | Mocha]: \n",
      "[2018-10-14T23:36:31 | info | Mocha]:  TRAIN iter=003100 obj_val=0.02219122\n",
      "[2018-10-14T23:37:00 | info | Mocha]:  TRAIN iter=003200 obj_val=0.05030662\n",
      "[2018-10-14T23:37:29 | info | Mocha]:  TRAIN iter=003300 obj_val=0.00380735\n",
      "[2018-10-14T23:37:59 | info | Mocha]:  TRAIN iter=003400 obj_val=0.03700588\n",
      "[2018-10-14T23:38:29 | info | Mocha]:  TRAIN iter=003500 obj_val=0.04325274\n",
      "[2018-10-14T23:38:58 | info | Mocha]:  TRAIN iter=003600 obj_val=0.00575842\n",
      "[2018-10-14T23:39:27 | info | Mocha]:  TRAIN iter=003700 obj_val=0.01579888\n",
      "[2018-10-14T23:39:57 | info | Mocha]:  TRAIN iter=003800 obj_val=0.00610631\n",
      "[2018-10-14T23:40:26 | info | Mocha]:  TRAIN iter=003900 obj_val=0.02481714\n",
      "[2018-10-14T23:40:55 | info | Mocha]:  TRAIN iter=004000 obj_val=0.02894992\n",
      "[2018-10-14T23:41:34 | info | Mocha]: \n",
      "[2018-10-14T23:41:34 | info | Mocha]: ## Performance on Validation Set after 4000 iterations\n",
      "[2018-10-14T23:41:34 | info | Mocha]: ---------------------------------------------------------\n",
      "[2018-10-14T23:41:34 | info | Mocha]:   Accuracy (avg over 10000) = 99.0200%\n",
      "[2018-10-14T23:41:34 | info | Mocha]: ---------------------------------------------------------\n",
      "[2018-10-14T23:41:34 | info | Mocha]: \n",
      "[2018-10-14T23:42:13 | info | Mocha]: \n",
      "[2018-10-14T23:42:13 | info | Mocha]: ## Performance on Validation Set after 4000 iterations\n",
      "[2018-10-14T23:42:13 | info | Mocha]: ---------------------------------------------------------\n",
      "[2018-10-14T23:42:13 | info | Mocha]:   Accuracy (avg over 10000) = 99.0200%\n",
      "[2018-10-14T23:42:13 | info | Mocha]: ---------------------------------------------------------\n",
      "[2018-10-14T23:42:13 | info | Mocha]: \n",
      "[2018-10-14T23:42:42 | info | Mocha]:  TRAIN iter=004100 obj_val=0.00261623\n",
      "[2018-10-14T23:43:12 | info | Mocha]:  TRAIN iter=004200 obj_val=0.01582228\n",
      "[2018-10-14T23:43:41 | info | Mocha]:  TRAIN iter=004300 obj_val=0.03399007\n",
      "[2018-10-14T23:44:11 | info | Mocha]:  TRAIN iter=004400 obj_val=0.00453986\n",
      "[2018-10-14T23:44:41 | info | Mocha]:  TRAIN iter=004500 obj_val=0.02351034\n",
      "[2018-10-14T23:45:11 | info | Mocha]:  TRAIN iter=004600 obj_val=0.01670594\n",
      "[2018-10-14T23:45:40 | info | Mocha]:  TRAIN iter=004700 obj_val=0.01034393\n"
     ]
    },
    {
     "name": "stdout",
     "output_type": "stream",
     "text": [
      "[2018-10-14T23:46:10 | info | Mocha]:  TRAIN iter=004800 obj_val=0.00339105\n",
      "[2018-10-14T23:46:41 | info | Mocha]:  TRAIN iter=004900 obj_val=0.01310998\n",
      "[2018-10-14T23:47:15 | info | Mocha]:  TRAIN iter=005000 obj_val=0.04089012\n",
      "[2018-10-14T23:47:15 | info | Mocha]: Saving snapshot to snapshot-005000.jld...\n",
      "[2018-10-14T23:47:55 | info | Mocha]: \n",
      "[2018-10-14T23:47:55 | info | Mocha]: ## Performance on Validation Set after 5000 iterations\n",
      "[2018-10-14T23:47:55 | info | Mocha]: ---------------------------------------------------------\n",
      "[2018-10-14T23:47:55 | info | Mocha]:   Accuracy (avg over 10000) = 98.9800%\n",
      "[2018-10-14T23:47:55 | info | Mocha]: ---------------------------------------------------------\n",
      "[2018-10-14T23:47:55 | info | Mocha]: \n",
      "[2018-10-14T23:48:36 | info | Mocha]: \n",
      "[2018-10-14T23:48:36 | info | Mocha]: ## Performance on Validation Set after 5000 iterations\n",
      "[2018-10-14T23:48:36 | info | Mocha]: ---------------------------------------------------------\n",
      "[2018-10-14T23:48:36 | info | Mocha]:   Accuracy (avg over 10000) = 98.9800%\n",
      "[2018-10-14T23:48:36 | info | Mocha]: ---------------------------------------------------------\n",
      "[2018-10-14T23:48:36 | info | Mocha]: \n",
      "[2018-10-14T23:49:06 | info | Mocha]:  TRAIN iter=005100 obj_val=0.01873978\n",
      "[2018-10-14T23:49:36 | info | Mocha]:  TRAIN iter=005200 obj_val=0.02752804\n",
      "[2018-10-14T23:50:06 | info | Mocha]:  TRAIN iter=005300 obj_val=0.03758601\n",
      "[2018-10-14T23:50:36 | info | Mocha]:  TRAIN iter=005400 obj_val=0.09230757\n",
      "[2018-10-14T23:51:05 | info | Mocha]:  TRAIN iter=005500 obj_val=0.04707744\n",
      "[2018-10-14T23:51:35 | info | Mocha]:  TRAIN iter=005600 obj_val=0.00715501\n",
      "[2018-10-14T23:52:04 | info | Mocha]:  TRAIN iter=005700 obj_val=0.01557589\n",
      "[2018-10-14T23:52:34 | info | Mocha]:  TRAIN iter=005800 obj_val=0.00639625\n",
      "[2018-10-14T23:53:03 | info | Mocha]:  TRAIN iter=005900 obj_val=0.00548003\n",
      "[2018-10-14T23:53:33 | info | Mocha]:  TRAIN iter=006000 obj_val=0.00800450\n",
      "[2018-10-14T23:54:14 | info | Mocha]: \n",
      "[2018-10-14T23:54:14 | info | Mocha]: ## Performance on Validation Set after 6000 iterations\n",
      "[2018-10-14T23:54:14 | info | Mocha]: ---------------------------------------------------------\n",
      "[2018-10-14T23:54:14 | info | Mocha]:   Accuracy (avg over 10000) = 98.9100%\n",
      "[2018-10-14T23:54:14 | info | Mocha]: ---------------------------------------------------------\n",
      "[2018-10-14T23:54:14 | info | Mocha]: \n",
      "[2018-10-14T23:54:53 | info | Mocha]: \n",
      "[2018-10-14T23:54:53 | info | Mocha]: ## Performance on Validation Set after 6000 iterations\n",
      "[2018-10-14T23:54:53 | info | Mocha]: ---------------------------------------------------------\n",
      "[2018-10-14T23:54:53 | info | Mocha]:   Accuracy (avg over 10000) = 98.9100%\n",
      "[2018-10-14T23:54:53 | info | Mocha]: ---------------------------------------------------------\n",
      "[2018-10-14T23:54:53 | info | Mocha]: \n",
      "[2018-10-14T23:55:22 | info | Mocha]:  TRAIN iter=006100 obj_val=0.02860186\n",
      "[2018-10-14T23:55:51 | info | Mocha]:  TRAIN iter=006200 obj_val=0.07240399\n",
      "[2018-10-14T23:56:21 | info | Mocha]:  TRAIN iter=006300 obj_val=0.00435050\n",
      "[2018-10-14T23:56:50 | info | Mocha]:  TRAIN iter=006400 obj_val=0.00547222\n",
      "[2018-10-14T23:57:20 | info | Mocha]:  TRAIN iter=006500 obj_val=0.02279619\n",
      "[2018-10-14T23:57:49 | info | Mocha]:  TRAIN iter=006600 obj_val=0.00226999\n",
      "[2018-10-14T23:58:18 | info | Mocha]:  TRAIN iter=006700 obj_val=0.03649884\n",
      "[2018-10-14T23:58:48 | info | Mocha]:  TRAIN iter=006800 obj_val=0.01260718\n",
      "[2018-10-14T23:59:17 | info | Mocha]:  TRAIN iter=006900 obj_val=0.01152718\n",
      "[2018-10-14T23:59:47 | info | Mocha]:  TRAIN iter=007000 obj_val=0.09130600\n",
      "[2018-10-15T00:00:26 | info | Mocha]: \n",
      "[2018-10-15T00:00:26 | info | Mocha]: ## Performance on Validation Set after 7000 iterations\n",
      "[2018-10-15T00:00:26 | info | Mocha]: ---------------------------------------------------------\n",
      "[2018-10-15T00:00:26 | info | Mocha]:   Accuracy (avg over 10000) = 99.0100%\n",
      "[2018-10-15T00:00:26 | info | Mocha]: ---------------------------------------------------------\n",
      "[2018-10-15T00:00:26 | info | Mocha]: \n",
      "[2018-10-15T00:01:05 | info | Mocha]: \n",
      "[2018-10-15T00:01:05 | info | Mocha]: ## Performance on Validation Set after 7000 iterations\n",
      "[2018-10-15T00:01:05 | info | Mocha]: ---------------------------------------------------------\n",
      "[2018-10-15T00:01:05 | info | Mocha]:   Accuracy (avg over 10000) = 99.0100%\n",
      "[2018-10-15T00:01:05 | info | Mocha]: ---------------------------------------------------------\n",
      "[2018-10-15T00:01:05 | info | Mocha]: \n",
      "[2018-10-15T00:01:35 | info | Mocha]:  TRAIN iter=007100 obj_val=0.02545300\n",
      "[2018-10-15T00:02:04 | info | Mocha]:  TRAIN iter=007200 obj_val=0.02787594\n",
      "[2018-10-15T00:02:34 | info | Mocha]:  TRAIN iter=007300 obj_val=0.00573637\n",
      "[2018-10-15T00:03:03 | info | Mocha]:  TRAIN iter=007400 obj_val=0.03131176\n",
      "[2018-10-15T00:03:33 | info | Mocha]:  TRAIN iter=007500 obj_val=0.00704922\n",
      "[2018-10-15T00:04:03 | info | Mocha]:  TRAIN iter=007600 obj_val=0.03528519\n",
      "[2018-10-15T00:04:33 | info | Mocha]:  TRAIN iter=007700 obj_val=0.01319713\n",
      "[2018-10-15T00:05:03 | info | Mocha]:  TRAIN iter=007800 obj_val=0.00518733\n",
      "[2018-10-15T00:05:32 | info | Mocha]:  TRAIN iter=007900 obj_val=0.00200915\n",
      "[2018-10-15T00:06:01 | info | Mocha]:  TRAIN iter=008000 obj_val=0.00966354\n",
      "[2018-10-15T00:06:41 | info | Mocha]: \n",
      "[2018-10-15T00:06:41 | info | Mocha]: ## Performance on Validation Set after 8000 iterations\n",
      "[2018-10-15T00:06:41 | info | Mocha]: ---------------------------------------------------------\n",
      "[2018-10-15T00:06:41 | info | Mocha]:   Accuracy (avg over 10000) = 99.0600%\n",
      "[2018-10-15T00:06:41 | info | Mocha]: ---------------------------------------------------------\n",
      "[2018-10-15T00:06:41 | info | Mocha]: \n",
      "[2018-10-15T00:07:20 | info | Mocha]: \n",
      "[2018-10-15T00:07:21 | info | Mocha]: ## Performance on Validation Set after 8000 iterations\n",
      "[2018-10-15T00:07:21 | info | Mocha]: ---------------------------------------------------------\n",
      "[2018-10-15T00:07:21 | info | Mocha]:   Accuracy (avg over 10000) = 99.0600%\n",
      "[2018-10-15T00:07:21 | info | Mocha]: ---------------------------------------------------------\n",
      "[2018-10-15T00:07:21 | info | Mocha]: \n",
      "[2018-10-15T00:07:50 | info | Mocha]:  TRAIN iter=008100 obj_val=0.00645942\n",
      "[2018-10-15T00:08:20 | info | Mocha]:  TRAIN iter=008200 obj_val=0.02776583\n",
      "[2018-10-15T00:08:50 | info | Mocha]:  TRAIN iter=008300 obj_val=0.00183373\n",
      "[2018-10-15T00:09:20 | info | Mocha]:  TRAIN iter=008400 obj_val=0.04460419\n",
      "[2018-10-15T00:09:50 | info | Mocha]:  TRAIN iter=008500 obj_val=0.00275170\n",
      "[2018-10-15T00:10:19 | info | Mocha]:  TRAIN iter=008600 obj_val=0.00557186\n",
      "[2018-10-15T00:10:48 | info | Mocha]:  TRAIN iter=008700 obj_val=0.01636341\n",
      "[2018-10-15T00:11:17 | info | Mocha]:  TRAIN iter=008800 obj_val=0.00340936\n",
      "[2018-10-15T00:11:46 | info | Mocha]:  TRAIN iter=008900 obj_val=0.02605258\n",
      "[2018-10-15T00:12:15 | info | Mocha]:  TRAIN iter=009000 obj_val=0.01220248\n",
      "[2018-10-15T00:12:54 | info | Mocha]: \n",
      "[2018-10-15T00:12:54 | info | Mocha]: ## Performance on Validation Set after 9000 iterations\n",
      "[2018-10-15T00:12:54 | info | Mocha]: ---------------------------------------------------------\n",
      "[2018-10-15T00:12:54 | info | Mocha]:   Accuracy (avg over 10000) = 98.9900%\n",
      "[2018-10-15T00:12:54 | info | Mocha]: ---------------------------------------------------------\n",
      "[2018-10-15T00:12:54 | info | Mocha]: \n",
      "[2018-10-15T00:13:33 | info | Mocha]: \n",
      "[2018-10-15T00:13:33 | info | Mocha]: ## Performance on Validation Set after 9000 iterations\n",
      "[2018-10-15T00:13:33 | info | Mocha]: ---------------------------------------------------------\n",
      "[2018-10-15T00:13:33 | info | Mocha]:   Accuracy (avg over 10000) = 98.9900%\n",
      "[2018-10-15T00:13:33 | info | Mocha]: ---------------------------------------------------------\n",
      "[2018-10-15T00:13:33 | info | Mocha]: \n",
      "[2018-10-15T00:14:02 | info | Mocha]:  TRAIN iter=009100 obj_val=0.00267477\n",
      "[2018-10-15T00:14:31 | info | Mocha]:  TRAIN iter=009200 obj_val=0.00230241\n",
      "[2018-10-15T00:15:01 | info | Mocha]:  TRAIN iter=009300 obj_val=0.04050730\n",
      "[2018-10-15T00:15:30 | info | Mocha]:  TRAIN iter=009400 obj_val=0.00552822\n",
      "[2018-10-15T00:15:59 | info | Mocha]:  TRAIN iter=009500 obj_val=0.01325148\n",
      "[2018-10-15T00:16:29 | info | Mocha]:  TRAIN iter=009600 obj_val=0.00692962\n"
     ]
    },
    {
     "name": "stdout",
     "output_type": "stream",
     "text": [
      "[2018-10-15T00:16:58 | info | Mocha]:  TRAIN iter=009700 obj_val=0.00723958\n",
      "[2018-10-15T00:17:28 | info | Mocha]:  TRAIN iter=009800 obj_val=0.00103207\n",
      "[2018-10-15T00:17:58 | info | Mocha]:  TRAIN iter=009900 obj_val=0.00577148\n",
      "[2018-10-15T00:18:28 | info | Mocha]:  TRAIN iter=010000 obj_val=0.02374324\n",
      "[2018-10-15T00:18:28 | info | Mocha]: Saving snapshot to snapshot-010000.jld...\n",
      "[2018-10-15T00:19:07 | info | Mocha]: \n",
      "[2018-10-15T00:19:07 | info | Mocha]: ## Performance on Validation Set after 10000 iterations\n",
      "[2018-10-15T00:19:07 | info | Mocha]: ---------------------------------------------------------\n",
      "[2018-10-15T00:19:07 | info | Mocha]:   Accuracy (avg over 10000) = 99.0800%\n",
      "[2018-10-15T00:19:07 | info | Mocha]: ---------------------------------------------------------\n",
      "[2018-10-15T00:19:07 | info | Mocha]: \n",
      "[2018-10-15T00:19:46 | info | Mocha]: \n",
      "[2018-10-15T00:19:46 | info | Mocha]: ## Performance on Validation Set after 10000 iterations\n",
      "[2018-10-15T00:19:46 | info | Mocha]: ---------------------------------------------------------\n",
      "[2018-10-15T00:19:46 | info | Mocha]:   Accuracy (avg over 10000) = 99.0800%\n",
      "[2018-10-15T00:19:46 | info | Mocha]: ---------------------------------------------------------\n",
      "[2018-10-15T00:19:46 | info | Mocha]: \n"
     ]
    },
    {
     "data": {
      "text/plain": [
       "Dict{AbstractString,Array{Mocha.AbstractParameter,1}} with 0 entries"
      ]
     },
     "execution_count": 16,
     "metadata": {},
     "output_type": "execute_result"
    }
   ],
   "source": [
    "solve(solver, net)\n",
    "\n",
    "destroy(net)\n",
    "destroy(test_net)\n",
    "shutdown(backend)"
   ]
  },
  {
   "cell_type": "code",
   "execution_count": 17,
   "metadata": {},
   "outputs": [
    {
     "name": "stdout",
     "output_type": "stream",
     "text": [
      "[2018-10-15T00:20:45 | info | Mocha]: Constructing net imagenet on Mocha.CPUBackend...\n",
      "[2018-10-15T00:20:45 | info | Mocha]: Topological sorting 8 layers...\n",
      "[2018-10-15T00:20:45 | info | Mocha]: Setup layers...\n",
      "[2018-10-15T00:20:45 | info | Mocha]: Network constructed!\n"
     ]
    },
    {
     "data": {
      "text/plain": [
       "************************************************************\n",
       "          NAME: imagenet\n",
       "       BACKEND: Mocha.CPUBackend\n",
       "  ARCHITECTURE: 8 layers\n",
       "............................................................\n",
       " *** Mocha.MemoryDataLayer(data)\n",
       "    Outputs ---------------------------\n",
       "          data: Blob(28 x 28 x 1 x 1)\n",
       "............................................................\n",
       " *** Mocha.ConvolutionLayer(conv1)\n",
       "    Inputs ----------------------------\n",
       "          data: Blob(28 x 28 x 1 x 1)\n",
       "    Outputs ---------------------------\n",
       "         conv1: Blob(24 x 24 x 20 x 1)\n",
       "............................................................\n",
       " *** Mocha.PoolingLayer(pool1)\n",
       "    Inputs ----------------------------\n",
       "         conv1: Blob(24 x 24 x 20 x 1)\n",
       "    Outputs ---------------------------\n",
       "         pool1: Blob(12 x 12 x 20 x 1)\n",
       "............................................................\n",
       " *** Mocha.ConvolutionLayer(conv2)\n",
       "    Inputs ----------------------------\n",
       "         pool1: Blob(12 x 12 x 20 x 1)\n",
       "    Outputs ---------------------------\n",
       "         conv2: Blob(8 x 8 x 50 x 1)\n",
       "............................................................\n",
       " *** Mocha.PoolingLayer(pool2)\n",
       "    Inputs ----------------------------\n",
       "         conv2: Blob(8 x 8 x 50 x 1)\n",
       "    Outputs ---------------------------\n",
       "         pool2: Blob(4 x 4 x 50 x 1)\n",
       "............................................................\n",
       " *** Mocha.InnerProductLayer(ip1)\n",
       "    Inputs ----------------------------\n",
       "         pool2: Blob(4 x 4 x 50 x 1)\n",
       "    Outputs ---------------------------\n",
       "           ip1: Blob(500 x 1)\n",
       "............................................................\n",
       " *** Mocha.InnerProductLayer(ip2)\n",
       "    Inputs ----------------------------\n",
       "           ip1: Blob(500 x 1)\n",
       "    Outputs ---------------------------\n",
       "           ip2: Blob(10 x 1)\n",
       "............................................................\n",
       " *** Mocha.SoftmaxLayer(prob)\n",
       "    Inputs ----------------------------\n",
       "           ip2: Blob(10 x 1)\n",
       "    Outputs ---------------------------\n",
       "          prob: Blob(10 x 1)\n",
       "************************************************************\n"
      ]
     },
     "execution_count": 17,
     "metadata": {},
     "output_type": "execute_result"
    }
   ],
   "source": [
    "backend = CPUBackend()\n",
    "init(backend)\n",
    "\n",
    "mem_data = MemoryDataLayer(name=\"data\", tops=[:data], batch_size=1,\n",
    "    data=Array[zeros(Float32, 28, 28, 1, 1)])\n",
    "softmax_layer = SoftmaxLayer(name=\"prob\", tops=[:prob], bottoms=[:ip2])\n",
    "\n",
    "# define common_layers as earlier\n",
    "\n",
    "run_net = Net(\"imagenet\", backend, [mem_data, common_layers..., softmax_layer])"
   ]
  },
  {
   "cell_type": "code",
   "execution_count": 18,
   "metadata": {},
   "outputs": [
    {
     "name": "stdout",
     "output_type": "stream",
     "text": [
      "[2018-10-15T00:21:01 | info | Mocha]: Loading existing model from snapshots/snapshot-010000.jld\n"
     ]
    },
    {
     "data": {
      "text/plain": [
       "Mocha.SolverState{Mocha.SGDSolverState}(10000, 0.023743240162730217, Dict{Any,Any}(), Mocha.SGDSolverState(0.005946035575013605, 0.9, Mocha.LayerState[Mocha.ConvolutionLayerState(Mocha.ConvolutionLayer(conv1), Mocha.Blob[Blob(24 x 24 x 20 x 1)], Mocha.Blob[Blob(24 x 24 x 20 x 1)], Mocha.Parameter[Mocha.Parameter(\"filter\", Blob(5 x 5 x 1 x 20), Blob(5 x 5 x 1 x 20), Mocha.NullInitializer(), Mocha.L2Regu(1.0), Mocha.NoCons(0.0, 0), 1.0, Mocha.RefCounter(2)), Mocha.Parameter(\"bias\", Blob(20), Blob(20), Mocha.NullInitializer(), Mocha.NoRegu(0.0), Mocha.NoCons(0.0, 0), 2.0, Mocha.RefCounter(2))], Blob(5 x 5 x 1 x 20), Blob(5 x 5 x 1 x 20), Blob(20), Blob(20), 24, 24, Mocha.CPUConvState(Blob(24 x 24 x 25 x 1), 576, 20, 25, Blob(576 x 1 x 1 x 1), Float32[0.0 0.00615451 … 0.0 NaN32; 0.0 4.58155f-41 … 0.0 NaN32; … ; 0.00615356 0.00615487 … 0.0 1.4013f-45; 4.58155f-41 4.58155f-41 … 0.0 0.0]), false), Mocha.ConvolutionLayerState(Mocha.ConvolutionLayer(conv2), Mocha.Blob[Blob(8 x 8 x 50 x 1)], Mocha.Blob[Blob(8 x 8 x 50 x 1)], Mocha.Parameter[Mocha.Parameter(\"filter\", Blob(5 x 5 x 20 x 50), Blob(5 x 5 x 20 x 50), Mocha.NullInitializer(), Mocha.L2Regu(1.0), Mocha.NoCons(0.0, 0), 1.0, Mocha.RefCounter(2)), Mocha.Parameter(\"bias\", Blob(50), Blob(50), Mocha.NullInitializer(), Mocha.NoRegu(0.0), Mocha.NoCons(0.0, 0), 2.0, Mocha.RefCounter(2))], Blob(5 x 5 x 20 x 50), Blob(5 x 5 x 20 x 50), Blob(50), Blob(50), 8, 8, Mocha.CPUConvState(Blob(8 x 8 x 500 x 1), 64, 50, 500, Blob(64 x 1 x 1 x 1), Float32[0.00363993 0.000971636 … 0.00200771 0.0; 4.58155f-41 4.58155f-41 … 4.58155f-41 0.0; … ; 0.0 0.0358977 … 0.0 0.000422822; 0.0 4.58155f-41 … 0.0 4.58155f-41]\n",
       "\n",
       "Float32[0.000971626 NaN32 … 0.0348081 0.000971677; 4.58155f-41 NaN32 … 4.58155f-41 4.58155f-41; … ; 0.0359007 0.00363272 … 0.0 0.04035; 4.58155f-41 4.58155f-41 … 0.0 4.58155f-41]\n",
       "\n",
       "Float32[NaN32 0.0033987 … 0.00353805 0.00343252; NaN32 4.58155f-41 … 4.58155f-41 4.58155f-41; … ; 0.0033987 0.00228855 … 0.00343252 0.0; 4.58155f-41 4.58155f-41 … 4.58155f-41 0.0]\n",
       "\n",
       "...\n",
       "\n",
       "Float32[0.035891 0.0114129 … 0.000972281 0.000972212; 4.58155f-41 4.58155f-41 … 4.58155f-41 4.58155f-41; … ; 1.4013f-45 1.10377f-29 … 9.40395f-38 0.0113612; -0.0 1.4013f-45 … 6.16571f-44 4.58155f-41]\n",
       "\n",
       "Float32[0.0114148 0.000972212 … 0.000971687 0.0113668; 4.58155f-41 4.58155f-41 … 4.58155f-41 4.58155f-41; … ; 9.40395f-38 0.0114149 … 0.0113669 0.0; 3.36312f-44 4.58155f-41 … 4.58155f-41 0.0]\n",
       "\n",
       "Float32[0.0 0.0113539 … 0.000971687 0.000972286; 0.0 4.58155f-41 … 4.58155f-41 4.58155f-41; … ; 1.50463f-36 1.11188f-29 … 0.0 1.4013f-45; 1.62551f-43 1.4013f-45 … 5.04467f-44 0.0]), false), Mocha.InnerProductLayerState(Mocha.InnerProductLayer(ip1), Mocha.Blob[Blob(500 x 1)], Mocha.Blob[Blob(500 x 1)], Mocha.Parameter[Mocha.Parameter(\"weight\", Blob(800 x 500), Blob(800 x 500), Mocha.NullInitializer(), Mocha.L2Regu(1.0), Mocha.NoCons(0.0, 0), 1.0, Mocha.RefCounter(2)), Mocha.Parameter(\"bias\", Blob(500 x 1), Blob(500 x 1), Mocha.NullInitializer(), Mocha.NoRegu(0.0), Mocha.NoCons(0.0, 0), 2.0, Mocha.RefCounter(2))], Blob(800 x 500), Blob(800 x 500), Blob(500 x 1), Blob(500 x 1), Mocha.Blob[Blob(1 x 1)], false), Mocha.InnerProductLayerState(Mocha.InnerProductLayer(ip2), Mocha.Blob[Blob(10 x 1)], Mocha.Blob[Blob(10 x 1)], Mocha.Parameter[Mocha.Parameter(\"weight\", Blob(500 x 10), Blob(500 x 10), Mocha.NullInitializer(), Mocha.L2Regu(1.0), Mocha.NoCons(0.0, 0), 1.0, Mocha.RefCounter(2)), Mocha.Parameter(\"bias\", Blob(10 x 1), Blob(10 x 1), Mocha.NullInitializer(), Mocha.NoRegu(0.0), Mocha.NoCons(0.0, 0), 2.0, Mocha.RefCounter(2))], Blob(500 x 10), Blob(500 x 10), Blob(10 x 1), Blob(10 x 1), Mocha.Blob[Blob(1 x 1)], false)], Array{Mocha.Blob,1}[Mocha.Blob[Blob(5 x 5 x 1 x 20), Blob(20)], Mocha.Blob[Blob(5 x 5 x 20 x 50), Blob(50)], Mocha.Blob[Blob(800 x 500), Blob(500 x 1)], Mocha.Blob[Blob(500 x 10), Blob(10 x 1)]], 0.9))"
      ]
     },
     "execution_count": 18,
     "metadata": {},
     "output_type": "execute_result"
    }
   ],
   "source": [
    "load_snapshot(run_net, \"snapshots/snapshot-010000.jld\")"
   ]
  },
  {
   "cell_type": "code",
   "execution_count": 19,
   "metadata": {},
   "outputs": [
    {
     "name": "stdout",
     "output_type": "stream",
     "text": [
      "Correct label index: 9\n",
      "\n",
      "Label probability vector:\n",
      "Float32[3.2036f-9; 5.68322f-10; 2.88924f-8; 8.68315f-8; 2.07834f-10; 1.4505f-5; 3.30415f-8; 6.85175f-8; 0.999985; 2.2187f-8]\n"
     ]
    }
   ],
   "source": [
    "using HDF5\n",
    "h5open(\"data/test.hdf5\") do f\n",
    "    get_layer(run_net, \"data\").data[1][:,:,1,1] = f[\"data\"][:,:,1,1]\n",
    "    println(\"Correct label index: \", Int64(f[\"label\"][:,1][1]+1))\n",
    "end\n",
    "\n",
    "forward(run_net)\n",
    "println()\n",
    "println(\"Label probability vector:\")\n",
    "println(run_net.output_blobs[:prob].data)"
   ]
  },
  {
   "cell_type": "code",
   "execution_count": 20,
   "metadata": {},
   "outputs": [
    {
     "name": "stderr",
     "output_type": "stream",
     "text": [
      "\u001b[1m\u001b[36mINFO: \u001b[39m\u001b[22m\u001b[36mRecompiling stale cache file /Users/maxwellhostetter/.julia/lib/v0.6/PyPlot.ji for module PyPlot.\n",
      "\u001b[39m"
     ]
    }
   ],
   "source": [
    "using PyPlot, JLD"
   ]
  },
  {
   "cell_type": "code",
   "execution_count": 21,
   "metadata": {},
   "outputs": [
    {
     "data": {
      "text/plain": [
       "101-element Array{Float64,1}:\n",
       " 2.35343   \n",
       " 0.351369  \n",
       " 0.291655  \n",
       " 0.170589  \n",
       " 0.0639658 \n",
       " 0.0632245 \n",
       " 0.184028  \n",
       " 0.0121269 \n",
       " 0.131185  \n",
       " 0.0415967 \n",
       " 0.0588124 \n",
       " 0.0937439 \n",
       " 0.0355853 \n",
       " ⋮         \n",
       " 0.0260526 \n",
       " 0.0122025 \n",
       " 0.00267477\n",
       " 0.00230241\n",
       " 0.0405073 \n",
       " 0.00552822\n",
       " 0.0132515 \n",
       " 0.00692962\n",
       " 0.00723958\n",
       " 0.00103207\n",
       " 0.00577148\n",
       " 0.0237432 "
      ]
     },
     "execution_count": 21,
     "metadata": {},
     "output_type": "execute_result"
    }
   ],
   "source": [
    "stats = load(\"snapshots/statistics.jld\")\n",
    "# println(typeof(stats))\n",
    "\n",
    "tables = stats[\"statistics\"]\n",
    "ov = tables[\"obj_val\"]\n",
    "xy = sort(collect(ov))\n",
    "x = [i for (i,j) in xy]\n",
    "y = [j for (i,j) in xy]\n",
    "x = convert(Array{Int64}, x)\n",
    "y = convert(Array{Float64}, y)"
   ]
  },
  {
   "cell_type": "code",
   "execution_count": 22,
   "metadata": {},
   "outputs": [
    {
     "data": {
      "image/png": "[encoded data removed]",
      "text/plain": [
       "PyPlot.Figure(PyObject <matplotlib.figure.Figure object at 0x144102a10>)"
      ]
     },
     "metadata": {},
     "output_type": "display_data"
    }
   ],
   "source": [
    "raw = plot(x, y, linewidth=1, label=\"Raw\")\n",
    "xlabel(\"Iterations\")\n",
    "ylabel(\"Objective Value\")\n",
    "title(\"MNIST Learning Curve\")\n",
    "grid(\"on\")"
   ]
  },
  {
   "cell_type": "code",
   "execution_count": 23,
   "metadata": {},
   "outputs": [
    {
     "data": {
      "text/plain": [
       "Mocha.SGD()"
      ]
     },
     "execution_count": 23,
     "metadata": {},
     "output_type": "execute_result"
    }
   ],
   "source": [
    "method = SGD()"
   ]
  },
  {
   "cell_type": "code",
   "execution_count": 24,
   "metadata": {},
   "outputs": [
    {
     "data": {
      "text/plain": [
       "low_pass (generic function with 1 method)"
      ]
     },
     "execution_count": 24,
     "metadata": {},
     "output_type": "execute_result"
    }
   ],
   "source": [
    "function low_pass{T <: Real}(x::Vector{T}, window::Int)\n",
    "    len = length(x)\n",
    "    y = Vector{Float64}(len)\n",
    "    for i in 1:len\n",
    "        # I want the mean of the first i terms up to width of window\n",
    "        # Putting some numbers to this with window 4\n",
    "        # i win lo  hi\n",
    "        # 1  4  1   1\n",
    "        # 2  4  1   2\n",
    "        # 3  4  1   3\n",
    "        # 4  4  1   4\n",
    "        # 5  4  1   5\n",
    "        # 6  4  2   6  => window starts to slide\n",
    "        lo = max(1, i - window)\n",
    "        hi = i\n",
    "        y[i] = mean(x[lo:hi])\n",
    "    end\n",
    "    return y\n",
    "end"
   ]
  },
  {
   "cell_type": "code",
   "execution_count": 25,
   "metadata": {},
   "outputs": [
    {
     "data": {
      "image/png": "[encoded data removed]",
      "text/plain": [
       "PyPlot.Figure(PyObject <matplotlib.figure.Figure object at 0x14402be90>)"
      ]
     },
     "metadata": {},
     "output_type": "display_data"
    }
   ],
   "source": [
    "window = Int64(round(length(xy)/4.0))\n",
    "y_avg = low_pass(y, window)\n",
    "avg = plot(x, y_avg, linewidth=2, label=\"Low Pass\")\n",
    "legend(handles=[raw; avg])\n",
    "show()  #required to display the figure in non-interactive mode"
   ]
  },
  {
   "cell_type": "code",
   "execution_count": null,
   "metadata": {},
   "outputs": [],
   "source": []
  }
 ],
 "metadata": {
  "kernelspec": {
   "display_name": "Julia 0.6.0",
   "language": "julia",
   "name": "julia-0.6"
  },
  "language_info": {
   "file_extension": ".jl",
   "mimetype": "application/julia",
   "name": "julia",
   "version": "0.6.4"
  }
 },
 "nbformat": 4,
 "nbformat_minor": 2
}
