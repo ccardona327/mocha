{
 "cells": [
  {
   "cell_type": "markdown",
   "metadata": {},
   "source": [
    "This is drawn almost exactly from https://mochajl.readthedocs.io/en/latest/tutorial/mnist.html with the exception\n",
    "of the plots at the end"
   ]
  },
  {
   "cell_type": "code",
   "execution_count": 1,
   "metadata": {},
   "outputs": [
    {
     "name": "stdout",
     "output_type": "stream",
     "text": [
      "Configuring Mocha...\n",
      " * CUDA       disabled by default\n",
      " * Native Ext disabled by default\n",
      "Mocha configured, continue loading module...\n",
      "DefaultBackend = Mocha.CPUBackend\n"
     ]
    }
   ],
   "source": [
    "using Mocha"
   ]
  },
  {
   "cell_type": "code",
   "execution_count": 53,
   "metadata": {},
   "outputs": [],
   "source": [
    "using Images"
   ]
  },
  {
   "cell_type": "code",
   "execution_count": 2,
   "metadata": {},
   "outputs": [
    {
     "data": {
      "text/plain": [
       "Mocha.HDF5DataLayer(train-data)"
      ]
     },
     "execution_count": 2,
     "metadata": {},
     "output_type": "execute_result"
    }
   ],
   "source": [
    "data_layer  = HDF5DataLayer(name=\"train-data\", source=\"data/train.txt\",\n",
    "    batch_size=64, shuffle=true)"
   ]
  },
  {
   "cell_type": "code",
   "execution_count": 3,
   "metadata": {},
   "outputs": [
    {
     "data": {
      "text/plain": [
       "Mocha.ConvolutionLayer(conv1)"
      ]
     },
     "execution_count": 3,
     "metadata": {},
     "output_type": "execute_result"
    }
   ],
   "source": [
    "conv_layer = ConvolutionLayer(name=\"conv1\", n_filter=20, kernel=(5,5),\n",
    "    bottoms=[:data], tops=[:conv1])"
   ]
  },
  {
   "cell_type": "code",
   "execution_count": 4,
   "metadata": {},
   "outputs": [
    {
     "data": {
      "text/plain": [
       "Mocha.PoolingLayer(pool2)"
      ]
     },
     "execution_count": 4,
     "metadata": {},
     "output_type": "execute_result"
    }
   ],
   "source": [
    "pool_layer = PoolingLayer(name=\"pool1\", kernel=(2,2), stride=(2,2),\n",
    "    bottoms=[:conv1], tops=[:pool1])\n",
    "conv2_layer = ConvolutionLayer(name=\"conv2\", n_filter=50, kernel=(5,5),\n",
    "    bottoms=[:pool1], tops=[:conv2])\n",
    "pool2_layer = PoolingLayer(name=\"pool2\", kernel=(2,2), stride=(2,2),\n",
    "    bottoms=[:conv2], tops=[:pool2])\n"
   ]
  },
  {
   "cell_type": "code",
   "execution_count": 5,
   "metadata": {},
   "outputs": [
    {
     "data": {
      "text/plain": [
       "Mocha.InnerProductLayer(ip2)"
      ]
     },
     "execution_count": 5,
     "metadata": {},
     "output_type": "execute_result"
    }
   ],
   "source": [
    "fc1_layer  = InnerProductLayer(name=\"ip1\", output_dim=500,\n",
    "    neuron=Neurons.ReLU(), bottoms=[:pool2], tops=[:ip1])\n",
    "fc2_layer  = InnerProductLayer(name=\"ip2\", output_dim=10,\n",
    "    bottoms=[:ip1], tops=[:ip2])"
   ]
  },
  {
   "cell_type": "code",
   "execution_count": 6,
   "metadata": {},
   "outputs": [
    {
     "data": {
      "text/plain": [
       "Mocha.SoftmaxLossLayer(loss)"
      ]
     },
     "execution_count": 6,
     "metadata": {},
     "output_type": "execute_result"
    }
   ],
   "source": [
    "loss_layer = SoftmaxLossLayer(name=\"loss\", bottoms=[:ip2,:label])"
   ]
  },
  {
   "cell_type": "code",
   "execution_count": 7,
   "metadata": {},
   "outputs": [],
   "source": [
    "backend = CPUBackend()\n",
    "init(backend)"
   ]
  },
  {
   "cell_type": "code",
   "execution_count": 57,
   "metadata": {},
   "outputs": [
    {
     "name": "stdout",
     "output_type": "stream",
     "text": [
      "[2018-10-15 11:47:47 | info | Mocha]: Constructing net MNIST-train on Mocha.CPUBackend...\n",
      "[2018-10-15 11:47:47 | info | Mocha]: Topological sorting 8 layers...\n",
      "[2018-10-15 11:47:47 | info | Mocha]: Setup layers...\n",
      "[2018-10-15 11:47:48 | info | Mocha]: Network constructed!\n"
     ]
    },
    {
     "data": {
      "text/plain": [
       "************************************************************\n",
       "          NAME: MNIST-train\n",
       "       BACKEND: Mocha.CPUBackend\n",
       "  ARCHITECTURE: 8 layers\n",
       "............................................................\n",
       " *** Mocha.HDF5DataLayer(train-data)\n",
       "    Outputs ---------------------------\n",
       "          data: Blob(28 x 28 x 1 x 64)\n",
       "         label: Blob(1 x 64)\n",
       "............................................................\n",
       " *** Mocha.ConvolutionLayer(conv1)\n",
       "    Inputs ----------------------------\n",
       "          data: Blob(28 x 28 x 1 x 64)\n",
       "    Outputs ---------------------------\n",
       "         conv1: Blob(24 x 24 x 20 x 64)\n",
       "............................................................\n",
       " *** Mocha.PoolingLayer(pool1)\n",
       "    Inputs ----------------------------\n",
       "         conv1: Blob(24 x 24 x 20 x 64)\n",
       "    Outputs ---------------------------\n",
       "         pool1: Blob(12 x 12 x 20 x 64)\n",
       "............................................................\n",
       " *** Mocha.ConvolutionLayer(conv2)\n",
       "    Inputs ----------------------------\n",
       "         pool1: Blob(12 x 12 x 20 x 64)\n",
       "    Outputs ---------------------------\n",
       "         conv2: Blob(8 x 8 x 50 x 64)\n",
       "............................................................\n",
       " *** Mocha.PoolingLayer(pool2)\n",
       "    Inputs ----------------------------\n",
       "         conv2: Blob(8 x 8 x 50 x 64)\n",
       "    Outputs ---------------------------\n",
       "         pool2: Blob(4 x 4 x 50 x 64)\n",
       "............................................................\n",
       " *** Mocha.InnerProductLayer(ip1)\n",
       "    Inputs ----------------------------\n",
       "         pool2: Blob(4 x 4 x 50 x 64)\n",
       "    Outputs ---------------------------\n",
       "           ip1: Blob(500 x 64)\n",
       "............................................................\n",
       " *** Mocha.InnerProductLayer(ip2)\n",
       "    Inputs ----------------------------\n",
       "           ip1: Blob(500 x 64)\n",
       "    Outputs ---------------------------\n",
       "           ip2: Blob(10 x 64)\n",
       "............................................................\n",
       " *** Mocha.SoftmaxLossLayer(loss)\n",
       "    Inputs ----------------------------\n",
       "           ip2: Blob(10 x 64)\n",
       "         label: Blob(1 x 64)\n",
       "************************************************************\n"
      ]
     },
     "execution_count": 57,
     "metadata": {},
     "output_type": "execute_result"
    }
   ],
   "source": [
    "common_layers = [conv_layer, pool_layer, conv2_layer, pool2_layer,\n",
    "    fc1_layer, fc2_layer]\n",
    "net = Net(\"MNIST-train\", backend, [data_layer, common_layers..., loss_layer])"
   ]
  },
  {
   "cell_type": "code",
   "execution_count": 9,
   "metadata": {},
   "outputs": [
    {
     "data": {
      "text/plain": [
       "Mocha.Solver{Mocha.SGD}(Mocha.SGD(), Dict{Symbol,Any}(Pair{Symbol,Any}(:lr_policy, Mocha.LRPolicy.Inv(0.01, 0.0001, 0.75)),Pair{Symbol,Any}(:max_iter, 10000),Pair{Symbol,Any}(:load_from, \"snapshots\"),Pair{Symbol,Any}(:regu_coef, 0.0005),Pair{Symbol,Any}(:mom_policy, Mocha.MomPolicy.Fixed(0.9))), Mocha.CoffeeLounge(\"\", 1, :merge, Dict{AbstractString,Dict{Int64,AbstractFloat}}(), Mocha.CoffeeBreak[], false, 0, 0))"
      ]
     },
     "execution_count": 9,
     "metadata": {},
     "output_type": "execute_result"
    }
   ],
   "source": [
    "exp_dir = \"snapshots\"\n",
    "method = SGD()\n",
    "params = make_solver_parameters(method, max_iter=10000, regu_coef=0.0005,\n",
    "    mom_policy=MomPolicy.Fixed(0.9),\n",
    "    lr_policy=LRPolicy.Inv(0.01, 0.0001, 0.75),\n",
    "    load_from=exp_dir)\n",
    "solver = Solver(method, params)"
   ]
  },
  {
   "cell_type": "code",
   "execution_count": 10,
   "metadata": {},
   "outputs": [
    {
     "data": {
      "text/plain": [
       ":merge"
      ]
     },
     "execution_count": 10,
     "metadata": {},
     "output_type": "execute_result"
    }
   ],
   "source": [
    "setup_coffee_lounge(solver, save_into=\"$exp_dir/statistics.jld\", every_n_iter=1000)\n"
   ]
  },
  {
   "cell_type": "code",
   "execution_count": 11,
   "metadata": {},
   "outputs": [
    {
     "data": {
      "text/plain": [
       "1-element Array{Mocha.CoffeeBreak,1}:\n",
       " Mocha.CoffeeBreak(Mocha.TrainingSummary(Any[:iter, :obj_val]), 100, 0)"
      ]
     },
     "execution_count": 11,
     "metadata": {},
     "output_type": "execute_result"
    }
   ],
   "source": [
    "add_coffee_break(solver, TrainingSummary(), every_n_iter=100)"
   ]
  },
  {
   "cell_type": "code",
   "execution_count": 12,
   "metadata": {},
   "outputs": [
    {
     "data": {
      "text/plain": [
       "2-element Array{Mocha.CoffeeBreak,1}:\n",
       " Mocha.CoffeeBreak(Mocha.TrainingSummary(Any[:iter, :obj_val]), 100, 0)\n",
       " Mocha.CoffeeBreak(Mocha.Snapshot(\"snapshots\"), 5000, 0)               "
      ]
     },
     "execution_count": 12,
     "metadata": {},
     "output_type": "execute_result"
    }
   ],
   "source": [
    "add_coffee_break(solver, Snapshot(exp_dir), every_n_iter=5000)\n"
   ]
  },
  {
   "cell_type": "code",
   "execution_count": 13,
   "metadata": {},
   "outputs": [
    {
     "name": "stdout",
     "output_type": "stream",
     "text": [
      "[2018-10-15 10:05:16 | info | Mocha]: Constructing net MNIST-test on Mocha.CPUBackend...\n",
      "[2018-10-15 10:05:16 | info | Mocha]: Topological sorting 8 layers...\n",
      "[2018-10-15 10:05:16 | info | Mocha]: Setup layers...\n",
      "[2018-10-15 10:05:17 | info | Mocha]: Network constructed!\n"
     ]
    },
    {
     "data": {
      "text/plain": [
       "************************************************************\n",
       "          NAME: MNIST-test\n",
       "       BACKEND: Mocha.CPUBackend\n",
       "  ARCHITECTURE: 8 layers\n",
       "............................................................\n",
       " *** Mocha.HDF5DataLayer(test-data)\n",
       "    Outputs ---------------------------\n",
       "          data: Blob(28 x 28 x 1 x 100)\n",
       "         label: Blob(1 x 100)\n",
       "............................................................\n",
       " *** Mocha.ConvolutionLayer(conv1)\n",
       "    Inputs ----------------------------\n",
       "          data: Blob(28 x 28 x 1 x 100)\n",
       "    Outputs ---------------------------\n",
       "         conv1: Blob(24 x 24 x 20 x 100)\n",
       "............................................................\n",
       " *** Mocha.PoolingLayer(pool1)\n",
       "    Inputs ----------------------------\n",
       "         conv1: Blob(24 x 24 x 20 x 100)\n",
       "    Outputs ---------------------------\n",
       "         pool1: Blob(12 x 12 x 20 x 100)\n",
       "............................................................\n",
       " *** Mocha.ConvolutionLayer(conv2)\n",
       "    Inputs ----------------------------\n",
       "         pool1: Blob(12 x 12 x 20 x 100)\n",
       "    Outputs ---------------------------\n",
       "         conv2: Blob(8 x 8 x 50 x 100)\n",
       "............................................................\n",
       " *** Mocha.PoolingLayer(pool2)\n",
       "    Inputs ----------------------------\n",
       "         conv2: Blob(8 x 8 x 50 x 100)\n",
       "    Outputs ---------------------------\n",
       "         pool2: Blob(4 x 4 x 50 x 100)\n",
       "............................................................\n",
       " *** Mocha.InnerProductLayer(ip1)\n",
       "    Inputs ----------------------------\n",
       "         pool2: Blob(4 x 4 x 50 x 100)\n",
       "    Outputs ---------------------------\n",
       "           ip1: Blob(500 x 100)\n",
       "............................................................\n",
       " *** Mocha.InnerProductLayer(ip2)\n",
       "    Inputs ----------------------------\n",
       "           ip1: Blob(500 x 100)\n",
       "    Outputs ---------------------------\n",
       "           ip2: Blob(10 x 100)\n",
       "............................................................\n",
       " *** Mocha.AccuracyLayer(test-accuracy)\n",
       "    Inputs ----------------------------\n",
       "           ip2: Blob(10 x 100)\n",
       "         label: Blob(1 x 100)\n",
       "************************************************************\n"
      ]
     },
     "execution_count": 13,
     "metadata": {},
     "output_type": "execute_result"
    }
   ],
   "source": [
    "data_layer_test = HDF5DataLayer(name=\"test-data\", source=\"data/test.txt\", batch_size=100)\n",
    "acc_layer = AccuracyLayer(name=\"test-accuracy\", bottoms=[:ip2, :label])\n",
    "test_net = Net(\"MNIST-test\", backend, [data_layer_test, common_layers..., acc_layer])"
   ]
  },
  {
   "cell_type": "code",
   "execution_count": 14,
   "metadata": {},
   "outputs": [],
   "source": [
    "add_coffee_break(solver, ValidationPerformance(test_net), every_n_iter=1000);"
   ]
  },
  {
   "cell_type": "code",
   "execution_count": 15,
   "metadata": {},
   "outputs": [
    {
     "name": "stdout",
     "output_type": "stream",
     "text": [
      "[2018-10-15 10:05:24 | info | Mocha]: Snapshot directory snapshots already exists\n",
      "[2018-10-15 10:05:24 | info | Mocha]:  TRAIN iter=000000 obj_val=2.35863352\n",
      "[2018-10-15 10:05:24 | info | Mocha]: Saving snapshot to snapshot-000000.jld...\n",
      "[2018-10-15 10:05:51 | info | Mocha]: \n",
      "[2018-10-15 10:05:51 | info | Mocha]: ## Performance on Validation Set after 0 iterations\n",
      "[2018-10-15 10:05:51 | info | Mocha]: ---------------------------------------------------------\n",
      "[2018-10-15 10:05:51 | info | Mocha]:   Accuracy (avg over 10000) = 11.9400%\n",
      "[2018-10-15 10:05:51 | info | Mocha]: ---------------------------------------------------------\n",
      "[2018-10-15 10:05:51 | info | Mocha]: \n",
      "[2018-10-15 10:06:11 | info | Mocha]:  TRAIN iter=000100 obj_val=0.31432045\n",
      "[2018-10-15 10:06:29 | info | Mocha]:  TRAIN iter=000200 obj_val=0.40184593\n",
      "[2018-10-15 10:06:47 | info | Mocha]:  TRAIN iter=000300 obj_val=0.05584858\n",
      "[2018-10-15 10:07:06 | info | Mocha]:  TRAIN iter=000400 obj_val=0.11465108\n",
      "[2018-10-15 10:07:24 | info | Mocha]:  TRAIN iter=000500 obj_val=0.09330545\n",
      "[2018-10-15 10:07:42 | info | Mocha]:  TRAIN iter=000600 obj_val=0.06468540\n",
      "[2018-10-15 10:08:00 | info | Mocha]:  TRAIN iter=000700 obj_val=0.10032232\n",
      "[2018-10-15 10:08:18 | info | Mocha]:  TRAIN iter=000800 obj_val=0.09122366\n",
      "[2018-10-15 10:08:36 | info | Mocha]:  TRAIN iter=000900 obj_val=0.03927948\n",
      "[2018-10-15 10:08:54 | info | Mocha]:  TRAIN iter=001000 obj_val=0.09501382\n",
      "[2018-10-15 10:09:21 | info | Mocha]: \n",
      "[2018-10-15 10:09:21 | info | Mocha]: ## Performance on Validation Set after 1000 iterations\n",
      "[2018-10-15 10:09:21 | info | Mocha]: ---------------------------------------------------------\n",
      "[2018-10-15 10:09:21 | info | Mocha]:   Accuracy (avg over 10000) = 98.1400%\n",
      "[2018-10-15 10:09:21 | info | Mocha]: ---------------------------------------------------------\n",
      "[2018-10-15 10:09:21 | info | Mocha]: \n",
      "[2018-10-15 10:09:40 | info | Mocha]:  TRAIN iter=001100 obj_val=0.06770792\n",
      "[2018-10-15 10:09:58 | info | Mocha]:  TRAIN iter=001200 obj_val=0.01646709\n",
      "[2018-10-15 10:10:15 | info | Mocha]:  TRAIN iter=001300 obj_val=0.02631224\n",
      "[2018-10-15 10:10:33 | info | Mocha]:  TRAIN iter=001400 obj_val=0.08463383\n",
      "[2018-10-15 10:10:50 | info | Mocha]:  TRAIN iter=001500 obj_val=0.02417754\n",
      "[2018-10-15 10:11:08 | info | Mocha]:  TRAIN iter=001600 obj_val=0.00991508\n",
      "[2018-10-15 10:11:26 | info | Mocha]:  TRAIN iter=001700 obj_val=0.02176532\n",
      "[2018-10-15 10:11:44 | info | Mocha]:  TRAIN iter=001800 obj_val=0.04728839\n",
      "[2018-10-15 10:12:02 | info | Mocha]:  TRAIN iter=001900 obj_val=0.01498746\n",
      "[2018-10-15 10:12:20 | info | Mocha]:  TRAIN iter=002000 obj_val=0.04387085\n",
      "[2018-10-15 10:12:44 | info | Mocha]: \n",
      "[2018-10-15 10:12:44 | info | Mocha]: ## Performance on Validation Set after 2000 iterations\n",
      "[2018-10-15 10:12:44 | info | Mocha]: ---------------------------------------------------------\n",
      "[2018-10-15 10:12:44 | info | Mocha]:   Accuracy (avg over 10000) = 98.7400%\n",
      "[2018-10-15 10:12:44 | info | Mocha]: ---------------------------------------------------------\n",
      "[2018-10-15 10:12:44 | info | Mocha]: \n",
      "[2018-10-15 10:13:02 | info | Mocha]:  TRAIN iter=002100 obj_val=0.00994901\n",
      "[2018-10-15 10:13:19 | info | Mocha]:  TRAIN iter=002200 obj_val=0.05228334\n",
      "[2018-10-15 10:13:37 | info | Mocha]:  TRAIN iter=002300 obj_val=0.04789529\n",
      "[2018-10-15 10:13:55 | info | Mocha]:  TRAIN iter=002400 obj_val=0.01321200\n",
      "[2018-10-15 10:14:13 | info | Mocha]:  TRAIN iter=002500 obj_val=0.00803007\n",
      "[2018-10-15 10:14:30 | info | Mocha]:  TRAIN iter=002600 obj_val=0.01874927\n",
      "[2018-10-15 10:14:49 | info | Mocha]:  TRAIN iter=002700 obj_val=0.02302221\n",
      "[2018-10-15 10:15:07 | info | Mocha]:  TRAIN iter=002800 obj_val=0.01062701\n",
      "[2018-10-15 10:15:25 | info | Mocha]:  TRAIN iter=002900 obj_val=0.02161111\n",
      "[2018-10-15 10:15:45 | info | Mocha]:  TRAIN iter=003000 obj_val=0.04002680\n",
      "[2018-10-15 10:16:11 | info | Mocha]: \n",
      "[2018-10-15 10:16:11 | info | Mocha]: ## Performance on Validation Set after 3000 iterations\n",
      "[2018-10-15 10:16:11 | info | Mocha]: ---------------------------------------------------------\n",
      "[2018-10-15 10:16:11 | info | Mocha]:   Accuracy (avg over 10000) = 98.9000%\n",
      "[2018-10-15 10:16:11 | info | Mocha]: ---------------------------------------------------------\n",
      "[2018-10-15 10:16:11 | info | Mocha]: \n",
      "[2018-10-15 10:16:29 | info | Mocha]:  TRAIN iter=003100 obj_val=0.09268268\n",
      "[2018-10-15 10:16:47 | info | Mocha]:  TRAIN iter=003200 obj_val=0.06597513\n",
      "[2018-10-15 10:17:06 | info | Mocha]:  TRAIN iter=003300 obj_val=0.03141705\n",
      "[2018-10-15 10:17:24 | info | Mocha]:  TRAIN iter=003400 obj_val=0.17431386\n",
      "[2018-10-15 10:17:42 | info | Mocha]:  TRAIN iter=003500 obj_val=0.04095269\n",
      "[2018-10-15 10:18:00 | info | Mocha]:  TRAIN iter=003600 obj_val=0.04939773\n",
      "[2018-10-15 10:18:17 | info | Mocha]:  TRAIN iter=003700 obj_val=0.05999194\n",
      "[2018-10-15 10:18:35 | info | Mocha]:  TRAIN iter=003800 obj_val=0.04090263\n",
      "[2018-10-15 10:18:53 | info | Mocha]:  TRAIN iter=003900 obj_val=0.00326336\n",
      "[2018-10-15 10:19:11 | info | Mocha]:  TRAIN iter=004000 obj_val=0.01257465\n",
      "[2018-10-15 10:19:36 | info | Mocha]: \n",
      "[2018-10-15 10:19:36 | info | Mocha]: ## Performance on Validation Set after 4000 iterations\n",
      "[2018-10-15 10:19:36 | info | Mocha]: ---------------------------------------------------------\n",
      "[2018-10-15 10:19:36 | info | Mocha]:   Accuracy (avg over 10000) = 98.9800%\n",
      "[2018-10-15 10:19:36 | info | Mocha]: ---------------------------------------------------------\n",
      "[2018-10-15 10:19:36 | info | Mocha]: \n",
      "[2018-10-15 10:19:54 | info | Mocha]:  TRAIN iter=004100 obj_val=0.01065938\n",
      "[2018-10-15 10:20:13 | info | Mocha]:  TRAIN iter=004200 obj_val=0.01266177\n",
      "[2018-10-15 10:20:31 | info | Mocha]:  TRAIN iter=004300 obj_val=0.00486035\n",
      "[2018-10-15 10:20:50 | info | Mocha]:  TRAIN iter=004400 obj_val=0.00347996\n",
      "[2018-10-15 10:21:08 | info | Mocha]:  TRAIN iter=004500 obj_val=0.01092631\n",
      "[2018-10-15 10:21:27 | info | Mocha]:  TRAIN iter=004600 obj_val=0.00992849\n",
      "[2018-10-15 10:21:44 | info | Mocha]:  TRAIN iter=004700 obj_val=0.02106991\n",
      "[2018-10-15 10:22:02 | info | Mocha]:  TRAIN iter=004800 obj_val=0.03681848\n",
      "[2018-10-15 10:22:20 | info | Mocha]:  TRAIN iter=004900 obj_val=0.00508366\n",
      "[2018-10-15 10:22:38 | info | Mocha]:  TRAIN iter=005000 obj_val=0.00318842\n",
      "[2018-10-15 10:22:38 | info | Mocha]: Saving snapshot to snapshot-005000.jld...\n",
      "[2018-10-15 10:23:02 | info | Mocha]: \n",
      "[2018-10-15 10:23:02 | info | Mocha]: ## Performance on Validation Set after 5000 iterations\n",
      "[2018-10-15 10:23:02 | info | Mocha]: ---------------------------------------------------------\n",
      "[2018-10-15 10:23:02 | info | Mocha]:   Accuracy (avg over 10000) = 98.9600%\n",
      "[2018-10-15 10:23:02 | info | Mocha]: ---------------------------------------------------------\n",
      "[2018-10-15 10:23:02 | info | Mocha]: \n",
      "[2018-10-15 10:23:21 | info | Mocha]:  TRAIN iter=005100 obj_val=0.00588343\n",
      "[2018-10-15 10:23:39 | info | Mocha]:  TRAIN iter=005200 obj_val=0.01157596\n",
      "[2018-10-15 10:23:57 | info | Mocha]:  TRAIN iter=005300 obj_val=0.03337959\n",
      "[2018-10-15 10:24:15 | info | Mocha]:  TRAIN iter=005400 obj_val=0.02146222\n",
      "[2018-10-15 10:24:33 | info | Mocha]:  TRAIN iter=005500 obj_val=0.00197050\n",
      "[2018-10-15 10:24:51 | info | Mocha]:  TRAIN iter=005600 obj_val=0.00427642\n",
      "[2018-10-15 10:25:09 | info | Mocha]:  TRAIN iter=005700 obj_val=0.02317953\n",
      "[2018-10-15 10:25:27 | info | Mocha]:  TRAIN iter=005800 obj_val=0.00585348\n",
      "[2018-10-15 10:25:45 | info | Mocha]:  TRAIN iter=005900 obj_val=0.02241908\n",
      "[2018-10-15 10:26:04 | info | Mocha]:  TRAIN iter=006000 obj_val=0.00155469\n",
      "[2018-10-15 10:26:29 | info | Mocha]: \n",
      "[2018-10-15 10:26:29 | info | Mocha]: ## Performance on Validation Set after 6000 iterations\n",
      "[2018-10-15 10:26:29 | info | Mocha]: ---------------------------------------------------------\n",
      "[2018-10-15 10:26:29 | info | Mocha]:   Accuracy (avg over 10000) = 98.9800%\n",
      "[2018-10-15 10:26:29 | info | Mocha]: ---------------------------------------------------------\n",
      "[2018-10-15 10:26:29 | info | Mocha]: \n",
      "[2018-10-15 10:26:46 | info | Mocha]:  TRAIN iter=006100 obj_val=0.01277126\n",
      "[2018-10-15 10:27:04 | info | Mocha]:  TRAIN iter=006200 obj_val=0.01383046\n",
      "[2018-10-15 10:27:23 | info | Mocha]:  TRAIN iter=006300 obj_val=0.00495557\n",
      "[2018-10-15 10:27:41 | info | Mocha]:  TRAIN iter=006400 obj_val=0.00995049\n"
     ]
    },
    {
     "name": "stdout",
     "output_type": "stream",
     "text": [
      "[2018-10-15 10:27:59 | info | Mocha]:  TRAIN iter=006500 obj_val=0.01050950\n",
      "[2018-10-15 10:28:17 | info | Mocha]:  TRAIN iter=006600 obj_val=0.01444964\n",
      "[2018-10-15 10:28:35 | info | Mocha]:  TRAIN iter=006700 obj_val=0.00743677\n",
      "[2018-10-15 10:28:54 | info | Mocha]:  TRAIN iter=006800 obj_val=0.03480780\n",
      "[2018-10-15 10:29:12 | info | Mocha]:  TRAIN iter=006900 obj_val=0.01133169\n",
      "[2018-10-15 10:29:30 | info | Mocha]:  TRAIN iter=007000 obj_val=0.01745046\n",
      "[2018-10-15 10:29:55 | info | Mocha]: \n",
      "[2018-10-15 10:29:55 | info | Mocha]: ## Performance on Validation Set after 7000 iterations\n",
      "[2018-10-15 10:29:55 | info | Mocha]: ---------------------------------------------------------\n",
      "[2018-10-15 10:29:55 | info | Mocha]:   Accuracy (avg over 10000) = 99.1200%\n",
      "[2018-10-15 10:29:55 | info | Mocha]: ---------------------------------------------------------\n",
      "[2018-10-15 10:29:55 | info | Mocha]: \n",
      "[2018-10-15 10:30:13 | info | Mocha]:  TRAIN iter=007100 obj_val=0.00885139\n",
      "[2018-10-15 10:30:32 | info | Mocha]:  TRAIN iter=007200 obj_val=0.00679331\n",
      "[2018-10-15 10:30:51 | info | Mocha]:  TRAIN iter=007300 obj_val=0.01005494\n",
      "[2018-10-15 10:31:09 | info | Mocha]:  TRAIN iter=007400 obj_val=0.02374129\n",
      "[2018-10-15 10:31:26 | info | Mocha]:  TRAIN iter=007500 obj_val=0.01355541\n",
      "[2018-10-15 10:31:44 | info | Mocha]:  TRAIN iter=007600 obj_val=0.01050910\n",
      "[2018-10-15 10:32:03 | info | Mocha]:  TRAIN iter=007700 obj_val=0.00501630\n",
      "[2018-10-15 10:32:21 | info | Mocha]:  TRAIN iter=007800 obj_val=0.06218067\n",
      "[2018-10-15 10:32:39 | info | Mocha]:  TRAIN iter=007900 obj_val=0.00487592\n",
      "[2018-10-15 10:32:58 | info | Mocha]:  TRAIN iter=008000 obj_val=0.00384959\n",
      "[2018-10-15 10:33:22 | info | Mocha]: \n",
      "[2018-10-15 10:33:22 | info | Mocha]: ## Performance on Validation Set after 8000 iterations\n",
      "[2018-10-15 10:33:22 | info | Mocha]: ---------------------------------------------------------\n",
      "[2018-10-15 10:33:22 | info | Mocha]:   Accuracy (avg over 10000) = 99.0900%\n",
      "[2018-10-15 10:33:22 | info | Mocha]: ---------------------------------------------------------\n",
      "[2018-10-15 10:33:22 | info | Mocha]: \n",
      "[2018-10-15 10:33:40 | info | Mocha]:  TRAIN iter=008100 obj_val=0.04154274\n",
      "[2018-10-15 10:33:57 | info | Mocha]:  TRAIN iter=008200 obj_val=0.00828988\n",
      "[2018-10-15 10:34:15 | info | Mocha]:  TRAIN iter=008300 obj_val=0.01205750\n",
      "[2018-10-15 10:34:32 | info | Mocha]:  TRAIN iter=008400 obj_val=0.02468110\n",
      "[2018-10-15 10:34:50 | info | Mocha]:  TRAIN iter=008500 obj_val=0.00369361\n",
      "[2018-10-15 10:35:08 | info | Mocha]:  TRAIN iter=008600 obj_val=0.00640180\n",
      "[2018-10-15 10:35:27 | info | Mocha]:  TRAIN iter=008700 obj_val=0.03367081\n",
      "[2018-10-15 10:35:45 | info | Mocha]:  TRAIN iter=008800 obj_val=0.04377167\n",
      "[2018-10-15 10:36:03 | info | Mocha]:  TRAIN iter=008900 obj_val=0.08481980\n",
      "[2018-10-15 10:36:21 | info | Mocha]:  TRAIN iter=009000 obj_val=0.00719142\n",
      "[2018-10-15 10:36:45 | info | Mocha]: \n",
      "[2018-10-15 10:36:45 | info | Mocha]: ## Performance on Validation Set after 9000 iterations\n",
      "[2018-10-15 10:36:45 | info | Mocha]: ---------------------------------------------------------\n",
      "[2018-10-15 10:36:45 | info | Mocha]:   Accuracy (avg over 10000) = 99.1300%\n",
      "[2018-10-15 10:36:45 | info | Mocha]: ---------------------------------------------------------\n",
      "[2018-10-15 10:36:45 | info | Mocha]: \n",
      "[2018-10-15 10:37:03 | info | Mocha]:  TRAIN iter=009100 obj_val=0.01005220\n",
      "[2018-10-15 10:37:21 | info | Mocha]:  TRAIN iter=009200 obj_val=0.01855760\n",
      "[2018-10-15 10:37:38 | info | Mocha]:  TRAIN iter=009300 obj_val=0.00218554\n",
      "[2018-10-15 10:37:56 | info | Mocha]:  TRAIN iter=009400 obj_val=0.01846967\n",
      "[2018-10-15 10:38:13 | info | Mocha]:  TRAIN iter=009500 obj_val=0.00609653\n",
      "[2018-10-15 10:38:31 | info | Mocha]:  TRAIN iter=009600 obj_val=0.01244491\n",
      "[2018-10-15 10:38:49 | info | Mocha]:  TRAIN iter=009700 obj_val=0.00435782\n",
      "[2018-10-15 10:39:07 | info | Mocha]:  TRAIN iter=009800 obj_val=0.01296048\n",
      "[2018-10-15 10:39:26 | info | Mocha]:  TRAIN iter=009900 obj_val=0.04718278\n",
      "[2018-10-15 10:39:44 | info | Mocha]:  TRAIN iter=010000 obj_val=0.00374144\n",
      "[2018-10-15 10:39:44 | info | Mocha]: Saving snapshot to snapshot-010000.jld...\n",
      "[2018-10-15 10:40:10 | info | Mocha]: \n",
      "[2018-10-15 10:40:10 | info | Mocha]: ## Performance on Validation Set after 10000 iterations\n",
      "[2018-10-15 10:40:10 | info | Mocha]: ---------------------------------------------------------\n",
      "[2018-10-15 10:40:10 | info | Mocha]:   Accuracy (avg over 10000) = 99.0100%\n",
      "[2018-10-15 10:40:10 | info | Mocha]: ---------------------------------------------------------\n",
      "[2018-10-15 10:40:10 | info | Mocha]: \n"
     ]
    },
    {
     "data": {
      "text/plain": [
       "Dict{AbstractString,Array{Mocha.AbstractParameter,1}} with 0 entries"
      ]
     },
     "execution_count": 15,
     "metadata": {},
     "output_type": "execute_result"
    }
   ],
   "source": [
    "solve(solver, net)\n",
    "\n",
    "destroy(net)\n",
    "destroy(test_net)\n",
    "shutdown(backend)"
   ]
  },
  {
   "cell_type": "code",
   "execution_count": 59,
   "metadata": {},
   "outputs": [],
   "source": [
    "open(\"net.dot\", \"w\") do out net2dot(out, net) end\n",
    "# in shell run \" dot -Tpng net.dot |> \"net.png\" \" to generate png. this can also be doing using `run` in julia, \n",
    "#  but `run` doesn't behave as well in jupyter notebook"
   ]
  },
  {
   "cell_type": "code",
   "execution_count": 16,
   "metadata": {},
   "outputs": [
    {
     "name": "stdout",
     "output_type": "stream",
     "text": [
      "[2018-10-15 10:41:53 | info | Mocha]: Constructing net imagenet on Mocha.CPUBackend...\n",
      "[2018-10-15 10:41:53 | info | Mocha]: Topological sorting 8 layers...\n",
      "[2018-10-15 10:41:53 | info | Mocha]: Setup layers...\n",
      "[2018-10-15 10:41:53 | info | Mocha]: Network constructed!\n"
     ]
    },
    {
     "data": {
      "text/plain": [
       "************************************************************\n",
       "          NAME: imagenet\n",
       "       BACKEND: Mocha.CPUBackend\n",
       "  ARCHITECTURE: 8 layers\n",
       "............................................................\n",
       " *** Mocha.MemoryDataLayer(data)\n",
       "    Outputs ---------------------------\n",
       "          data: Blob(28 x 28 x 1 x 1)\n",
       "............................................................\n",
       " *** Mocha.ConvolutionLayer(conv1)\n",
       "    Inputs ----------------------------\n",
       "          data: Blob(28 x 28 x 1 x 1)\n",
       "    Outputs ---------------------------\n",
       "         conv1: Blob(24 x 24 x 20 x 1)\n",
       "............................................................\n",
       " *** Mocha.PoolingLayer(pool1)\n",
       "    Inputs ----------------------------\n",
       "         conv1: Blob(24 x 24 x 20 x 1)\n",
       "    Outputs ---------------------------\n",
       "         pool1: Blob(12 x 12 x 20 x 1)\n",
       "............................................................\n",
       " *** Mocha.ConvolutionLayer(conv2)\n",
       "    Inputs ----------------------------\n",
       "         pool1: Blob(12 x 12 x 20 x 1)\n",
       "    Outputs ---------------------------\n",
       "         conv2: Blob(8 x 8 x 50 x 1)\n",
       "............................................................\n",
       " *** Mocha.PoolingLayer(pool2)\n",
       "    Inputs ----------------------------\n",
       "         conv2: Blob(8 x 8 x 50 x 1)\n",
       "    Outputs ---------------------------\n",
       "         pool2: Blob(4 x 4 x 50 x 1)\n",
       "............................................................\n",
       " *** Mocha.InnerProductLayer(ip1)\n",
       "    Inputs ----------------------------\n",
       "         pool2: Blob(4 x 4 x 50 x 1)\n",
       "    Outputs ---------------------------\n",
       "           ip1: Blob(500 x 1)\n",
       "............................................................\n",
       " *** Mocha.InnerProductLayer(ip2)\n",
       "    Inputs ----------------------------\n",
       "           ip1: Blob(500 x 1)\n",
       "    Outputs ---------------------------\n",
       "           ip2: Blob(10 x 1)\n",
       "............................................................\n",
       " *** Mocha.SoftmaxLayer(prob)\n",
       "    Inputs ----------------------------\n",
       "           ip2: Blob(10 x 1)\n",
       "    Outputs ---------------------------\n",
       "          prob: Blob(10 x 1)\n",
       "************************************************************\n"
      ]
     },
     "execution_count": 16,
     "metadata": {},
     "output_type": "execute_result"
    }
   ],
   "source": [
    "backend = CPUBackend()\n",
    "init(backend)\n",
    "\n",
    "mem_data = MemoryDataLayer(name=\"data\", tops=[:data], batch_size=1,\n",
    "    data=Array[zeros(Float32, 28, 28, 1, 1)])\n",
    "softmax_layer = SoftmaxLayer(name=\"prob\", tops=[:prob], bottoms=[:ip2])\n",
    "\n",
    "# define common_layers as earlier\n",
    "\n",
    "run_net = Net(\"imagenet\", backend, [mem_data, common_layers..., softmax_layer])"
   ]
  },
  {
   "cell_type": "code",
   "execution_count": 18,
   "metadata": {},
   "outputs": [
    {
     "name": "stdout",
     "output_type": "stream",
     "text": [
      "[2018-10-15T00:21:01 | info | Mocha]: Loading existing model from snapshots/snapshot-010000.jld\n"
     ]
    },
    {
     "data": {
      "text/plain": [
       "Mocha.SolverState{Mocha.SGDSolverState}(10000, 0.023743240162730217, Dict{Any,Any}(), Mocha.SGDSolverState(0.005946035575013605, 0.9, Mocha.LayerState[Mocha.ConvolutionLayerState(Mocha.ConvolutionLayer(conv1), Mocha.Blob[Blob(24 x 24 x 20 x 1)], Mocha.Blob[Blob(24 x 24 x 20 x 1)], Mocha.Parameter[Mocha.Parameter(\"filter\", Blob(5 x 5 x 1 x 20), Blob(5 x 5 x 1 x 20), Mocha.NullInitializer(), Mocha.L2Regu(1.0), Mocha.NoCons(0.0, 0), 1.0, Mocha.RefCounter(2)), Mocha.Parameter(\"bias\", Blob(20), Blob(20), Mocha.NullInitializer(), Mocha.NoRegu(0.0), Mocha.NoCons(0.0, 0), 2.0, Mocha.RefCounter(2))], Blob(5 x 5 x 1 x 20), Blob(5 x 5 x 1 x 20), Blob(20), Blob(20), 24, 24, Mocha.CPUConvState(Blob(24 x 24 x 25 x 1), 576, 20, 25, Blob(576 x 1 x 1 x 1), Float32[0.0 0.00615451 … 0.0 NaN32; 0.0 4.58155f-41 … 0.0 NaN32; … ; 0.00615356 0.00615487 … 0.0 1.4013f-45; 4.58155f-41 4.58155f-41 … 0.0 0.0]), false), Mocha.ConvolutionLayerState(Mocha.ConvolutionLayer(conv2), Mocha.Blob[Blob(8 x 8 x 50 x 1)], Mocha.Blob[Blob(8 x 8 x 50 x 1)], Mocha.Parameter[Mocha.Parameter(\"filter\", Blob(5 x 5 x 20 x 50), Blob(5 x 5 x 20 x 50), Mocha.NullInitializer(), Mocha.L2Regu(1.0), Mocha.NoCons(0.0, 0), 1.0, Mocha.RefCounter(2)), Mocha.Parameter(\"bias\", Blob(50), Blob(50), Mocha.NullInitializer(), Mocha.NoRegu(0.0), Mocha.NoCons(0.0, 0), 2.0, Mocha.RefCounter(2))], Blob(5 x 5 x 20 x 50), Blob(5 x 5 x 20 x 50), Blob(50), Blob(50), 8, 8, Mocha.CPUConvState(Blob(8 x 8 x 500 x 1), 64, 50, 500, Blob(64 x 1 x 1 x 1), Float32[0.00363993 0.000971636 … 0.00200771 0.0; 4.58155f-41 4.58155f-41 … 4.58155f-41 0.0; … ; 0.0 0.0358977 … 0.0 0.000422822; 0.0 4.58155f-41 … 0.0 4.58155f-41]\n",
       "\n",
       "Float32[0.000971626 NaN32 … 0.0348081 0.000971677; 4.58155f-41 NaN32 … 4.58155f-41 4.58155f-41; … ; 0.0359007 0.00363272 … 0.0 0.04035; 4.58155f-41 4.58155f-41 … 0.0 4.58155f-41]\n",
       "\n",
       "Float32[NaN32 0.0033987 … 0.00353805 0.00343252; NaN32 4.58155f-41 … 4.58155f-41 4.58155f-41; … ; 0.0033987 0.00228855 … 0.00343252 0.0; 4.58155f-41 4.58155f-41 … 4.58155f-41 0.0]\n",
       "\n",
       "...\n",
       "\n",
       "Float32[0.035891 0.0114129 … 0.000972281 0.000972212; 4.58155f-41 4.58155f-41 … 4.58155f-41 4.58155f-41; … ; 1.4013f-45 1.10377f-29 … 9.40395f-38 0.0113612; -0.0 1.4013f-45 … 6.16571f-44 4.58155f-41]\n",
       "\n",
       "Float32[0.0114148 0.000972212 … 0.000971687 0.0113668; 4.58155f-41 4.58155f-41 … 4.58155f-41 4.58155f-41; … ; 9.40395f-38 0.0114149 … 0.0113669 0.0; 3.36312f-44 4.58155f-41 … 4.58155f-41 0.0]\n",
       "\n",
       "Float32[0.0 0.0113539 … 0.000971687 0.000972286; 0.0 4.58155f-41 … 4.58155f-41 4.58155f-41; … ; 1.50463f-36 1.11188f-29 … 0.0 1.4013f-45; 1.62551f-43 1.4013f-45 … 5.04467f-44 0.0]), false), Mocha.InnerProductLayerState(Mocha.InnerProductLayer(ip1), Mocha.Blob[Blob(500 x 1)], Mocha.Blob[Blob(500 x 1)], Mocha.Parameter[Mocha.Parameter(\"weight\", Blob(800 x 500), Blob(800 x 500), Mocha.NullInitializer(), Mocha.L2Regu(1.0), Mocha.NoCons(0.0, 0), 1.0, Mocha.RefCounter(2)), Mocha.Parameter(\"bias\", Blob(500 x 1), Blob(500 x 1), Mocha.NullInitializer(), Mocha.NoRegu(0.0), Mocha.NoCons(0.0, 0), 2.0, Mocha.RefCounter(2))], Blob(800 x 500), Blob(800 x 500), Blob(500 x 1), Blob(500 x 1), Mocha.Blob[Blob(1 x 1)], false), Mocha.InnerProductLayerState(Mocha.InnerProductLayer(ip2), Mocha.Blob[Blob(10 x 1)], Mocha.Blob[Blob(10 x 1)], Mocha.Parameter[Mocha.Parameter(\"weight\", Blob(500 x 10), Blob(500 x 10), Mocha.NullInitializer(), Mocha.L2Regu(1.0), Mocha.NoCons(0.0, 0), 1.0, Mocha.RefCounter(2)), Mocha.Parameter(\"bias\", Blob(10 x 1), Blob(10 x 1), Mocha.NullInitializer(), Mocha.NoRegu(0.0), Mocha.NoCons(0.0, 0), 2.0, Mocha.RefCounter(2))], Blob(500 x 10), Blob(500 x 10), Blob(10 x 1), Blob(10 x 1), Mocha.Blob[Blob(1 x 1)], false)], Array{Mocha.Blob,1}[Mocha.Blob[Blob(5 x 5 x 1 x 20), Blob(20)], Mocha.Blob[Blob(5 x 5 x 20 x 50), Blob(50)], Mocha.Blob[Blob(800 x 500), Blob(500 x 1)], Mocha.Blob[Blob(500 x 10), Blob(10 x 1)]], 0.9))"
      ]
     },
     "execution_count": 18,
     "metadata": {},
     "output_type": "execute_result"
    }
   ],
   "source": [
    "load_snapshot(run_net, \"snapshots/snapshot-010000.jld\")"
   ]
  },
  {
   "cell_type": "code",
   "execution_count": 17,
   "metadata": {},
   "outputs": [
    {
     "name": "stdout",
     "output_type": "stream",
     "text": [
      "Correct label index: 9\n"
     ]
    },
    {
     "ename": "LoadError",
     "evalue": "\u001b[91mInexactError()\u001b[39m",
     "output_type": "error",
     "traceback": [
      "\u001b[91mInexactError()\u001b[39m",
      "",
      "Stacktrace:",
      " [1] \u001b[1msetindex!\u001b[22m\u001b[22m at \u001b[1m./array.jl:579\u001b[22m\u001b[22m [inlined]",
      " [2] \u001b[1mmax_pooling_forward\u001b[22m\u001b[22m\u001b[1m(\u001b[22m\u001b[22m::Array{Float32,4}, ::Array{Float32,4}, ::Array{UInt64,4}, ::Mocha.PoolingLayer\u001b[1m)\u001b[22m\u001b[22m at \u001b[1m/Users/max/.julia/v0.6/Mocha/src/layers/pooling/julia-impl.jl:34\u001b[22m\u001b[22m",
      " [3] \u001b[1mforward\u001b[22m\u001b[22m\u001b[1m(\u001b[22m\u001b[22m::Mocha.CPUBackend, ::Mocha.Pooling.Max, ::Mocha.PoolingLayerState, ::Array{Mocha.Blob,1}\u001b[1m)\u001b[22m\u001b[22m at \u001b[1m/Users/max/.julia/v0.6/Mocha/src/layers/pooling.jl:93\u001b[22m\u001b[22m",
      " [4] \u001b[1mforward\u001b[22m\u001b[22m\u001b[1m(\u001b[22m\u001b[22m::Mocha.CPUBackend, ::Mocha.PoolingLayerState, ::Array{Mocha.Blob,1}\u001b[1m)\u001b[22m\u001b[22m at \u001b[1m/Users/max/.julia/v0.6/Mocha/src/layers/pooling.jl:84\u001b[22m\u001b[22m",
      " [5] \u001b[1mforward\u001b[22m\u001b[22m\u001b[1m(\u001b[22m\u001b[22m::Mocha.Net{Mocha.CPUBackend}, ::Float64\u001b[1m)\u001b[22m\u001b[22m at \u001b[1m/Users/max/.julia/v0.6/Mocha/src/net.jl:148\u001b[22m\u001b[22m",
      " [6] \u001b[1mforward\u001b[22m\u001b[22m\u001b[1m(\u001b[22m\u001b[22m::Mocha.Net{Mocha.CPUBackend}\u001b[1m)\u001b[22m\u001b[22m at \u001b[1m/Users/max/.julia/v0.6/Mocha/src/net.jl:145\u001b[22m\u001b[22m",
      " [7] \u001b[1minclude_string\u001b[22m\u001b[22m\u001b[1m(\u001b[22m\u001b[22m::String, ::String\u001b[1m)\u001b[22m\u001b[22m at \u001b[1m./loading.jl:522\u001b[22m\u001b[22m",
      " [8] \u001b[1mexecute_request\u001b[22m\u001b[22m\u001b[1m(\u001b[22m\u001b[22m::ZMQ.Socket, ::IJulia.Msg\u001b[1m)\u001b[22m\u001b[22m at \u001b[1m/Users/max/.julia/v0.6/IJulia/src/execute_request.jl:193\u001b[22m\u001b[22m",
      " [9] \u001b[1m(::Compat.#inner#6{Array{Any,1},IJulia.#execute_request,Tuple{ZMQ.Socket,IJulia.Msg}})\u001b[22m\u001b[22m\u001b[1m(\u001b[22m\u001b[22m\u001b[1m)\u001b[22m\u001b[22m at \u001b[1m/Users/max/.julia/v0.6/Compat/src/Compat.jl:189\u001b[22m\u001b[22m",
      " [10] \u001b[1meventloop\u001b[22m\u001b[22m\u001b[1m(\u001b[22m\u001b[22m::ZMQ.Socket\u001b[1m)\u001b[22m\u001b[22m at \u001b[1m/Users/max/.julia/v0.6/IJulia/src/eventloop.jl:8\u001b[22m\u001b[22m",
      " [11] \u001b[1m(::IJulia.##13#16)\u001b[22m\u001b[22m\u001b[1m(\u001b[22m\u001b[22m\u001b[1m)\u001b[22m\u001b[22m at \u001b[1m./task.jl:335\u001b[22m\u001b[22m"
     ]
    }
   ],
   "source": [
    "using HDF5\n",
    "h5open(\"data/test.hdf5\") do f\n",
    "    get_layer(run_net, \"data\").data[1][:,:,1,1] = f[\"data\"][:,:,1,1]\n",
    "    println(\"Correct label index: \", Int64(f[\"label\"][:,1][1]+1))\n",
    "end\n",
    "\n",
    "forward(run_net)\n",
    "println()\n",
    "println(\"Label probability vector:\")\n",
    "println(run_net.output_blobs[:prob].data)"
   ]
  },
  {
   "cell_type": "code",
   "execution_count": 19,
   "metadata": {},
   "outputs": [
    {
     "name": "stderr",
     "output_type": "stream",
     "text": [
      "\u001b[1m\u001b[36mINFO: \u001b[39m\u001b[22m\u001b[36mPrecompiling module PyPlot.\n",
      "\u001b[39m\u001b[1m\u001b[36mInfo: \u001b[39m\u001b[22m\u001b[36mInstalling matplotlib via the Conda matplotlib package...\n",
      "\u001b[39m\u001b[1m\u001b[36mInfo: \u001b[39m\u001b[22m\u001b[36mRunning `conda install -y matplotlib` in root environment\n",
      "\u001b[39m"
     ]
    },
    {
     "name": "stdout",
     "output_type": "stream",
     "text": [
      "Solving environment: ...working... done\n"
     ]
    },
    {
     "name": "stderr",
     "output_type": "stream",
     "text": [
      "matplotlib-3.0.0     | 6.8 MB    | ########## | 100% \n",
      "pytz-2018.5          | 231 KB    | ########## | 100% \n",
      "freetype-2.9.1       | 864 KB    | ########## | 100% \n",
      "pyparsing-2.2.2      | 97 KB     | ########## | 100% \n",
      "kiwisolver-1.0.1     | 56 KB     | ########## | 100% \n",
      "cycler-0.10.0        | 13 KB     |            |   0% "
     ]
    },
    {
     "name": "stdout",
     "output_type": "stream",
     "text": [
      "\n",
      "## Package Plan ##\n",
      "\n",
      "  environment location: /Users/max/.julia/v0.6/Conda/deps/usr\n",
      "\n",
      "  added / updated specs: \n",
      "    - matplotlib\n",
      "\n",
      "\n",
      "The following packages will be downloaded:\n",
      "\n",
      "    package                    |            build\n",
      "    ---------------------------|-----------------\n",
      "    matplotlib-3.0.0           |   py36h54f8f79_0         6.8 MB\n",
      "    pytz-2018.5                |           py36_0         231 KB\n",
      "    freetype-2.9.1             |       hb4e5f40_0         864 KB\n",
      "    pyparsing-2.2.2            |           py36_0          97 KB\n",
      "    kiwisolver-1.0.1           |   py36h0a44026_0          56 KB\n",
      "    cycler-0.10.0              |   py36hfc81398_0          13 KB\n",
      "    ------------------------------------------------------------\n",
      "                                           Total:         8.1 MB\n",
      "\n",
      "The following NEW packages will be INSTALLED:\n",
      "\n",
      "    cycler:     0.10.0-py36hfc81398_0\n",
      "    freetype:   2.9.1-hb4e5f40_0     \n",
      "    kiwisolver: 1.0.1-py36h0a44026_0 \n",
      "    matplotlib: 3.0.0-py36h54f8f79_0 \n",
      "    pyparsing:  2.2.2-py36_0         \n",
      "    pytz:       2018.5-py36_0        \n",
      "\n",
      "\n",
      "Downloading and Extracting Packages\n",
      "Preparing transaction: ...working... done\n",
      "Verifying transaction: ...working... "
     ]
    },
    {
     "name": "stderr",
     "output_type": "stream",
     "text": [
      "\r",
      "cycler-0.10.0        | 13 KB     | ########## | 100% "
     ]
    },
    {
     "name": "stdout",
     "output_type": "stream",
     "text": [
      "done\n",
      "Executing transaction: ...working... done\n"
     ]
    },
    {
     "name": "stderr",
     "output_type": "stream",
     "text": [
      "\n",
      "Unable to revert mtime: /Library/Fonts\n"
     ]
    }
   ],
   "source": [
    "using PyPlot, JLD"
   ]
  },
  {
   "cell_type": "code",
   "execution_count": 20,
   "metadata": {},
   "outputs": [
    {
     "data": {
      "text/plain": [
       "101-element Array{Float64,1}:\n",
       " 2.35863   \n",
       " 0.31432   \n",
       " 0.401846  \n",
       " 0.0558486 \n",
       " 0.114651  \n",
       " 0.0933054 \n",
       " 0.0646854 \n",
       " 0.100322  \n",
       " 0.0912237 \n",
       " 0.0392795 \n",
       " 0.0950138 \n",
       " 0.0677079 \n",
       " 0.0164671 \n",
       " ⋮         \n",
       " 0.0848198 \n",
       " 0.00719142\n",
       " 0.0100522 \n",
       " 0.0185576 \n",
       " 0.00218554\n",
       " 0.0184697 \n",
       " 0.00609653\n",
       " 0.0124449 \n",
       " 0.00435782\n",
       " 0.0129605 \n",
       " 0.0471828 \n",
       " 0.00374144"
      ]
     },
     "execution_count": 20,
     "metadata": {},
     "output_type": "execute_result"
    }
   ],
   "source": [
    "stats = load(\"snapshots/statistics.jld\")\n",
    "# println(typeof(stats))\n",
    "\n",
    "tables = stats[\"statistics\"]\n",
    "ov = tables[\"obj_val\"]\n",
    "xy = sort(collect(ov))\n",
    "x = [i for (i,j) in xy]\n",
    "y = [j for (i,j) in xy]\n",
    "x = convert(Array{Int64}, x)\n",
    "y = convert(Array{Float64}, y)"
   ]
  },
  {
   "cell_type": "code",
   "execution_count": 21,
   "metadata": {},
   "outputs": [
    {
     "data": {
      "image/png": "[encoded data removed]",
      "text/plain": [
       "PyPlot.Figure(PyObject <Figure size 640x480 with 1 Axes>)"
      ]
     },
     "metadata": {},
     "output_type": "display_data"
    }
   ],
   "source": [
    "raw = plot(x, y, linewidth=1, label=\"Raw\")\n",
    "xlabel(\"Iterations\")\n",
    "ylabel(\"Objective Value\")\n",
    "title(\"MNIST Learning Curve\")\n",
    "grid(\"on\")"
   ]
  },
  {
   "cell_type": "code",
   "execution_count": 23,
   "metadata": {},
   "outputs": [
    {
     "data": {
      "text/plain": [
       "Dict{String,Any} with 2 entries:\n",
       "  \"solver_state\" => Mocha.SGDSolverSnapshot(10000, 0.00374144, 0.00594604, 0.9)\n",
       "  \"params_all\"   => Dict{AbstractString,Array{Array,1}}(Pair{AbstractString,Arr…"
      ]
     },
     "execution_count": 23,
     "metadata": {},
     "output_type": "execute_result"
    }
   ],
   "source": [
    "model_params = load(\"snapshots/snapshot-010000.jld\")"
   ]
  },
  {
   "cell_type": "code",
   "execution_count": 25,
   "metadata": {},
   "outputs": [
    {
     "data": {
      "text/plain": [
       "Dict{AbstractString,Array{Array,1}} with 4 entries:\n",
       "  \"ip2\"   => Array[Float32[-0.0715912 -0.0125504 … -0.104517 -0.0293323; 0.0072…\n",
       "  \"conv1\" => Array[Float32[-0.171826 0.0634308 … 0.0607307 -0.176374; -0.017870…\n",
       "  \"ip1\"   => Array[Float32[0.00907153 0.0125436 … -0.0148428 0.0175151; 0.00276…\n",
       "  \"conv2\" => Array[Float32[0.0534353 0.01805 … -0.020137 -0.00508149; 0.0362335…"
      ]
     },
     "execution_count": 25,
     "metadata": {},
     "output_type": "execute_result"
    }
   ],
   "source": [
    "model_params[\"params_all\"]"
   ]
  },
  {
   "cell_type": "code",
   "execution_count": 33,
   "metadata": {},
   "outputs": [
    {
     "data": {
      "text/plain": [
       "2-element Array{Array,1}:\n",
       " Float32[-0.171826 0.0634308 … 0.0607307 -0.176374; -0.0178705 0.192093 … 0.0887122 -0.220021; … ; 0.0324766 0.260353 … -0.287754 0.0459051; 0.198959 0.0594657 … -0.202151 -0.0524436]\n",
       "\n",
       "Float32[-0.224579 -0.0578851 … 0.255156 0.136309; 0.029705 -0.290497 … -0.00408163 0.190921; … ; 0.00867588 -0.278292 … 0.1715 -0.0887297; -0.177925 -0.242972 … 0.109208 0.120995]\n",
       "\n",
       "Float32[-0.134894 -0.251856 … -0.202346 -0.0626241; -0.225242 -0.0181353 … 0.12393 0.085449; … ; -0.00758352 -0.0673803 … 0.134056 -0.0729489; 0.122044 0.158463 … 0.297107 0.265298]\n",
       "\n",
       "...\n",
       "\n",
       "Float32[0.0730137 -0.10888 … -0.181912 0.239938; -0.0656181 -0.155031 … -0.131014 0.165729; … ; -0.0980529 -0.282158 … 0.242684 0.41583; 0.0288336 -0.395337 … 0.296603 0.305097]\n",
       "\n",
       "Float32[-0.183128 0.011241 … -0.114522 0.203891; -0.0829642 -0.158475 … -0.0669122 0.261412; … ; -0.247596 -0.17917 … 0.43524 0.228052; 0.0484358 0.113559 … 0.117319 0.0476397]\n",
       "\n",
       "Float32[0.334834 0.129301 … -0.0811692 -0.116564; 0.400003 -0.0683667 … -0.218576 -0.139404; … ; 0.315416 0.00888715 … -0.225936 -0.117631; 0.0746662 0.17918 … -0.243597 -0.109964]\n",
       " Float32[0.0635159, -0.223864, -0.177992, 0.0442495, 0.232009, -0.10534, 0.250663, -0.430726, -0.072557, -0.31247, 0.0269439, 0.0214652, -0.186425, 0.142626, -0.411456, 0.0354943, -0.26277, 0.0204402, -0.355696, 0.204966]                                                                                                                                                                                                                                                                                                                                                                                                                                                                                                                                                                                                                                                                                                                                                                                                                                                                                                      "
      ]
     },
     "execution_count": 33,
     "metadata": {},
     "output_type": "execute_result"
    }
   ],
   "source": [
    "model_params[\"params_all\"][\"conv1\"]"
   ]
  },
  {
   "cell_type": "code",
   "execution_count": 40,
   "metadata": {},
   "outputs": [
    {
     "data": {
      "text/plain": [
       "5×5×1×20 Array{Float32,4}:\n",
       "[:, :, 1, 1] =\n",
       " -0.171826   0.0634308   0.0627395   0.0607307  -0.176374 \n",
       " -0.0178705  0.192093   -0.069016    0.0887122  -0.220021 \n",
       "  0.11218    0.30785    -0.0535392  -0.104049   -0.29606  \n",
       "  0.0324766  0.260353   -0.096002   -0.287754    0.0459051\n",
       "  0.198959   0.0594657   0.0230666  -0.202151   -0.0524436\n",
       "\n",
       "[:, :, 1, 2] =\n",
       " -0.224579    -0.0578851  -0.00107737   0.255156     0.136309 \n",
       "  0.029705    -0.290497    0.0965477   -0.00408163   0.190921 \n",
       " -0.176325    -0.215178   -0.0562089    0.22316     -0.0882827\n",
       "  0.00867588  -0.278292   -0.111666     0.1715      -0.0887297\n",
       " -0.177925    -0.242972    0.0632314    0.109208     0.120995 \n",
       "\n",
       "[:, :, 1, 3] =\n",
       " -0.134894    -0.251856   -0.140275   -0.202346  -0.0626241\n",
       " -0.225242    -0.0181353  -0.162968    0.12393    0.085449 \n",
       " -0.0941872   -0.0343186   0.0670251  -0.116209  -0.10128  \n",
       " -0.00758352  -0.0673803   0.0377105   0.134056  -0.0729489\n",
       "  0.122044     0.158463    0.22973     0.297107   0.265298 \n",
       "\n",
       "...\n",
       "\n",
       "[:, :, 1, 18] =\n",
       "  0.0730137  -0.10888   -0.0891293  -0.181912  0.239938\n",
       " -0.0656181  -0.155031  -0.189429   -0.131014  0.165729\n",
       " -0.179939   -0.137453  -0.302327    0.127083  0.251101\n",
       " -0.0980529  -0.282158  -0.279213    0.242684  0.41583 \n",
       "  0.0288336  -0.395337  -0.227491    0.296603  0.305097\n",
       "\n",
       "[:, :, 1, 19] =\n",
       " -0.183128    0.011241  -0.264976  -0.114522   0.203891 \n",
       " -0.0829642  -0.158475  -0.189075  -0.0669122  0.261412 \n",
       " -0.142298   -0.161515  -0.267506   0.244635   0.357172 \n",
       " -0.247596   -0.17917    0.062076   0.43524    0.228052 \n",
       "  0.0484358   0.113559   0.336685   0.117319   0.0476397\n",
       "\n",
       "[:, :, 1, 20] =\n",
       " 0.334834    0.129301    -0.15577    -0.0811692  -0.116564\n",
       " 0.400003   -0.0683667   -0.0253638  -0.218576   -0.139404\n",
       " 0.401398   -0.0439742   -0.324208   -0.125355   -0.26179 \n",
       " 0.315416    0.00888715  -0.240572   -0.225936   -0.117631\n",
       " 0.0746662   0.17918     -0.281285   -0.243597   -0.109964"
      ]
     },
     "execution_count": 40,
     "metadata": {},
     "output_type": "execute_result"
    }
   ],
   "source": [
    "model_params[\"params_all\"][\"conv1\"][1]"
   ]
  },
  {
   "cell_type": "code",
   "execution_count": 37,
   "metadata": {},
   "outputs": [
    {
     "data": {
      "text/plain": [
       "5×5 Array{Float32,2}:\n",
       " -0.171826   0.0634308   0.0627395   0.0607307  -0.176374 \n",
       " -0.0178705  0.192093   -0.069016    0.0887122  -0.220021 \n",
       "  0.11218    0.30785    -0.0535392  -0.104049   -0.29606  \n",
       "  0.0324766  0.260353   -0.096002   -0.287754    0.0459051\n",
       "  0.198959   0.0594657   0.0230666  -0.202151   -0.0524436"
      ]
     },
     "execution_count": 37,
     "metadata": {},
     "output_type": "execute_result"
    }
   ],
   "source": [
    "filter_img = model_params[\"params_all\"][\"conv1\"][1][:,:,1,1]"
   ]
  },
  {
   "cell_type": "code",
   "execution_count": 39,
   "metadata": {},
   "outputs": [
    {
     "data": {
      "image/png": "[encoded data removed]",
      "text/plain": [
       "5×5 Array{Gray{Float32},2}:\n",
       " Gray{Float32}(-0.171826)   …  Gray{Float32}(-0.176374) \n",
       " Gray{Float32}(-0.0178705)     Gray{Float32}(-0.220021) \n",
       " Gray{Float32}(0.11218)        Gray{Float32}(-0.29606)  \n",
       " Gray{Float32}(0.0324766)      Gray{Float32}(0.0459051) \n",
       " Gray{Float32}(0.198959)       Gray{Float32}(-0.0524436)"
      ]
     },
     "execution_count": 39,
     "metadata": {},
     "output_type": "execute_result"
    }
   ],
   "source": [
    "filter_img = Gray.(filter_img)"
   ]
  },
  {
   "cell_type": "code",
   "execution_count": 41,
   "metadata": {},
   "outputs": [
    {
     "data": {
      "text/plain": [
       "0-element Array{Any,1}"
      ]
     },
     "execution_count": 41,
     "metadata": {},
     "output_type": "execute_result"
    }
   ],
   "source": [
    "filters=[]"
   ]
  },
  {
   "cell_type": "code",
   "execution_count": 44,
   "metadata": {},
   "outputs": [],
   "source": [
    "for i = 1:20\n",
    "    push!(filters, Gray.(model_params[\"params_all\"][\"conv1\"][1][:,:,1,i]))\n",
    "end"
   ]
  },
  {
   "cell_type": "code",
   "execution_count": 45,
   "metadata": {},
   "outputs": [
    {
     "data": {
      "text/plain": [
       "20-element Array{Any,1}:\n",
       " ColorTypes.Gray{Float32}[Gray{Float32}(-0.171826) Gray{Float32}(0.0634308) … Gray{Float32}(0.0607307) Gray{Float32}(-0.176374); Gray{Float32}(-0.0178705) Gray{Float32}(0.192093) … Gray{Float32}(0.0887122) Gray{Float32}(-0.220021); … ; Gray{Float32}(0.0324766) Gray{Float32}(0.260353) … Gray{Float32}(-0.287754) Gray{Float32}(0.0459051); Gray{Float32}(0.198959) Gray{Float32}(0.0594657) … Gray{Float32}(-0.202151) Gray{Float32}(-0.0524436)]  \n",
       " ColorTypes.Gray{Float32}[Gray{Float32}(-0.224579) Gray{Float32}(-0.0578851) … Gray{Float32}(0.255156) Gray{Float32}(0.136309); Gray{Float32}(0.029705) Gray{Float32}(-0.290497) … Gray{Float32}(-0.00408163) Gray{Float32}(0.190921); … ; Gray{Float32}(0.00867588) Gray{Float32}(-0.278292) … Gray{Float32}(0.1715) Gray{Float32}(-0.0887297); Gray{Float32}(-0.177925) Gray{Float32}(-0.242972) … Gray{Float32}(0.109208) Gray{Float32}(0.120995)]     \n",
       " ColorTypes.Gray{Float32}[Gray{Float32}(-0.134894) Gray{Float32}(-0.251856) … Gray{Float32}(-0.202346) Gray{Float32}(-0.0626241); Gray{Float32}(-0.225242) Gray{Float32}(-0.0181353) … Gray{Float32}(0.12393) Gray{Float32}(0.085449); … ; Gray{Float32}(-0.00758352) Gray{Float32}(-0.0673803) … Gray{Float32}(0.134056) Gray{Float32}(-0.0729489); Gray{Float32}(0.122044) Gray{Float32}(0.158463) … Gray{Float32}(0.297107) Gray{Float32}(0.265298)]   \n",
       " ColorTypes.Gray{Float32}[Gray{Float32}(-0.110987) Gray{Float32}(-0.251491) … Gray{Float32}(-0.353949) Gray{Float32}(-0.176137); Gray{Float32}(-0.233771) Gray{Float32}(-0.189763) … Gray{Float32}(-0.249847) Gray{Float32}(-0.180015); … ; Gray{Float32}(0.0391833) Gray{Float32}(0.146674) … Gray{Float32}(0.400454) Gray{Float32}(0.389386); Gray{Float32}(0.218596) Gray{Float32}(0.289098) … Gray{Float32}(0.357538) Gray{Float32}(0.283695)]        \n",
       " ColorTypes.Gray{Float32}[Gray{Float32}(-0.22708) Gray{Float32}(-0.163667) … Gray{Float32}(0.329558) Gray{Float32}(0.0601088); Gray{Float32}(-0.0564925) Gray{Float32}(0.00828362) … Gray{Float32}(0.235765) Gray{Float32}(0.236055); … ; Gray{Float32}(-0.240587) Gray{Float32}(-0.190171) … Gray{Float32}(-0.191035) Gray{Float32}(-0.00642295); Gray{Float32}(-0.0217137) Gray{Float32}(0.135955) … Gray{Float32}(-0.0713606) Gray{Float32}(0.0746159)]\n",
       " ColorTypes.Gray{Float32}[Gray{Float32}(0.107861) Gray{Float32}(0.0830121) … Gray{Float32}(0.208811) Gray{Float32}(0.0919424); Gray{Float32}(-0.21639) Gray{Float32}(0.137019) … Gray{Float32}(0.417685) Gray{Float32}(0.00841075); … ; Gray{Float32}(-0.271673) Gray{Float32}(-0.247637) … Gray{Float32}(0.344861) Gray{Float32}(0.075419); Gray{Float32}(-0.0742646) Gray{Float32}(-0.116331) … Gray{Float32}(0.159873) Gray{Float32}(0.141475)]        \n",
       " ColorTypes.Gray{Float32}[Gray{Float32}(0.100495) Gray{Float32}(-0.103718) … Gray{Float32}(0.0243266) Gray{Float32}(0.0911655); Gray{Float32}(0.0347214) Gray{Float32}(-0.0513064) … Gray{Float32}(0.0525429) Gray{Float32}(0.109522); … ; Gray{Float32}(-0.123571) Gray{Float32}(0.18082) … Gray{Float32}(-0.146148) Gray{Float32}(-0.127997); Gray{Float32}(-0.0634809) Gray{Float32}(-0.263804) … Gray{Float32}(-0.290597) Gray{Float32}(-0.164651)]   \n",
       " ColorTypes.Gray{Float32}[Gray{Float32}(-0.00187039) Gray{Float32}(0.112463) … Gray{Float32}(0.118964) Gray{Float32}(7.87825f-6); Gray{Float32}(-0.203521) Gray{Float32}(0.151646) … Gray{Float32}(0.232598) Gray{Float32}(-0.13145); … ; Gray{Float32}(-0.141292) Gray{Float32}(0.199496) … Gray{Float32}(0.116673) Gray{Float32}(-0.252653); Gray{Float32}(-0.0690858) Gray{Float32}(0.0655465) … Gray{Float32}(0.151749) Gray{Float32}(0.0317852)]     \n",
       " ColorTypes.Gray{Float32}[Gray{Float32}(-0.281794) Gray{Float32}(-0.116395) … Gray{Float32}(-0.0900601) Gray{Float32}(0.0758565); Gray{Float32}(-0.229675) Gray{Float32}(-0.320187) … Gray{Float32}(0.244602) Gray{Float32}(0.333316); … ; Gray{Float32}(-0.177367) Gray{Float32}(-0.0412763) … Gray{Float32}(0.114436) Gray{Float32}(0.0776054); Gray{Float32}(-0.0499159) Gray{Float32}(-0.113237) … Gray{Float32}(-0.0603492) Gray{Float32}(0.16401)]  \n",
       " ColorTypes.Gray{Float32}[Gray{Float32}(0.0298422) Gray{Float32}(-0.132609) … Gray{Float32}(0.250982) Gray{Float32}(0.076596); Gray{Float32}(0.201959) Gray{Float32}(0.16324) … Gray{Float32}(0.314377) Gray{Float32}(0.0480602); … ; Gray{Float32}(0.119439) Gray{Float32}(0.327099) … Gray{Float32}(-0.206024) Gray{Float32}(-0.140349); Gray{Float32}(0.258496) Gray{Float32}(0.0541735) … Gray{Float32}(-0.227264) Gray{Float32}(-0.118091)]          \n",
       " ColorTypes.Gray{Float32}[Gray{Float32}(-0.321177) Gray{Float32}(-0.133395) … Gray{Float32}(0.23956) Gray{Float32}(0.00412401); Gray{Float32}(-0.255622) Gray{Float32}(-0.175417) … Gray{Float32}(0.0880497) Gray{Float32}(-0.243497); … ; Gray{Float32}(-0.123017) Gray{Float32}(0.0117242) … Gray{Float32}(-0.156126) Gray{Float32}(-0.20993); Gray{Float32}(0.198504) Gray{Float32}(0.0642692) … Gray{Float32}(-0.212081) Gray{Float32}(-0.143608)]    \n",
       " ColorTypes.Gray{Float32}[Gray{Float32}(-0.0189969) Gray{Float32}(-0.134348) … Gray{Float32}(-0.370504) Gray{Float32}(-0.201115); Gray{Float32}(0.145115) Gray{Float32}(-0.0302287) … Gray{Float32}(-0.425338) Gray{Float32}(-0.347289); … ; Gray{Float32}(0.466957) Gray{Float32}(0.309841) … Gray{Float32}(-0.198967) Gray{Float32}(-0.3598); Gray{Float32}(0.381349) Gray{Float32}(0.171301) … Gray{Float32}(-0.100971) Gray{Float32}(-0.297377)]      \n",
       " ColorTypes.Gray{Float32}[Gray{Float32}(0.0889469) Gray{Float32}(0.151161) … Gray{Float32}(0.386646) Gray{Float32}(0.16348); Gray{Float32}(0.266718) Gray{Float32}(0.416233) … Gray{Float32}(0.235742) Gray{Float32}(0.147373); … ; Gray{Float32}(-0.0846911) Gray{Float32}(-0.194462) … Gray{Float32}(-0.0504678) Gray{Float32}(-0.0657371); Gray{Float32}(-0.0503402) Gray{Float32}(-0.2088) … Gray{Float32}(-0.20629) Gray{Float32}(-0.160055)]        \n",
       " ColorTypes.Gray{Float32}[Gray{Float32}(-0.128617) Gray{Float32}(-0.226119) … Gray{Float32}(-0.0429923) Gray{Float32}(0.141986); Gray{Float32}(0.161839) Gray{Float32}(0.112392) … Gray{Float32}(-0.187216) Gray{Float32}(-0.00371547); … ; Gray{Float32}(0.0777262) Gray{Float32}(-0.105184) … Gray{Float32}(-0.0171299) Gray{Float32}(0.0777852); Gray{Float32}(0.171343) Gray{Float32}(-0.0632409) … Gray{Float32}(-0.0807847) Gray{Float32}(0.234659)]\n",
       " ColorTypes.Gray{Float32}[Gray{Float32}(0.00318651) Gray{Float32}(0.30273) … Gray{Float32}(0.258733) Gray{Float32}(-0.202589); Gray{Float32}(-0.00241022) Gray{Float32}(-0.024893) … Gray{Float32}(0.354591) Gray{Float32}(-0.0251583); … ; Gray{Float32}(-0.161607) Gray{Float32}(-0.197167) … Gray{Float32}(0.353102) Gray{Float32}(0.362417); Gray{Float32}(-0.095371) Gray{Float32}(-0.337147) … Gray{Float32}(0.036995) Gray{Float32}(0.180309)]     \n",
       " ColorTypes.Gray{Float32}[Gray{Float32}(-0.150789) Gray{Float32}(0.1533) … Gray{Float32}(-0.0181875) Gray{Float32}(0.233002); Gray{Float32}(0.001729) Gray{Float32}(0.111624) … Gray{Float32}(-0.0531403) Gray{Float32}(0.185103); … ; Gray{Float32}(0.106569) Gray{Float32}(-0.0181672) … Gray{Float32}(0.179292) Gray{Float32}(-0.249514); Gray{Float32}(0.2771) Gray{Float32}(0.369096) … Gray{Float32}(0.00064211) Gray{Float32}(-0.217016)]          \n",
       " ColorTypes.Gray{Float32}[Gray{Float32}(0.192716) Gray{Float32}(-0.0316461) … Gray{Float32}(-0.151905) Gray{Float32}(-0.206976); Gray{Float32}(0.16933) Gray{Float32}(-0.11179) … Gray{Float32}(-0.124059) Gray{Float32}(-0.0229036); … ; Gray{Float32}(0.131763) Gray{Float32}(0.385964) … Gray{Float32}(0.214783) Gray{Float32}(0.180043); Gray{Float32}(0.196478) Gray{Float32}(0.213416) … Gray{Float32}(0.132587) Gray{Float32}(-0.0135383)]         \n",
       " ColorTypes.Gray{Float32}[Gray{Float32}(0.0730137) Gray{Float32}(-0.10888) … Gray{Float32}(-0.181912) Gray{Float32}(0.239938); Gray{Float32}(-0.0656181) Gray{Float32}(-0.155031) … Gray{Float32}(-0.131014) Gray{Float32}(0.165729); … ; Gray{Float32}(-0.0980529) Gray{Float32}(-0.282158) … Gray{Float32}(0.242684) Gray{Float32}(0.41583); Gray{Float32}(0.0288336) Gray{Float32}(-0.395337) … Gray{Float32}(0.296603) Gray{Float32}(0.305097)]       \n",
       " ColorTypes.Gray{Float32}[Gray{Float32}(-0.183128) Gray{Float32}(0.011241) … Gray{Float32}(-0.114522) Gray{Float32}(0.203891); Gray{Float32}(-0.0829642) Gray{Float32}(-0.158475) … Gray{Float32}(-0.0669122) Gray{Float32}(0.261412); … ; Gray{Float32}(-0.247596) Gray{Float32}(-0.17917) … Gray{Float32}(0.43524) Gray{Float32}(0.228052); Gray{Float32}(0.0484358) Gray{Float32}(0.113559) … Gray{Float32}(0.117319) Gray{Float32}(0.0476397)]        \n",
       " ColorTypes.Gray{Float32}[Gray{Float32}(0.334834) Gray{Float32}(0.129301) … Gray{Float32}(-0.0811692) Gray{Float32}(-0.116564); Gray{Float32}(0.400003) Gray{Float32}(-0.0683667) … Gray{Float32}(-0.218576) Gray{Float32}(-0.139404); … ; Gray{Float32}(0.315416) Gray{Float32}(0.00888715) … Gray{Float32}(-0.225936) Gray{Float32}(-0.117631); Gray{Float32}(0.0746662) Gray{Float32}(0.17918) … Gray{Float32}(-0.243597) Gray{Float32}(-0.109964)]    "
      ]
     },
     "execution_count": 45,
     "metadata": {},
     "output_type": "execute_result"
    }
   ],
   "source": [
    "filters"
   ]
  },
  {
   "cell_type": "code",
   "execution_count": 46,
   "metadata": {},
   "outputs": [
    {
     "data": {
      "image/png": "[encoded data removed]",
      "text/plain": [
       "5×5 Array{Gray{Float32},2}:\n",
       " Gray{Float32}(-0.224579)   …  Gray{Float32}(0.136309)  \n",
       " Gray{Float32}(0.029705)       Gray{Float32}(0.190921)  \n",
       " Gray{Float32}(-0.176325)      Gray{Float32}(-0.0882827)\n",
       " Gray{Float32}(0.00867588)     Gray{Float32}(-0.0887297)\n",
       " Gray{Float32}(-0.177925)      Gray{Float32}(0.120995)  "
      ]
     },
     "execution_count": 46,
     "metadata": {},
     "output_type": "execute_result"
    }
   ],
   "source": [
    "filters[2]"
   ]
  },
  {
   "cell_type": "code",
   "execution_count": 47,
   "metadata": {},
   "outputs": [
    {
     "data": {
      "image/png": "[encoded data removed]",
      "text/plain": [
       "5×5 Array{Gray{Float32},2}:\n",
       " Gray{Float32}(-0.134894)    …  Gray{Float32}(-0.0626241)\n",
       " Gray{Float32}(-0.225242)       Gray{Float32}(0.085449)  \n",
       " Gray{Float32}(-0.0941872)      Gray{Float32}(-0.10128)  \n",
       " Gray{Float32}(-0.00758352)     Gray{Float32}(-0.0729489)\n",
       " Gray{Float32}(0.122044)        Gray{Float32}(0.265298)  "
      ]
     },
     "execution_count": 47,
     "metadata": {},
     "output_type": "execute_result"
    }
   ],
   "source": [
    "filters[3]"
   ]
  },
  {
   "cell_type": "code",
   "execution_count": 48,
   "metadata": {
    "scrolled": true
   },
   "outputs": [
    {
     "data": {
      "image/png": "[encoded data removed]",
      "text/plain": [
       "5×5 Array{Gray{Float32},2}:\n",
       " Gray{Float32}(-0.110987)  …  Gray{Float32}(-0.176137)\n",
       " Gray{Float32}(-0.233771)     Gray{Float32}(-0.180015)\n",
       " Gray{Float32}(0.0772826)     Gray{Float32}(0.315632) \n",
       " Gray{Float32}(0.0391833)     Gray{Float32}(0.389386) \n",
       " Gray{Float32}(0.218596)      Gray{Float32}(0.283695) "
      ]
     },
     "execution_count": 48,
     "metadata": {},
     "output_type": "execute_result"
    }
   ],
   "source": [
    "filters[4]"
   ]
  },
  {
   "cell_type": "code",
   "execution_count": 49,
   "metadata": {},
   "outputs": [
    {
     "data": {
      "image/png": "[encoded data removed]",
      "text/plain": [
       "5×5 Array{Gray{Float32},2}:\n",
       " Gray{Float32}(-0.22708)    …  Gray{Float32}(0.0601088)  \n",
       " Gray{Float32}(-0.0564925)     Gray{Float32}(0.236055)   \n",
       " Gray{Float32}(-0.140329)      Gray{Float32}(-0.0658235) \n",
       " Gray{Float32}(-0.240587)      Gray{Float32}(-0.00642295)\n",
       " Gray{Float32}(-0.0217137)     Gray{Float32}(0.0746159)  "
      ]
     },
     "execution_count": 49,
     "metadata": {},
     "output_type": "execute_result"
    }
   ],
   "source": [
    "filters[5]"
   ]
  },
  {
   "cell_type": "code",
   "execution_count": 50,
   "metadata": {},
   "outputs": [
    {
     "data": {
      "image/png": "[encoded data removed]",
      "text/plain": [
       "5×5 Array{Gray{Float32},2}:\n",
       " Gray{Float32}(0.107861)    …  Gray{Float32}(0.0919424) \n",
       " Gray{Float32}(-0.21639)       Gray{Float32}(0.00841075)\n",
       " Gray{Float32}(-0.308553)      Gray{Float32}(0.22733)   \n",
       " Gray{Float32}(-0.271673)      Gray{Float32}(0.075419)  \n",
       " Gray{Float32}(-0.0742646)     Gray{Float32}(0.141475)  "
      ]
     },
     "execution_count": 50,
     "metadata": {},
     "output_type": "execute_result"
    }
   ],
   "source": [
    "filters[6]"
   ]
  },
  {
   "cell_type": "code",
   "execution_count": 51,
   "metadata": {},
   "outputs": [
    {
     "data": {
      "image/png": "[encoded data removed]",
      "text/plain": [
       "5×5 Array{Gray{Float32},2}:\n",
       " Gray{Float32}(0.100495)    …  Gray{Float32}(0.0911655)\n",
       " Gray{Float32}(0.0347214)      Gray{Float32}(0.109522) \n",
       " Gray{Float32}(0.118188)       Gray{Float32}(0.251423) \n",
       " Gray{Float32}(-0.123571)      Gray{Float32}(-0.127997)\n",
       " Gray{Float32}(-0.0634809)     Gray{Float32}(-0.164651)"
      ]
     },
     "execution_count": 51,
     "metadata": {},
     "output_type": "execute_result"
    }
   ],
   "source": [
    "filters[7]"
   ]
  },
  {
   "cell_type": "code",
   "execution_count": 54,
   "metadata": {},
   "outputs": [
    {
     "data": {
      "image/png": "[encoded data removed]",
      "text/plain": [
       "5×5 Array{Gray{Float32},2}:\n",
       " Gray{Float32}(-0.00187039)  …  Gray{Float32}(7.87825f-6)\n",
       " Gray{Float32}(-0.203521)       Gray{Float32}(-0.13145)  \n",
       " Gray{Float32}(-0.211656)       Gray{Float32}(-0.24374)  \n",
       " Gray{Float32}(-0.141292)       Gray{Float32}(-0.252653) \n",
       " Gray{Float32}(-0.0690858)      Gray{Float32}(0.0317852) "
      ]
     },
     "execution_count": 54,
     "metadata": {},
     "output_type": "execute_result"
    }
   ],
   "source": [
    "filters[8]"
   ]
  },
  {
   "cell_type": "code",
   "execution_count": 55,
   "metadata": {},
   "outputs": [
    {
     "data": {
      "image/png": "[encoded data removed]",
      "text/plain": [
       "5×5 Array{Gray{Float32},2}:\n",
       " Gray{Float32}(-0.281794)   …  Gray{Float32}(0.0758565)\n",
       " Gray{Float32}(-0.229675)      Gray{Float32}(0.333316) \n",
       " Gray{Float32}(-0.302125)      Gray{Float32}(0.190439) \n",
       " Gray{Float32}(-0.177367)      Gray{Float32}(0.0776054)\n",
       " Gray{Float32}(-0.0499159)     Gray{Float32}(0.16401)  "
      ]
     },
     "execution_count": 55,
     "metadata": {},
     "output_type": "execute_result"
    }
   ],
   "source": [
    "filters[9]"
   ]
  },
  {
   "cell_type": "code",
   "execution_count": 56,
   "metadata": {},
   "outputs": [
    {
     "data": {
      "image/png": "[encoded data removed]",
      "text/plain": [
       "5×5 Array{Gray{Float32},2}:\n",
       " Gray{Float32}(0.0298422)  …  Gray{Float32}(0.076596) \n",
       " Gray{Float32}(0.201959)      Gray{Float32}(0.0480602)\n",
       " Gray{Float32}(0.144313)      Gray{Float32}(-0.299502)\n",
       " Gray{Float32}(0.119439)      Gray{Float32}(-0.140349)\n",
       " Gray{Float32}(0.258496)      Gray{Float32}(-0.118091)"
      ]
     },
     "execution_count": 56,
     "metadata": {},
     "output_type": "execute_result"
    }
   ],
   "source": [
    "filters[10]"
   ]
  },
  {
   "cell_type": "code",
   "execution_count": null,
   "metadata": {},
   "outputs": [],
   "source": []
  }
 ],
 "metadata": {
  "kernelspec": {
   "display_name": "Julia 0.6.4",
   "language": "julia",
   "name": "julia-0.6"
  },
  "language_info": {
   "file_extension": ".jl",
   "mimetype": "application/julia",
   "name": "julia",
   "version": "0.6.4"
  }
 },
 "nbformat": 4,
 "nbformat_minor": 2
}
